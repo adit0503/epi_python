{
 "cells": [
  {
   "cell_type": "markdown",
   "metadata": {},
   "source": [
    "# Chapter8: Stacks and Queues\n",
    "0. [Reverse using Stack](#8.0)\n",
    "1. [Implement a Stack With Max API](#8.1)\n",
    "2. [Evaluate RPN Expressions](#8.2)\n",
    "3. [Test a string over \"{} [] ()\" for Well-Formedness](#8.3)\n",
    "4. [Normalize Pathnames](#8.4)\n",
    "5. [Compute Buildings with a Sunset View](#8.5)\n",
    "6. [Compute Binary Tree Nodes in Order of Increasing Depth](#8.6)\n",
    "7. [Implement a Circular Queue](#8.7)\n",
    "8. [Implement a Queue using Stacks](#8.8)\n",
    "9. [Implement a Queue with MaxAPI](#8.9)"
   ]
  },
  {
   "cell_type": "code",
   "execution_count": null,
   "metadata": {},
   "outputs": [],
   "source": [
    "import random, string, functools, math, collections"
   ]
  },
  {
   "cell_type": "markdown",
   "metadata": {},
   "source": [
    "## Stacks"
   ]
  },
  {
   "cell_type": "markdown",
   "metadata": {},
   "source": [
    "<a id='8.0'></a>\n",
    "### 8.0 Reverse using Stack"
   ]
  },
  {
   "cell_type": "code",
   "execution_count": null,
   "metadata": {},
   "outputs": [],
   "source": [
    "class ReverseArray:\n",
    "    \n",
    "    #O(n)\n",
    "    def reverse1(self, nums):\n",
    "        stack = []\n",
    "        for n in nums:\n",
    "            stack.append(n)\n",
    "        while(stack):\n",
    "            print(stack.pop(),end=' ')"
   ]
  },
  {
   "cell_type": "code",
   "execution_count": null,
   "metadata": {},
   "outputs": [],
   "source": [
    "RA = ReverseArray()\n",
    "print(RA.reverse1([1,2,3,4,5,6,7,8,9]))"
   ]
  },
  {
   "cell_type": "markdown",
   "metadata": {},
   "source": [
    "<a id='8.1'></a>\n",
    "### [8.1 Implement a Stack With Max API](https://leetcode.com/problems/min-stack/)"
   ]
  },
  {
   "cell_type": "code",
   "execution_count": null,
   "metadata": {},
   "outputs": [],
   "source": [
    "# using the max() method on the stack\n",
    "\n",
    "class MaxStack1:\n",
    "    \n",
    "    #O()\n",
    "    def __init__(self):\n",
    "        self.stack = []\n",
    "        \n",
    "    #O(1)\n",
    "    def stackPush(self,x):\n",
    "        self.stack.append(x)\n",
    "    \n",
    "    #O(1)\n",
    "    def stackPop(self):\n",
    "        self.stack.pop()\n",
    "        \n",
    "    #O(n)\n",
    "    def stackMax(self):\n",
    "        return max(self.stack)"
   ]
  },
  {
   "cell_type": "code",
   "execution_count": null,
   "metadata": {},
   "outputs": [],
   "source": [
    "# using additional stack to keep track of the max element\n",
    "\n",
    "class MaxStack2:\n",
    "    \n",
    "    def __init__(self):\n",
    "        self.stack = []\n",
    "        self.maxstack = []\n",
    "        \n",
    "    #O(1)\n",
    "    def stackPush(self,x):\n",
    "        self.stack.append(x)\n",
    "        if not self.maxstack:\n",
    "            self.maxstack.append(x)\n",
    "        if x > self.maxstack[-1]:\n",
    "            self.maxstack.append(x)\n",
    "        else:\n",
    "            self.maxstack.append(self.maxstack[-1])\n",
    "    \n",
    "    #O(1)\n",
    "    def stackPop(self):\n",
    "        self.stack.pop()\n",
    "        self.maxstack.pop()\n",
    "        \n",
    "    #O(1)\n",
    "    def stackTop(self):\n",
    "        return self.stack[-1]\n",
    "        \n",
    "    #O(1)\n",
    "    def stackMax(self):\n",
    "        return self.maxstack[-1]"
   ]
  },
  {
   "cell_type": "code",
   "execution_count": null,
   "metadata": {},
   "outputs": [],
   "source": [
    "# optimised the above methods\n",
    "\n",
    "class MaxStack3:\n",
    "    \n",
    "    def __init__(self):\n",
    "        self.stack = []\n",
    "        self.maxstack = [-1]\n",
    "        \n",
    "    #O(1)\n",
    "    def stackPush(self,x):\n",
    "        self.stack.append(x)\n",
    "        if x>=self.stackMax():\n",
    "            self.maxstack.append(x)\n",
    "    \n",
    "    #O(1)\n",
    "    def stackPop(self):\n",
    "        if self.stack.pop() == self.stackMax():\n",
    "            self.maxstack.pop()\n",
    "        \n",
    "    #O(1)\n",
    "    def stackTop(self):\n",
    "        return self.stack[-1]\n",
    "        \n",
    "    #O(1)\n",
    "    def stackMax(self):\n",
    "        return self.maxstack[-1]"
   ]
  },
  {
   "cell_type": "markdown",
   "metadata": {},
   "source": [
    "<a id='8.2'></a>\n",
    "### [8.2 Evaluate RPN Expressions](https://leetcode.com/problems/evaluate-reverse-polish-notation/)"
   ]
  },
  {
   "cell_type": "code",
   "execution_count": null,
   "metadata": {},
   "outputs": [],
   "source": [
    "class EvaluateRPN:\n",
    "    \n",
    "    #O(n)\n",
    "    def evaluate1(self, nums):\n",
    "        def operate(a,b,op):\n",
    "            if op == '+':\n",
    "                return a+b\n",
    "            if op =='-':\n",
    "                return a-b\n",
    "            if op == '*':\n",
    "                return a*b\n",
    "            if op == '/':\n",
    "                return int(a/b)\n",
    "        \n",
    "        temp = {'+','-','*','/'}\n",
    "        stack = []\n",
    "        for n in nums:\n",
    "            if n in temp:\n",
    "                y,x = stack.pop(), stack.pop()\n",
    "                ans = operate(x,y,n)\n",
    "                stack.append(ans)\n",
    "            else:\n",
    "                stack.append(int(n))\n",
    "        return stack[-1]\n",
    "    \n",
    "    #O(n) - optimised\n",
    "    def evaluate2(self, nums):\n",
    "        temp = {\n",
    "                    '+':lambda y,x:x+y,\n",
    "                    '-':lambda y,x:x-y,\n",
    "                    '*':lambda y,x:x*y,\n",
    "                    '/':lambda y,x:int(x/y),\n",
    "                }\n",
    "        stack = []\n",
    "        for n in nums:\n",
    "            if n in temp:\n",
    "                stack.append(temp[n](stack.pop(),stack.pop()))\n",
    "            else:\n",
    "                stack.append(int(n))\n",
    "        return stack[-1]"
   ]
  },
  {
   "cell_type": "code",
   "execution_count": null,
   "metadata": {},
   "outputs": [],
   "source": [
    "ER = EvaluateRPN()\n",
    "S = [[\"2\", \"1\", \"+\", \"3\", \"*\"],[\"4\", \"13\", \"5\", \"/\", \"+\"],[\"10\", \"6\", \"9\", \"3\", \"+\", \"-11\", \"*\", \"/\", \"*\", \"17\", \"+\", \"5\", \"+\"],[\"4\",\"-2\",\"/\",\"2\",\"-3\",\"-\",\"-\"]]\n",
    "\n",
    "for s in S:\n",
    "    print(ER.evaluate2(s), end=' ')"
   ]
  },
  {
   "cell_type": "markdown",
   "metadata": {},
   "source": [
    "<a id='8.3'></a>\n",
    "### [8.3 Test a string over \"{} [] ()\" for Well-Formedness](https://leetcode.com/problems/valid-parentheses/)"
   ]
  },
  {
   "cell_type": "code",
   "execution_count": null,
   "metadata": {},
   "outputs": [],
   "source": [
    "class WellFormedness:\n",
    "     \n",
    "        #O(n)\n",
    "        def check1(self, S):\n",
    "            temp = {\n",
    "                '}':'{',\n",
    "                ')':'(',\n",
    "                ']':'[',\n",
    "            }\n",
    "            stack = []\n",
    "            for s in S:\n",
    "                if s in temp:\n",
    "                    if stack:\n",
    "                        if stack.pop() != temp[s]:\n",
    "                            return False\n",
    "                    else:\n",
    "                        return False\n",
    "                else:\n",
    "                    stack.append(s)\n",
    "            return not stack\n",
    "        \n",
    "        #O(n) - optimised and concise code\n",
    "        def check2(self, S):\n",
    "            temp = {\n",
    "                '{':'}',\n",
    "                '[':']',\n",
    "                '(':')',\n",
    "            }\n",
    "            stack = []\n",
    "            for s in S:\n",
    "                if s in temp:\n",
    "                    stack.append(s)\n",
    "                elif not stack or temp[stack.pop()] != s:\n",
    "                    return False\n",
    "            return True"
   ]
  },
  {
   "cell_type": "code",
   "execution_count": null,
   "metadata": {},
   "outputs": [],
   "source": [
    "WF = WellFormedness()\n",
    "S = [\"()\", \"()[]{}\", \"(]\", \"([)]\", \"]\"]\n",
    "\n",
    "for s in S:\n",
    "    print(WF.check2(s), end=' ')"
   ]
  },
  {
   "cell_type": "markdown",
   "metadata": {},
   "source": [
    "<a id='8.4'></a>\n",
    "### [8.4 Normalize Pathnames](https://leetcode.com/problems/simplify-path/)"
   ]
  },
  {
   "cell_type": "code",
   "execution_count": null,
   "metadata": {},
   "outputs": [],
   "source": [
    "class NormalizePathnames:\n",
    "    \n",
    "    #O(n)\n",
    "    def simplify1(self, S):\n",
    "        stack = []\n",
    "        i = 0\n",
    "        while(i<len(S)):\n",
    "            j = i+1\n",
    "            while(j<len(S) and S[j]!='/'):\n",
    "                j += 1\n",
    "            d = S[i+1:j]\n",
    "            if stack and d == '..':\n",
    "                stack.pop()\n",
    "            elif d != '' and d != '.':\n",
    "                stack.append(d)\n",
    "            i = j\n",
    "        ans = ''\n",
    "        for s in stack:\n",
    "            if s != '..':\n",
    "                ans += '/' + s\n",
    "        return '/' if not ans else ans\n",
    "    \n",
    "    def simplify2(self, S):\n",
    "        stack = []\n",
    "        if S[0] == '/':\n",
    "            stack.append('/')\n",
    "        \n",
    "        tokens = [s for s in S.split('/') if s not in ['.', '']]\n",
    "        for token in tokens:\n",
    "            if token == '..':\n",
    "                if not stack and stack[-1] == '..':\n",
    "                    stack.append(token)\n",
    "                else:\n",
    "                    if stack[-1] != '/':\n",
    "                        stack.pop()\n",
    "            else:\n",
    "                stack.append(token)\n",
    "        ans = '/'.join(stack)\n",
    "        return ans if not ans[1:] else ans[1:]"
   ]
  },
  {
   "cell_type": "code",
   "execution_count": null,
   "metadata": {},
   "outputs": [],
   "source": [
    "NP = NormalizePathnames()\n",
    "S = [\"/home/\", \"/../\", \"/home//foo/\", \"/a/./b/../../c/\", \"/a/../../b/../c//.//\", \"/a//b////c/d//././/..\"]\n",
    "\n",
    "for s in S:\n",
    "    print(NP.simplify2(s))"
   ]
  },
  {
   "cell_type": "markdown",
   "metadata": {},
   "source": [
    "<a id='8.5'></a>\n",
    "### 8.5 Compute Buildings with a Sunset View"
   ]
  },
  {
   "cell_type": "code",
   "execution_count": null,
   "metadata": {},
   "outputs": [],
   "source": []
  },
  {
   "cell_type": "markdown",
   "metadata": {},
   "source": [
    "## Queue"
   ]
  },
  {
   "cell_type": "code",
   "execution_count": null,
   "metadata": {},
   "outputs": [],
   "source": [
    "class Queue:\n",
    "    def __init__(self):\n",
    "        self._data =ccollections.deque()\n",
    "        \n",
    "    def enqueue(self,x):\n",
    "        self._data.append(x)\n",
    "        \n",
    "    def dequeue(self):\n",
    "        return self._data.popleft()"
   ]
  },
  {
   "cell_type": "markdown",
   "metadata": {},
   "source": [
    "<a id='8.6'></a>\n",
    "### [8.6 Compute Binary Tree Nodes in Order of Increasing Depth](https://leetcode.com/problems/binary-tree-level-order-traversal/)"
   ]
  },
  {
   "cell_type": "code",
   "execution_count": null,
   "metadata": {},
   "outputs": [],
   "source": [
    "class LevelOrder:\n",
    "    \n",
    "    #O(nlogn)\n",
    "    def compute1(self, root):\n",
    "        queue = [(root,0)]\n",
    "        temp = {}\n",
    "        while(queue):\n",
    "            node,lvl = queue.pop(0)\n",
    "            temp[lvl] = temp.get(lvl,[]) + [node.val]\n",
    "            \n",
    "            if node.left:\n",
    "                queue.append((node.left,lvl+1))\n",
    "            if node.right:\n",
    "                queue.append((node.right,lvl+1))\n",
    "        return [temp[k] for k in sorted(temp.keys())]\n",
    "    \n",
    "    #O(n) - time, O(m) - space; number of nodes in the tree\n",
    "    def compute2(self, root):\n",
    "        ans = []\n",
    "        if not root:\n",
    "            return ans\n",
    "        queue = [root]\n",
    "        while(queue):\n",
    "            ans.append([node.val for node in queue])\n",
    "            queue = [child for node in queue for child in (node.left, node.right) if child]\n",
    "        return ans"
   ]
  },
  {
   "cell_type": "markdown",
   "metadata": {},
   "source": [
    "### Variant6: [1. reverse LevelOrder ](https://leetcode.com/problems/binary-tree-zigzag-level-order-traversal/) &nbsp;&nbsp; [2. bottom-up LevelOrder](https://leetcode.com/problems/binary-tree-level-order-traversal-ii/) &nbsp;&nbsp; [3. average LevelOrder](https://leetcode.com/problems/average-of-levels-in-binary-tree/)"
   ]
  },
  {
   "cell_type": "code",
   "execution_count": null,
   "metadata": {},
   "outputs": [],
   "source": [
    "class Variant6:\n",
    "    \n",
    "    #O(nlogn)\n",
    "    def variant1(self, root):\n",
    "        if not root:\n",
    "            return []\n",
    "        \n",
    "        queue = [(root,0)]\n",
    "        temp = {}\n",
    "        while(queue):\n",
    "            node,lvl = queue.pop(0)\n",
    "            temp[lvl] = temp.get(lvl,[]) + [node.val]\n",
    "            \n",
    "            if node.left:\n",
    "                queue.append((node.left,lvl+1))\n",
    "            if node.right:\n",
    "                queue.append((node.right,lvl+1))\n",
    "        \n",
    "        ans = []\n",
    "        for k in sorted(temp.keys()):\n",
    "            if k%2:\n",
    "                ans.append(reversed(temp[k]))\n",
    "            else:\n",
    "                ans.append(temp[k])\n",
    "        return ans\n",
    "    \n",
    "    #O(nlogn)\n",
    "    def variant2(self, root):\n",
    "        ans = []\n",
    "        if not root:\n",
    "            return ans\n",
    "        \n",
    "        queue = [root]\n",
    "        while(queue):\n",
    "            ans.append([node.val for node in queue])\n",
    "            queue = [child for node in queue for child in (node.left, node.right) if child]\n",
    "        return reversed(ans)\n",
    "    \n",
    "    #O(nlogn)\n",
    "    def variant3(self,root):\n",
    "        if not root:\n",
    "            return []\n",
    "        \n",
    "        queue = [(queue,0)]\n",
    "        temp = {}\n",
    "        \n",
    "        while(queue):\n",
    "            node, lvl = queue.pop(0)\n",
    "            temp[lvl] = temp.get(lvl,[]) + [node.val]\n",
    "                        \n",
    "            if node.left:\n",
    "                queue.append((node.left,lvl+1))\n",
    "            if node.right:\n",
    "                queue.append((node.right,lvl+1))\n",
    "                \n",
    "        return [sum(temp[k])/len(temp/k) for k in sorted(temp.keys())]"
   ]
  },
  {
   "cell_type": "markdown",
   "metadata": {},
   "source": [
    "<a id='8.7'></a>\n",
    "### [8.7 Implement a Circular Queue](https://leetcode.com/problems/design-circular-queue/)"
   ]
  },
  {
   "cell_type": "markdown",
   "metadata": {},
   "source": [
    "### 8.8 Implement a Queue using Stacks"
   ]
  },
  {
   "cell_type": "markdown",
   "metadata": {},
   "source": [
    "### 8.9 Implement a Queue with MaxAPI"
   ]
  }
 ],
 "metadata": {
  "kernelspec": {
   "display_name": "Python 3",
   "language": "python",
   "name": "python3"
  },
  "language_info": {
   "codemirror_mode": {
    "name": "ipython",
    "version": 3
   },
   "file_extension": ".py",
   "mimetype": "text/x-python",
   "name": "python",
   "nbconvert_exporter": "python",
   "pygments_lexer": "ipython3",
   "version": "3.6.9"
  }
 },
 "nbformat": 4,
 "nbformat_minor": 4
}
