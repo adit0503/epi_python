{
 "cells": [
  {
   "cell_type": "markdown",
   "metadata": {},
   "source": [
    "# Chapter10: Heaps "
   ]
  },
  {
   "cell_type": "code",
   "execution_count": 1,
   "metadata": {},
   "outputs": [],
   "source": [
    "import heapq, itertools"
   ]
  },
  {
   "cell_type": "markdown",
   "metadata": {},
   "source": [
    "### 10.0 K-longest Strings"
   ]
  },
  {
   "cell_type": "code",
   "execution_count": null,
   "metadata": {},
   "outputs": [],
   "source": [
    "class KLongest:\n",
    "    \n",
    "    def topK1(self, S, k):\n",
    "        minHeap = [(len(s), s) for s in S[:k]]\n",
    "        heapq.heapify(minHeap)\n",
    "        for s in S[k:]:\n",
    "            heapq.heappushpop(minHeap, (len(s),s))\n",
    "#             print(minHeap)\n",
    "        return minHeap[0][1]\n",
    "    \n",
    "    #O(nlogk)\n",
    "    def topK2(self, S, k):\n",
    "        minHeap = [s for s in S[:k]]\n",
    "        heapq.heapify(minHeap)\n",
    "        for s in S[k:]:\n",
    "            heapq.heappushpop(minHeap,s) #O(logk)\n",
    "#             print(minHeap)\n",
    "        return minHeap[0]"
   ]
  },
  {
   "cell_type": "code",
   "execution_count": null,
   "metadata": {},
   "outputs": [],
   "source": [
    "KL = KLongest()\n",
    "Stream = ['Yuri', 'Interview', 'Nordstrom', 'Cat', 'AVeryLongString', 'This code puzzle is easy','Dog', 'Telephone']\n",
    "\n",
    "print(KL.topK1(Stream, 3), heapq.nlargest(3,[(len(s),s) for s in Stream]))"
   ]
  },
  {
   "cell_type": "code",
   "execution_count": null,
   "metadata": {},
   "outputs": [],
   "source": [
    "class KShortest:\n",
    "    \n",
    "    def topK1(self, S, k):\n",
    "        maxHeap = [(-len(s),s) for s in S[:k]]\n",
    "        heapq.heapify(maxHeap)\n",
    "        for s in S[k:]:\n",
    "            heapq.heappushpop(maxHeap,(-len(s),s))\n",
    "        return maxHeap[0][1]"
   ]
  },
  {
   "cell_type": "code",
   "execution_count": null,
   "metadata": {},
   "outputs": [],
   "source": [
    "KS = KShortest()\n",
    "Stream = ['Yuri', 'Interview', 'Nordstrom', 'Cat', 'AVeryLongString', 'This code puzzle is easy','Dog', 'Telephone']\n",
    "\n",
    "print(KS.topK1(Stream, 3),heapq.nsmallest(3,[(len(s),s) for s in Stream]))"
   ]
  },
  {
   "cell_type": "markdown",
   "metadata": {},
   "source": [
    "### 10.1 Merge Sorted Files"
   ]
  },
  {
   "cell_type": "code",
   "execution_count": 2,
   "metadata": {},
   "outputs": [],
   "source": [
    "class MergeSorted:\n",
    "    \n",
    "    #O(nlogk)\n",
    "    def merge1(self, L):\n",
    "        heap = [iter(l) for l in L]\n",
    "        minHeap = []\n",
    "        for i, h in enumerate(heap):\n",
    "            item = next(h,None)\n",
    "            if item is not None:\n",
    "                heapq.heappush(minHeap, (item,i))\n",
    "\n",
    "        result = []\n",
    "        while(minHeap):\n",
    "            smallestItem, i = heapq.heappop(minHeap) #O(logk)\n",
    "            currList = heap[i]\n",
    "            result.append(smallestItem)\n",
    "            nextItem = next(currList,None)\n",
    "            if nextItem is not None:\n",
    "                heapq.heappush(minHeap,(nextItem,i)) #O(logk)\n",
    "        return result\n",
    "    \n",
    "    #O(nlogk)\n",
    "    def merge2(self, L):\n",
    "        return list(heapq.merge(*L))"
   ]
  },
  {
   "cell_type": "code",
   "execution_count": null,
   "metadata": {},
   "outputs": [],
   "source": [
    "MS = MergeSorted()\n",
    "List = [[3,5,7],[0,6],[0,6,28]]\n",
    "\n",
    "print(MS.merge1(List), MS.merge2(List))"
   ]
  },
  {
   "cell_type": "markdown",
   "metadata": {},
   "source": [
    "### 10.2 Sort an Increasing-Decreasing Array "
   ]
  },
  {
   "cell_type": "code",
   "execution_count": 9,
   "metadata": {},
   "outputs": [],
   "source": [
    "class IncreasingDecreasing:\n",
    "    \n",
    "    def sort1(self, nums):\n",
    "        arr = []\n",
    "        INC, DEC = 0, 1\n",
    "        arrType = INC\n",
    "        x = 0\n",
    "        for i in range(1,len(nums)+1):\n",
    "            if (i == len(nums) or (nums[i-1]<nums[i] and arrType==DEC) or (nums[i-1]>=nums[i] and arrType==INC)):\n",
    "                arr.append(nums[x:i] if arrType==INC else nums[i-1:x-1:-1])\n",
    "                x = i\n",
    "                arrType = (DEC if arrType==INC else INC)\n",
    "        \n",
    "        print(arr)\n",
    "        MS = MergeSorted()\n",
    "        return MS.merge1(arr)"
   ]
  },
  {
   "cell_type": "code",
   "execution_count": 10,
   "metadata": {},
   "outputs": [
    {
     "name": "stdout",
     "output_type": "stream",
     "text": [
      "[[57, 131, 493], [221, 294], [339, 418, 452], [190, 442]]\n"
     ]
    },
    {
     "data": {
      "text/plain": [
       "[57, 131, 190, 221, 294, 339, 418, 442, 452, 493]"
      ]
     },
     "execution_count": 10,
     "metadata": {},
     "output_type": "execute_result"
    }
   ],
   "source": [
    "ID = IncreasingDecreasing()\n",
    "nums = [57,131,493,294,221,339,418,452,442,190]\n",
    "\n",
    "ID.sort1(nums)"
   ]
  },
  {
   "cell_type": "code",
   "execution_count": null,
   "metadata": {},
   "outputs": [],
   "source": []
  }
 ],
 "metadata": {
  "kernelspec": {
   "display_name": "Python 3",
   "language": "python",
   "name": "python3"
  },
  "language_info": {
   "codemirror_mode": {
    "name": "ipython",
    "version": 3
   },
   "file_extension": ".py",
   "mimetype": "text/x-python",
   "name": "python",
   "nbconvert_exporter": "python",
   "pygments_lexer": "ipython3",
   "version": "3.6.9"
  }
 },
 "nbformat": 4,
 "nbformat_minor": 4
}
