{
 "cells": [
  {
   "cell_type": "markdown",
   "metadata": {},
   "source": [
    "# Chapter10: Heaps "
   ]
  },
  {
   "cell_type": "code",
   "execution_count": null,
   "metadata": {},
   "outputs": [],
   "source": [
    "import heapq, itertools, random, math, string, functools"
   ]
  },
  {
   "cell_type": "markdown",
   "metadata": {},
   "source": [
    "### 10.0 K-longest Strings"
   ]
  },
  {
   "cell_type": "code",
   "execution_count": null,
   "metadata": {},
   "outputs": [],
   "source": [
    "class KLongest:\n",
    "    \n",
    "    def topK1(self, S, k):\n",
    "        minHeap = [(len(s), s) for s in S[:k]]\n",
    "        heapq.heapify(minHeap)\n",
    "        for s in S[k:]:\n",
    "            heapq.heappushpop(minHeap, (len(s),s))\n",
    "#             print(minHeap)\n",
    "        return minHeap[0][1]\n",
    "    \n",
    "    #O(nlogk)\n",
    "    def topK2(self, S, k):\n",
    "        minHeap = [s for s in S[:k]]\n",
    "        heapq.heapify(minHeap)\n",
    "        for s in S[k:]:\n",
    "            heapq.heappushpop(minHeap,s) #O(logk)\n",
    "#             print(minHeap)\n",
    "        return minHeap[0]"
   ]
  },
  {
   "cell_type": "code",
   "execution_count": null,
   "metadata": {},
   "outputs": [],
   "source": [
    "KL = KLongest()\n",
    "Stream = ['Yuri', 'Interview', 'Nordstrom', 'Cat', 'AVeryLongString', 'This code puzzle is easy','Dog', 'Telephone']\n",
    "\n",
    "print(KL.topK1(Stream, 3), heapq.nlargest(3,[(len(s),s) for s in Stream]))"
   ]
  },
  {
   "cell_type": "code",
   "execution_count": null,
   "metadata": {},
   "outputs": [],
   "source": [
    "class KShortest:\n",
    "    \n",
    "    def topK1(self, S, k):\n",
    "        maxHeap = [(-len(s),s) for s in S[:k]]\n",
    "        heapq.heapify(maxHeap)\n",
    "        for s in S[k:]:\n",
    "            heapq.heappushpop(maxHeap,(-len(s),s))\n",
    "        return maxHeap[0][1]"
   ]
  },
  {
   "cell_type": "code",
   "execution_count": null,
   "metadata": {},
   "outputs": [],
   "source": [
    "KS = KShortest()\n",
    "Stream = ['Yuri', 'Interview', 'Nordstrom', 'Cat', 'AVeryLongString', 'This code puzzle is easy','Dog', 'Telephone']\n",
    "\n",
    "print(KS.topK1(Stream, 3),heapq.nsmallest(3,[(len(s),s) for s in Stream]))"
   ]
  },
  {
   "cell_type": "markdown",
   "metadata": {},
   "source": [
    "### 10.1 Merge Sorted Files"
   ]
  },
  {
   "cell_type": "code",
   "execution_count": null,
   "metadata": {},
   "outputs": [],
   "source": [
    "class MergeSorted:\n",
    "    \n",
    "    #O(nlogk)\n",
    "    def merge1(self, L):\n",
    "        heap = [iter(l) for l in L]\n",
    "        minHeap = []\n",
    "        for i, h in enumerate(heap):\n",
    "            item = next(h,None)\n",
    "            if item is not None:\n",
    "                heapq.heappush(minHeap, (item,i))\n",
    "\n",
    "        result = []\n",
    "        while(minHeap):\n",
    "            smallestItem, i = heapq.heappop(minHeap) #O(logk)\n",
    "            currList = heap[i]\n",
    "            result.append(smallestItem)\n",
    "            nextItem = next(currList,None)\n",
    "            if nextItem is not None:\n",
    "                heapq.heappush(minHeap,(nextItem,i)) #O(logk)\n",
    "        return result\n",
    "    \n",
    "    #O(nlogk)\n",
    "    def merge2(self, L):\n",
    "        return list(heapq.merge(*L))"
   ]
  },
  {
   "cell_type": "code",
   "execution_count": null,
   "metadata": {},
   "outputs": [],
   "source": [
    "MS = MergeSorted()\n",
    "List = [[3,5,7],[0,6],[0,6,28]]\n",
    "\n",
    "print(MS.merge1(List), MS.merge2(List))"
   ]
  },
  {
   "cell_type": "markdown",
   "metadata": {},
   "source": [
    "### 10.2 Sort an Increasing-Decreasing Array "
   ]
  },
  {
   "cell_type": "code",
   "execution_count": null,
   "metadata": {},
   "outputs": [],
   "source": [
    "class IncreasingDecreasing:\n",
    "    \n",
    "    def sort1(self, nums):\n",
    "        arr = []\n",
    "        INC, DEC = 0, 1\n",
    "        arrType = INC\n",
    "        x = 0\n",
    "        for i in range(1,len(nums)+1):\n",
    "            if (i == len(nums) or (nums[i-1]<nums[i] and arrType==DEC) or (nums[i-1]>=nums[i] and arrType==INC)):\n",
    "                arr.append(nums[x:i] if arrType==INC else nums[i-1:x-1:-1])\n",
    "                x = i\n",
    "                arrType = (DEC if arrType==INC else INC)\n",
    "        \n",
    "        print(arr)\n",
    "        MS = MergeSorted()\n",
    "        return MS.merge1(arr)\n",
    "    \n",
    "    def sort2(self, nums):\n",
    "        class Monotonic:\n",
    "            def __init__(self):\n",
    "                self._last = float('-inf')\n",
    "                \n",
    "            def __call__(self, curr):\n",
    "                res = curr < self._last\n",
    "                self._last = curr\n",
    "                return res\n",
    "            \n",
    "        arr = [list(GRP)[::-1 if DEC else 1] for DEC, GRP in itertools.groupby(nums, Monotonic())]\n",
    "        MS = MergeSorted()\n",
    "        return MS.merge1(arr)"
   ]
  },
  {
   "cell_type": "code",
   "execution_count": null,
   "metadata": {},
   "outputs": [],
   "source": [
    "ID = IncreasingDecreasing()\n",
    "nums = [57,131,493,294,221,339,418,452,442,190]\n",
    "\n",
    "ID.sort2(nums)"
   ]
  },
  {
   "cell_type": "markdown",
   "metadata": {},
   "source": [
    "### 10.3 Sort an Almost Sorted Array"
   ]
  },
  {
   "cell_type": "code",
   "execution_count": null,
   "metadata": {},
   "outputs": [],
   "source": [
    "class NearlySorted:\n",
    "    \n",
    "    #O(nlogk)\n",
    "    def sort1(self, nums, k):\n",
    "        result = []\n",
    "        if not nums:\n",
    "            return result\n",
    "        \n",
    "        heap = []\n",
    "        for n in nums[:k]:\n",
    "            heapq.heappush(heap,n)\n",
    "        for n in nums[k:]:\n",
    "            result.append(heapq.heappushpop(heap,n))\n",
    "        while(heap):\n",
    "            result.append(heapq.heappop(heap))\n",
    "        return result"
   ]
  },
  {
   "cell_type": "code",
   "execution_count": null,
   "metadata": {},
   "outputs": [],
   "source": [
    "NS = NearlySorted()\n",
    "nums = [3,-1,2,6,4,5,8]\n",
    "\n",
    "NS.sort1(nums,3)"
   ]
  },
  {
   "cell_type": "markdown",
   "metadata": {},
   "source": [
    "### [10.4 Compute The K-Closest Stars](https://leetcode.com/problems/k-closest-points-to-origin/)"
   ]
  },
  {
   "cell_type": "code",
   "execution_count": null,
   "metadata": {},
   "outputs": [],
   "source": [
    "class KClosest:\n",
    "    \n",
    "    def compute1(self, nums,k):\n",
    "        def euclidean(p):\n",
    "            return (p[0]**2 + p[1]**2)\n",
    "        heap = []\n",
    "        for n in nums[:k]:\n",
    "            heapq.heappush(heap,(-1*euclidean(n),n))\n",
    "        for n in nums[k:]:\n",
    "            heapq.heappushpop(heap,(-1*euclidean(n),n))\n",
    "        \n",
    "        result = []\n",
    "        while(heap):\n",
    "            result.append(heapq.heappop(heap)[1])\n",
    "        return result"
   ]
  },
  {
   "cell_type": "code",
   "execution_count": null,
   "metadata": {},
   "outputs": [],
   "source": [
    "KC = KClosest()\n",
    "L = (([[1,3],[-2,2]],1) , ([[3,3],[5,-1],[-2,4]], 2))\n",
    "\n",
    "for l in L:\n",
    "    print(KC.compute1(l[0],l[1]))"
   ]
  },
  {
   "cell_type": "markdown",
   "metadata": {},
   "source": [
    "### Variant4: [1. Kth Largest Element in a Stream](https://leetcode.com/problems/kth-largest-element-in-a-stream/) &nbsp;&nbsp; [2.Kth Largest Element in an Unsorted Array](https://leetcode.com/problems/kth-largest-element-in-an-array/)"
   ]
  },
  {
   "cell_type": "code",
   "execution_count": null,
   "metadata": {},
   "outputs": [],
   "source": [
    "class Variant4: \n",
    "    \n",
    "    #O(nlogk) - using min heap of size k to store kth largest largest at heap[0]\n",
    "    class variant1:\n",
    "        def __init__(self, k, nums):\n",
    "            self.k = k\n",
    "            self.heap = []\n",
    "            for n in nums:\n",
    "                heapq.heappush(self.heap,n)\n",
    "                if len(self.heap) == self.k+1:\n",
    "                    heapq.heappop(self.heap)\n",
    "\n",
    "        def add(self, val):\n",
    "            if len(self.heap) < self.k:\n",
    "                heapq.heappush(self.heap,val)\n",
    "            else:\n",
    "                heapq.heappushpop(self.heap,val)\n",
    "            return self.heap[0]\n",
    "        \n",
    "    #O(nlogn)\n",
    "    def variant2A(self, nums, k):\n",
    "        nums = sorted(nums)\n",
    "        return nums[-k]\n",
    "    \n",
    "    #O(nlogk)\n",
    "    def variant2B(self, nums, k):\n",
    "        heap = []\n",
    "        for n in nums:\n",
    "            heapq.heappush(heap,n)\n",
    "            if len(heap) == k+1:\n",
    "                heapq.heappop(heap)\n",
    "        return heap[0]"
   ]
  },
  {
   "cell_type": "code",
   "execution_count": null,
   "metadata": {},
   "outputs": [],
   "source": [
    "V4 = Variant4()\n",
    "\n",
    "\n",
    "# nums = [random.randint(1,10) for _ in range(5)]\n",
    "# k = random.randint(1,5)\n",
    "# arr = [random.randint(5,15) for _ in range(10)]\n",
    "# print(nums,k,arr)\n",
    "# V1 = V4.variant1(k,nums)\n",
    "# for a in arr:\n",
    "#     print(V1.add(a), end=' ')\n",
    "\n",
    "nums = [random.randint(1,20) for _ in range(20)]\n",
    "k = random.randint(1,20)\n",
    "print(nums)\n",
    "print(k, V4.variant2B(nums,k))"
   ]
  },
  {
   "cell_type": "markdown",
   "metadata": {},
   "source": [
    "### [10.5 Compute the Median of Online Data](https://leetcode.com/problems/find-median-from-data-stream/)"
   ]
  },
  {
   "cell_type": "code",
   "execution_count": null,
   "metadata": {},
   "outputs": [],
   "source": [
    "class MedianFinder:\n",
    "\n",
    "    def __init__(self):\n",
    "        self.maxHeap = []\n",
    "        self.minHeap = []\n",
    "        self.median = 0\n",
    "\n",
    "    #O(logn)\n",
    "    def addNum(self, num):\n",
    "        heapq.heappush(self.maxHeap, -heapq.heappushpop(self.minHeap, num))\n",
    "        \n",
    "        if len(self.maxHeap) > len(self.minHeap):\n",
    "            heapq.heappush(self.minHeap, -heapq.heappop(self.maxHeap))\n",
    "            \n",
    "        if len(self.maxHeap) == len(self.minHeap):\n",
    "            self.median = 0.5*(-self.maxHeap[0]+self.minHeap[0])\n",
    "        else:\n",
    "            self.median = self.minHeap[0]\n",
    "\n",
    "    #O(1)\n",
    "    def findMedian(self):\n",
    "        return self.median"
   ]
  },
  {
   "cell_type": "code",
   "execution_count": null,
   "metadata": {},
   "outputs": [],
   "source": [
    "class FindMedian:\n",
    "    \n",
    "    def compute1(self, nums):\n",
    "        minHeap = []\n",
    "        maxHeap = []\n",
    "        result = []\n",
    "        for n in nums:\n",
    "            heapq.heappush(maxHeap, -heapq.heappushpop(minHeap,n))\n",
    "            \n",
    "            if len(maxHeap)>len(minHeap):\n",
    "                heapq.heappush(minHeap,-heapq.heappop(maxHeap))\n",
    "                \n",
    "            if len(maxHeap) == len(minHeap):\n",
    "                result.append(0.5*(-maxHeap[0]+minHeap[0]))\n",
    "            else:\n",
    "                result.append(minHeap[0])\n",
    "                          \n",
    "        return result"
   ]
  },
  {
   "cell_type": "code",
   "execution_count": null,
   "metadata": {},
   "outputs": [],
   "source": [
    "FM = FindMedian()\n",
    "nums = [1,0,3,5,2,0,1]\n",
    "\n",
    "FM.compute1(nums)"
   ]
  },
  {
   "cell_type": "markdown",
   "metadata": {},
   "source": [
    "### 10.6 Compute the K Largest Elements in a Max-Heap"
   ]
  },
  {
   "cell_type": "code",
   "execution_count": null,
   "metadata": {},
   "outputs": [],
   "source": [
    "class KLargest:\n",
    "    \n",
    "    #O(klogn)\n",
    "    def compute1(self, maxHeap, k):\n",
    "        result = []\n",
    "        for _ in range(k):\n",
    "            result.append(-heapq.heappop(maxHeap))\n",
    "        return result\n",
    "    \n",
    "    #O(klogk)\n",
    "    def compute2(self, maxHeap, k):\n",
    "        result = []\n",
    "        if k<=0:\n",
    "            return result\n",
    "        \n",
    "        tempHeap = []\n",
    "        tempHeap.append((maxHeap[0],0))\n",
    "        for _ in range(k):\n",
    "            i = tempHeap[0][1]\n",
    "            result.append(-heapq.heappop(tempHeap)[0])\n",
    "            \n",
    "            lefti = 2*i+1\n",
    "            if lefti<len(maxHeap):\n",
    "                heapq.heappush(tempHeap, (maxHeap[lefti],lefti))\n",
    "                \n",
    "            righti = 2*i+2\n",
    "            if righti<len(maxHeap):\n",
    "                heapq.heappush(tempHeap,(maxHeap[righti],righti))\n",
    "            \n",
    "            print(tempHeap)\n",
    "                \n",
    "        return result"
   ]
  },
  {
   "cell_type": "code",
   "execution_count": null,
   "metadata": {},
   "outputs": [],
   "source": [
    "KL = KLargest()\n",
    "nums = [random.randint(-999,-100) for _ in range(8)]\n",
    "k = 4\n",
    "heapq.heapify(nums)\n",
    "\n",
    "# print(nums, KL.compute1(nums,k))\n",
    "print(nums, KL.compute2(nums,k))"
   ]
  }
 ],
 "metadata": {
  "kernelspec": {
   "display_name": "Python 3",
   "language": "python",
   "name": "python3"
  },
  "language_info": {
   "codemirror_mode": {
    "name": "ipython",
    "version": 3
   },
   "file_extension": ".py",
   "mimetype": "text/x-python",
   "name": "python",
   "nbconvert_exporter": "python",
   "pygments_lexer": "ipython3",
   "version": "3.6.9"
  }
 },
 "nbformat": 4,
 "nbformat_minor": 4
}
