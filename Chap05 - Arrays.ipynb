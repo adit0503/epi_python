{
 "cells": [
  {
   "cell_type": "markdown",
   "metadata": {},
   "source": [
    "## Chapter 5: Arrays\n",
    "0. [Even Before Odd](#5.0)\n",
    "1. [The Dutch National Flag Problem](#5.1)\n",
    "2. [Increment An Arbitary-Precision Integer](#5.2)\n",
    "3. [Multiply Two Arbitary-Precision Integers](#5.3)\n",
    "4. [Advancing Through an Array](#5.4)\n",
    "5. [Delete Duplications From a Sorted Array](#5.5)\n",
    "6. [Buy and Sell a Stock Once](#5.6)\n",
    "7. [Buy and Sell a Stock Twice*](#5.7)\n",
    "8. [Computing an Alternation](#5.8)\n",
    "9. [Enumerate All Primes to N](#5.9)\n",
    "10. [Permute the Elements of An Array](#5.10)\n",
    "11. [Compute the Next Permutation](#5.11)\n",
    "12. [](#5.12)\n",
    "13. [](#5.13)\n",
    "14. [](#5.14)\n",
    "15. [](#5.15)\n",
    "16. [](#5.16)\n",
    "17. [The Sudoku Checker Problem](#5.17)\n",
    "18. [Compute the Spiral Ordering of a 2D Array](#5.18)\n",
    "19. [Rotate a 2D Array](#5.19)\n",
    "20. [Compute Rows in Pascals Triangle](#5.20)"
   ]
  },
  {
   "cell_type": "code",
   "execution_count": 1,
   "metadata": {},
   "outputs": [],
   "source": [
    "import sys, random, collections, math\n",
    "\n",
    "def Pmatrix(matrix):\n",
    "    n = len(matrix)\n",
    "    for i in range(n):\n",
    "        print(matrix[i])"
   ]
  },
  {
   "cell_type": "markdown",
   "metadata": {},
   "source": [
    "<a id='5.0'></a>\n",
    "### [5.0 Even before Odd](https://leetcode.com/problems/sort-array-by-parity/)"
   ]
  },
  {
   "cell_type": "code",
   "execution_count": 2,
   "metadata": {},
   "outputs": [],
   "source": [
    "class EvenOdd:\n",
    "    \n",
    "    #O(n) - two pointers and swap\n",
    "    def sortByParity(self,nums):\n",
    "        i = 0\n",
    "        j = len(nums)-1\n",
    "        while(i<j):\n",
    "            if nums[i]%2 != 0:\n",
    "                nums[i],nums[j] = nums[j],nums[i]\n",
    "                j -= 1\n",
    "            else:\n",
    "                i += 1\n",
    "        return nums"
   ]
  },
  {
   "cell_type": "code",
   "execution_count": 3,
   "metadata": {},
   "outputs": [],
   "source": [
    "nums = [i for i in range(21)]"
   ]
  },
  {
   "cell_type": "code",
   "execution_count": 4,
   "metadata": {},
   "outputs": [
    {
     "data": {
      "text/plain": [
       "[6, 12, 16, 18, 2, 8, 10, 20, 14, 0, 4, 7, 1, 15, 17, 5, 13, 11, 19, 3, 9]"
      ]
     },
     "execution_count": 4,
     "metadata": {},
     "output_type": "execute_result"
    }
   ],
   "source": [
    "EO = EvenOdd()\n",
    "\n",
    "random.shuffle(nums)\n",
    "EO.sortByParity(nums)"
   ]
  },
  {
   "cell_type": "markdown",
   "metadata": {},
   "source": [
    "<a id='5.1'></a>\n",
    "### [5.1 The Dutch National Flag Problem](https://leetcode.com/problems/sort-colors/)"
   ]
  },
  {
   "cell_type": "code",
   "execution_count": 5,
   "metadata": {},
   "outputs": [],
   "source": [
    "class SortColors:\n",
    "    \n",
    "    #O(n2) - using insertion sort \n",
    "    def sortColor1(self,nums):\n",
    "        i  = 0\n",
    "        while(i<len(nums)):\n",
    "            temp = nums[i]\n",
    "            j = i\n",
    "            while(j>0 and nums[j-1]>temp):\n",
    "                nums[j] = nums[j-1]\n",
    "                j -= 1 \n",
    "            nums[j] = temp\n",
    "            i += 1\n",
    "        return nums\n",
    "                \n",
    "    #O(n2) - using count dict\n",
    "    def sortColor2(self,nums):\n",
    "        temp = {}\n",
    "        for n in nums:\n",
    "            temp[n] = temp.get(n,0) + 1\n",
    "\n",
    "        i = 0\n",
    "        for t in range(3):\n",
    "                for _ in range(temp.get(t,0)):\n",
    "                    nums[i] = t\n",
    "                    i+=1\n",
    "        return nums\n",
    "\n",
    "    #O(n) - first bring all 0 to front, then all 1\n",
    "    def sortColor3(self,nums):\n",
    "        i = 0\n",
    "        j = len(nums)-1\n",
    "\n",
    "        def swap(nums,i,j,k):\n",
    "            while(i<=j):\n",
    "                if nums[i]!=k:\n",
    "                    nums[i],nums[j] = nums[j],nums[i]\n",
    "                    j -= 1\n",
    "                else:\n",
    "                    i += 1\n",
    "            return i\n",
    "\n",
    "        i = swap(nums,i,j,0)\n",
    "        swap(nums,i,j,1)\n",
    "        \n",
    "        return nums\n",
    "\n",
    "    #O(n) - using bucket sort\n",
    "    def sortColor4(self,nums):\n",
    "        temp = [0 for _ in range(3)]\n",
    "        for n in nums:\n",
    "            temp[n] += 1\n",
    "\n",
    "        for i in range(1,len(temp)):\n",
    "            temp[i] += temp[i-1]\n",
    "\n",
    "        ans = [0 for _ in range(len(nums))]\n",
    "        for n in nums[::-1]:\n",
    "            index = temp[n]\n",
    "            ans[index-1] = n\n",
    "            temp[n] -= 1\n",
    "\n",
    "        nums[:] = ans[:]\n",
    "        return nums\n",
    "    \n",
    "    #O(n) - using quick sort\n",
    "    def sortColor5(self,nums):\n",
    "        pivot = 1\n",
    "        i,j = 0,len(nums)-1\n",
    "        k = 0\n",
    "        while(k<=j):\n",
    "            if nums[k] < pivot:\n",
    "                nums[i],nums[k] = nums[k],nums[i]\n",
    "                k += 1\n",
    "                i += 1\n",
    "            elif nums[k] == pivot:\n",
    "                k += 1\n",
    "            else:\n",
    "                nums[k],nums[j] = nums[j],nums[k]\n",
    "                j -= 1\n",
    "        return nums"
   ]
  },
  {
   "cell_type": "code",
   "execution_count": 6,
   "metadata": {},
   "outputs": [
    {
     "name": "stdout",
     "output_type": "stream",
     "text": [
      "[0, 0, 0, 0, 0, 0, 1, 1, 1, 1, 1, 2, 2, 2, 2, 2, 2, 2, 2]\n"
     ]
    }
   ],
   "source": [
    "SC = SortColors()\n",
    "nums = [2,0,1,2,2,1,0,0,2,1,2,0,2,1,1,2,0,2,0]\n",
    "\n",
    "print(SC.sortColor5(nums))"
   ]
  },
  {
   "cell_type": "markdown",
   "metadata": {},
   "source": [
    "### Variant1: [3. Move Zeros](https://leetcode.com/problems/move-zeroes/)"
   ]
  },
  {
   "cell_type": "code",
   "execution_count": 7,
   "metadata": {},
   "outputs": [],
   "source": [
    "class Variant1:\n",
    "    \n",
    "    #O(n) - sort array of numbers with only 4 distinct values\n",
    "    def variant1(self,nums):\n",
    "        \n",
    "        def partition(nums,pivot):\n",
    "            i,j = 0, len(nums)-1\n",
    "            k = 0\n",
    "            while(k<=j):\n",
    "                if nums[k] < pivot:\n",
    "                    nums[k],nums[i] = nums[i],nums[k]\n",
    "                    k += 1\n",
    "                    i += 1\n",
    "                elif nums[k] == pivot:\n",
    "                    k += 1\n",
    "                else:\n",
    "                    nums[k],nums[j] = nums[j],nums[k]\n",
    "                    j -= 1\n",
    "        partition(nums,1)\n",
    "        partition(nums,2)\n",
    "        return nums\n",
    "    \n",
    "    def variant2(self,nums):\n",
    "        \n",
    "        i,j = 0, len(nums)-1\n",
    "        while(i<=j):\n",
    "            if nums[i] != 0:\n",
    "                nums[i],nums[j] = nums[j],nums[i]\n",
    "                j -= 1\n",
    "            else:\n",
    "                i += 1\n",
    "        return nums\n",
    "    \n",
    "    def variant3A(self,nums):\n",
    "        i,j = len(nums)-1, len(nums)-1\n",
    "        while(j > -1):\n",
    "            if nums[j] != 0:\n",
    "                nums[j],nums[i] = nums[i],nums[j]\n",
    "                i -= 1\n",
    "            j -= 1\n",
    "        return nums\n",
    "    \n",
    "    def variant3B(self,nums):\n",
    "        i,j = len(nums)-1, len(nums)-1\n",
    "        while(i>-1):\n",
    "            if nums[i]!=0:\n",
    "                nums[j] = nums[i]\n",
    "                j -= 1\n",
    "            i -= 1 \n",
    "        while(j > -1):\n",
    "            nums[j] = 0\n",
    "            j -= 1\n",
    "            \n",
    "        return nums"
   ]
  },
  {
   "cell_type": "code",
   "execution_count": 8,
   "metadata": {},
   "outputs": [
    {
     "name": "stdout",
     "output_type": "stream",
     "text": [
      "[0, 0, 0, 0, 0, 1, 1, 1, 1, 1, 1, 2, 2, 2, 2, 2, 2, 2, 3, 3]\n",
      "[0, 0, 0, 0, 0, 0, 0, 0, 0, 0, 1, 1, 1, 1, 1, 1, 1, 1, 1, 1, 1, 1, 1, 1, 1]\n",
      "[1, 0, 2, 0, 1, 2, 1, 0, 0, 2, 1, 0, 3, 1, 4, 3, 2, 0, 4, 1, 2, 3, 0, 2, 3]\n",
      "[0, 0, 0, 0, 0, 0, 0, 1, 2, 1, 2, 1, 2, 1, 3, 1, 4, 3, 2, 4, 1, 2, 3, 2, 3]\n",
      "[0, 0, 0, 0, 0, 0, 0, 1, 2, 1, 2, 1, 2, 1, 3, 1, 4, 3, 2, 4, 1, 2, 3, 2, 3]\n"
     ]
    }
   ],
   "source": [
    "V1 = Variant1()\n",
    "\n",
    "print(V1.variant1([random.randrange(4) for _ in range(20)]))\n",
    "\n",
    "print(V1.variant2([random.randrange(2) for _ in range(25)]))\n",
    "\n",
    "nums = [random.randrange(5) for _ in range(25)]\n",
    "print(nums)\n",
    "print(V1.variant3A(nums))\n",
    "print(V1.variant3B(nums))"
   ]
  },
  {
   "cell_type": "markdown",
   "metadata": {},
   "source": [
    "<a id='5.2'></a>\n",
    "### [5.2 Increment An Arbitary-Precision Integer](https://leetcode.com/problems/plus-one/)"
   ]
  },
  {
   "cell_type": "code",
   "execution_count": 9,
   "metadata": {},
   "outputs": [],
   "source": [
    "class IncrementArrayInteger:\n",
    "    \n",
    "    #O(n2) - using conversion\n",
    "    def addOne0(self,nums):\n",
    "        N = 0\n",
    "        for i in range(len(nums)):\n",
    "            N = N*10 + nums[i]\n",
    "        return list(map(lambda x:int(x), list(str(N+1))))\n",
    "    \n",
    "    #O(n) - using carry \n",
    "    def addOne1(self,nums):\n",
    "        carry = 1\n",
    "        i = len(nums) - 1\n",
    "        while(i > -1):\n",
    "            add = nums[i] + carry\n",
    "            nums[i] = add%10\n",
    "            carry = add//10\n",
    "            i -= 1\n",
    "        if carry:\n",
    "            nums.insert(0,carry)\n",
    "        return nums\n",
    "    \n",
    "    #O(n) - using carryin & carryout (without using % and //)\n",
    "    def addOne2(self,nums):\n",
    "        nums[-1] += 1\n",
    "        i = len(nums)-1\n",
    "        while(i>0):\n",
    "            if nums[i] != 10:\n",
    "                break\n",
    "            nums[i] = 0\n",
    "            nums[i-1] += 1\n",
    "            i -= 1\n",
    "            \n",
    "        if nums[0] == 10:\n",
    "            nums[0] = 1\n",
    "            nums.append(0)\n",
    "        \n",
    "        return nums"
   ]
  },
  {
   "cell_type": "code",
   "execution_count": 10,
   "metadata": {},
   "outputs": [
    {
     "name": "stdout",
     "output_type": "stream",
     "text": [
      "[2, 4, 0, 5, 3]\n",
      "[2, 4, 0, 5, 4]\n"
     ]
    }
   ],
   "source": [
    "IAI = IncrementArrayInteger()\n",
    "convert = lambda x:int(x)\n",
    "nums = list(map(convert, list(str(random.randrange(2**15-1)))))\n",
    "\n",
    "print(nums)\n",
    "# print(IAI.addOne0(nums))\n",
    "# print(IAI.addOne1(nums))\n",
    "print(IAI.addOne2(nums))"
   ]
  },
  {
   "cell_type": "markdown",
   "metadata": {},
   "source": [
    "### Variant2: [1. Add Binary](https://leetcode.com/problems/add-binary/)"
   ]
  },
  {
   "cell_type": "code",
   "execution_count": 11,
   "metadata": {},
   "outputs": [],
   "source": [
    "class Variant2:\n",
    "    \n",
    "    #O(n) - padding the shorter string and adding from LSB to MSB\n",
    "    def variant1A(self,b1,b2):\n",
    "        \n",
    "        def padding(S,n):\n",
    "            S = list(S)\n",
    "            while(n>0):\n",
    "                S.insert(0,'0')\n",
    "                n -= 1\n",
    "            return ''.join(S)\n",
    "        \n",
    "        if len(b1)>len(b2):\n",
    "            b2 = padding(b2,len(b1)-len(b2))\n",
    "        else:\n",
    "            b1 = padding(b1,len(b2)-len(b1))\n",
    "        \n",
    "        i,carry = len(b1)-1,0\n",
    "        S = ''\n",
    "        while(i>-1):\n",
    "            add = int(b1[i]) + int(b2[i]) + carry\n",
    "            S += str(add%2)\n",
    "            carry = add//2\n",
    "            i -= 1\n",
    "        if carry:\n",
    "            S += str(carry)\n",
    "        \n",
    "        return S[::-1]\n",
    "    \n",
    "    #O(n) - padding with if-else statement\n",
    "    def variant1B(self,b1,b2):\n",
    "        i,j = len(b1)-1, len(b2)-1\n",
    "        carry = 0\n",
    "        S = ''\n",
    "        while(i>-1 or j>-1):\n",
    "            x = int(b1[i]) if i>-1 else 0\n",
    "            y = int(b2[j]) if j>-1 else 0\n",
    "            \n",
    "            add = x+y+carry\n",
    "            S += str(add%2)\n",
    "            carry = add//2\n",
    "            \n",
    "            i-=1\n",
    "            j-=1\n",
    "        \n",
    "        if carry:\n",
    "            S += str(carry)\n",
    "        \n",
    "        return S[::-1] "
   ]
  },
  {
   "cell_type": "code",
   "execution_count": 12,
   "metadata": {},
   "outputs": [
    {
     "data": {
      "text/plain": [
       "'10101'"
      ]
     },
     "execution_count": 12,
     "metadata": {},
     "output_type": "execute_result"
    }
   ],
   "source": [
    "V2 = Variant2()\n",
    "\n",
    "V2.variant1B('1010','1011')"
   ]
  },
  {
   "cell_type": "markdown",
   "metadata": {},
   "source": [
    "<a id='5.3'></a>\n",
    "### [5.3 Multiply Two Arbitary-Precision Integers](https://leetcode.com/problems/multiply-strings/)"
   ]
  },
  {
   "cell_type": "code",
   "execution_count": 13,
   "metadata": {},
   "outputs": [],
   "source": [
    "class MultiplyArrayInteger:\n",
    "    \n",
    "    #O(n*m) - first multiply by each digit then add to result\n",
    "    def multiply1(Self,nums1,nums2):\n",
    "        nums1 = list(nums1)\n",
    "        nums2 = list(nums2)\n",
    "        \n",
    "        def addTwoIntegerArray(A,B):\n",
    "            ans = []\n",
    "            i,j = len(A)-1,len(B)-1\n",
    "            carry = 0\n",
    "            while(i>-1 or j>-1):\n",
    "                a = A[i] if i>-1 else 0\n",
    "                b = B[j] if j>-1 else 0\n",
    "                add = a + b + carry\n",
    "                ans.append(add%10)\n",
    "                carry = add//10\n",
    "                i -= 1\n",
    "                j -= 1\n",
    "            if carry:\n",
    "                ans.append(carry)\n",
    "            return ans[::-1]\n",
    "        \n",
    "        def multiplyWithOneDigit(N,d):\n",
    "            nums = list(N)\n",
    "            i = len(nums)-1\n",
    "            carry = 0\n",
    "            while(i>-1):\n",
    "                mul = nums[i]*d + carry\n",
    "                nums[i] = mul%10\n",
    "                carry = mul//10\n",
    "                i -= 1\n",
    "            if carry:\n",
    "                nums.insert(0,carry)\n",
    "            return nums\n",
    "        \n",
    "        sign = 1\n",
    "        if nums1[0] == '-':\n",
    "            sign *= -1\n",
    "            nums1.pop(0)\n",
    "            \n",
    "        if nums2[0] == '-':\n",
    "            sign *= -1\n",
    "            nums2.pop(0)\n",
    "                    \n",
    "        ans = []\n",
    "        j = len(nums2)-1\n",
    "        i = 0\n",
    "        while(j>-1):\n",
    "            ans = addTwoIntegerArray(ans,multiplyWithOneDigit(nums1,nums2[j])+[0]*i)\n",
    "            j -= 1\n",
    "            i += 1\n",
    "        ans[0] *= sign\n",
    "        return ans\n",
    "    \n",
    "    #O(nm) - using inplace multiplication and addition with result array of length n+m\n",
    "    def multiply2(self,nums1,nums2):\n",
    "        nums1 = list(nums1)\n",
    "        nums2 = list(nums2)\n",
    "        \n",
    "        sign = 1\n",
    "        if nums1[0] == '-':\n",
    "            sign *= -1\n",
    "            nums1.pop(0)\n",
    "            \n",
    "        if nums2[0] == '-':\n",
    "            sign *= -1\n",
    "            nums2.pop(0)\n",
    "        \n",
    "        ans = [0]*(len(nums1)+len(nums2))\n",
    "        for i in reversed(range(len(nums1))):\n",
    "            for j in reversed(range(len(nums2))):\n",
    "                ans[i+j+1] += nums1[i]*nums2[j]\n",
    "                ans[i+j] += ans[i+j+1]//10\n",
    "                ans[i+j+1] %= 10\n",
    "        \n",
    "        ans = ans[next((i for i,x in enumerate(ans) if x!=0),len(ans)):] or [0]\n",
    "        \n",
    "        ans[0] *= sign\n",
    "        return ans"
   ]
  },
  {
   "cell_type": "code",
   "execution_count": 14,
   "metadata": {},
   "outputs": [
    {
     "name": "stdout",
     "output_type": "stream",
     "text": [
      "[1, 0, 9] * [8, 8] = [9, 5, 9, 2]\n"
     ]
    }
   ],
   "source": [
    "MAI = MultiplyArrayInteger()\n",
    "convert = lambda x:int(x) if x.isnumeric() else '-'\n",
    "\n",
    "x = list(map(convert,list(str(random.randint(-2**7,2**7-1)))))\n",
    "y = list(map(convert,list(str(random.randint(-2**7,2**7-1)))))\n",
    "\n",
    "print(f'{x} * {y} = {MAI.multiply2(x,y)}')"
   ]
  },
  {
   "cell_type": "markdown",
   "metadata": {},
   "source": [
    "<a id='5.4'></a>\n",
    "### [5.4 Advancing Through an Array](https://leetcode.com/problems/jump-game/)"
   ]
  },
  {
   "cell_type": "code",
   "execution_count": 15,
   "metadata": {},
   "outputs": [],
   "source": [
    "class AdvanceThroughArray:\n",
    "    \n",
    "    #O(2^n) - TLE: using simple recurrsion for each poisition\n",
    "    def jumpGame1(self,nums):\n",
    "        def recurrsiveJump(nums,i):\n",
    "            if i == len(nums)-1:\n",
    "                return True\n",
    "            furthest = min(i+nums[i],len(nums)-1)\n",
    "            for k in range(furthest,i,-1):\n",
    "                if recurrsiveJump(nums,k):\n",
    "                    return True\n",
    "            return False\n",
    "        \n",
    "        return recurrsiveJump(nums,0)\n",
    "    \n",
    "    #O(n) - Greedy Solution\n",
    "    def jumpGame2(self,nums):\n",
    "        furthest, l = 0, len(nums)-1\n",
    "        i = 0\n",
    "        while(i<=furthest and furthest<l):\n",
    "            furthest = max(furthest,nums[i]+i)\n",
    "            i += 1\n",
    "        return furthest >= l\n",
    "    \n",
    "    #O(n2) - TLE: Dynammic Programming (recurrsion) with Good and Bad Index\n",
    "    def jumpGame3(self,nums):\n",
    "        \n",
    "        def recurrsiveJump(ans,i,memo):\n",
    "            if memo[0][i] != '':\n",
    "                return True if memo[0][i] == 'G' else False\n",
    "            \n",
    "            furthest = min(i+nums[i], len(nums)-1)\n",
    "            for k in range(i+1,furthest+1):\n",
    "                if recurrsiveJump(nums,k,memo):\n",
    "                    memo[0][i] = 'G'\n",
    "                    return True\n",
    "                \n",
    "            memo[0][i] = 'B'\n",
    "            return False\n",
    "        \n",
    "        memo = [['']*(len(nums))]\n",
    "        memo[0][-1] = 'G'\n",
    "        return recurrsiveJump(nums,0,memo)\n",
    "    \n",
    "    #O(n2) - TLE: Dynammic Programming (without recurrsion) right to left traversal\n",
    "    def jumpGame4(self,nums):\n",
    "        memo = ['']*len(nums)\n",
    "        memo[-1] = 'G'\n",
    "        \n",
    "        i = len(nums)-2\n",
    "        while(i>-1):\n",
    "            furthest = min(i+nums[i],len(nums)-1)\n",
    "            j = i+1\n",
    "            while(j<=furthest):\n",
    "                if memo[j] == 'G':\n",
    "                    memo[i] = 'G'\n",
    "                    break\n",
    "                j += 1\n",
    "            i -= 1\n",
    "        return memo[0] == 'G'\n",
    "    \n",
    "    #O(n)  -Greedy from right to left\n",
    "    def jumpGame5(self,nums):\n",
    "        K = len(nums)-1\n",
    "        \n",
    "        i = len(nums)-1\n",
    "        while(i>-1):\n",
    "            if i+nums[i] >= K:\n",
    "                K = i\n",
    "            i -= 1\n",
    "        return K == 0"
   ]
  },
  {
   "cell_type": "code",
   "execution_count": 16,
   "metadata": {},
   "outputs": [
    {
     "name": "stdout",
     "output_type": "stream",
     "text": [
      "[3, 3, 0, 0, 3, 3, 1, 3]\n",
      "True True True True True\n"
     ]
    }
   ],
   "source": [
    "ATA = AdvanceThroughArray()\n",
    "nums = [random.randint(0,3) for _ in range(8)]\n",
    "\n",
    "print(nums)\n",
    "print(ATA.jumpGame1(nums),ATA.jumpGame2(nums),ATA.jumpGame3(nums),ATA.jumpGame4(nums),ATA.jumpGame5(nums))"
   ]
  },
  {
   "cell_type": "markdown",
   "metadata": {},
   "source": [
    "### Variant4: [1. Jump Game II](https://leetcode.com/problems/jump-game-ii/)"
   ]
  },
  {
   "cell_type": "code",
   "execution_count": 17,
   "metadata": {},
   "outputs": [],
   "source": [
    "class Variant4:\n",
    "    \n",
    "    #O(n) - the greedy approach\n",
    "    def variant1(self,nums):\n",
    "        i = 0 #startPos\n",
    "        j = 0 #currEndPos\n",
    "        furthest = 0\n",
    "        jumps = 0\n",
    "        while(i<len(nums)):\n",
    "            furthest = max(furthest,i+nums[i])\n",
    "            if i==j:\n",
    "                j = furthest\n",
    "                jumps += 1\n",
    "            i += 1\n",
    "        return jumps"
   ]
  },
  {
   "cell_type": "code",
   "execution_count": 18,
   "metadata": {},
   "outputs": [
    {
     "name": "stdout",
     "output_type": "stream",
     "text": [
      "[3, 2, 1, 1, 0, 2, 2, 1]\n",
      "3\n"
     ]
    }
   ],
   "source": [
    "V4 = Variant4()\n",
    "nums = [random.randint(0,3) for _ in range(8)]\n",
    "\n",
    "print(nums)\n",
    "print(V4.variant1(nums))"
   ]
  },
  {
   "cell_type": "markdown",
   "metadata": {},
   "source": [
    "<a id='5.5'></a>\n",
    "### [5.5 Delete Duplications From a Sorted Array](https://leetcode.com/problems/remove-duplicates-from-sorted-array/) "
   ]
  },
  {
   "cell_type": "code",
   "execution_count": 19,
   "metadata": {},
   "outputs": [],
   "source": [
    "class DeleteDuplicates:\n",
    "    \n",
    "    #O(n) - using a set to keep track of duplicates\n",
    "    def delete0(self,nums):\n",
    "        nums = list(nums)\n",
    "        temp = set()\n",
    "        i,j = 0,0\n",
    "        while(i<len(nums)):\n",
    "            if nums[i] not in temp:\n",
    "                nums[j] = nums[i]\n",
    "                temp.add(nums[i])\n",
    "                j += 1\n",
    "            i += 1\n",
    "        return nums[:j]\n",
    "                \n",
    "    #O(n) - without using additional space\n",
    "    def delete1(self,nums):\n",
    "        nums = list(nums)\n",
    "        i = 0\n",
    "        k = 0\n",
    "        while(i<len(nums)):\n",
    "            j = i+1\n",
    "            while(j<len(nums) and nums[i]==nums[j]):\n",
    "                j += 1\n",
    "            nums[k] = nums[i]\n",
    "            i = j\n",
    "            k += 1\n",
    "        return nums[:k]\n",
    "    \n",
    "    #O(n) - comparing adjacent values: optimization of above method\n",
    "    def delete2(self,nums):\n",
    "        nums = list(nums)\n",
    "        i,j = 0,0\n",
    "        while(i<len(nums)):\n",
    "            if nums[j] != nums[i]:\n",
    "                j += 1\n",
    "                nums[j] = nums[i]\n",
    "            i += 1\n",
    "        return nums[:j+1]\n",
    "    \n",
    "    #O(n) - using only one pointer and increment only if n > nums[n-1]\n",
    "    def delete3(self,nums):\n",
    "        nums = list(nums)\n",
    "        i = 0\n",
    "        for n in nums:\n",
    "            if i < 1 or n > nums[i-1]:\n",
    "                nums[i] = n\n",
    "                i += 1\n",
    "        return nums[:i]  "
   ]
  },
  {
   "cell_type": "code",
   "execution_count": 20,
   "metadata": {},
   "outputs": [
    {
     "name": "stdout",
     "output_type": "stream",
     "text": [
      "[0, 0, 0, 0, 0, 0, 0, 1, 1, 1, 1, 2, 2, 3, 3, 3, 3, 3, 3, 4]\n",
      "[0, 1, 2, 3, 4] [0, 1, 2, 3, 4] [0, 1, 2, 3, 4] [0, 1, 2, 3, 4]\n"
     ]
    }
   ],
   "source": [
    "DD = DeleteDuplicates()\n",
    "nums = [random.randint(0,4) for _ in range(20)]\n",
    "nums.sort()\n",
    "\n",
    "print(nums)\n",
    "print(DD.delete0(nums),DD.delete0(nums),DD.delete2(nums),DD.delete3(nums))"
   ]
  },
  {
   "cell_type": "markdown",
   "metadata": {},
   "source": [
    "### Variant5: [1. Remove Element](https://leetcode.com/problems/remove-element/)  &nbsp;&nbsp; [2. Remove Duplicates II](https://leetcode.com/problems/remove-duplicates-from-sorted-array-ii/)"
   ]
  },
  {
   "cell_type": "code",
   "execution_count": 21,
   "metadata": {},
   "outputs": [],
   "source": [
    "class Variant5:\n",
    "    \n",
    "    def variant1(self,nums,k):\n",
    "        nums = list(nums)\n",
    "        i,j = 0,0\n",
    "        while(i<len(nums)):\n",
    "            if nums[i] != k:\n",
    "                nums[i],nums[j] = nums[j],nums[i]\n",
    "                j += 1\n",
    "            i += 1\n",
    "        return nums[:j]\n",
    "    \n",
    "    #O(n) - using \n",
    "    def variant2A(self,nums,m):\n",
    "        nums = list(nums)\n",
    "        i, k = 0, 0\n",
    "        while(i<len(nums)):\n",
    "            j = i\n",
    "            while(j<len(nums) and nums[j]==nums[i]):\n",
    "                j += 1\n",
    "            d = min(j-i,m)\n",
    "            while(d):\n",
    "                nums[k] = nums[i]\n",
    "                d -= 1\n",
    "                k += 1\n",
    "            i = j\n",
    "        return nums[:k]\n",
    "    \n",
    "    \n",
    "    def variant2B(self,nums,m):\n",
    "        nums = list(nums)\n",
    "        i = 0\n",
    "        for n in nums:\n",
    "            if i < m or n > nums[i-m]:\n",
    "                nums[i] = n\n",
    "                i += 1\n",
    "        return nums[:i]"
   ]
  },
  {
   "cell_type": "code",
   "execution_count": 22,
   "metadata": {},
   "outputs": [
    {
     "name": "stdout",
     "output_type": "stream",
     "text": [
      "[0, 0, 1, 2, 2, 2, 2, 2, 2, 2, 3, 3, 3, 3, 3, 3, 3, 4, 4, 4]\n"
     ]
    },
    {
     "data": {
      "text/plain": [
       "[0, 0, 1, 2, 2, 2, 2, 2, 3, 3, 3, 3, 3, 4, 4, 4]"
      ]
     },
     "execution_count": 22,
     "metadata": {},
     "output_type": "execute_result"
    }
   ],
   "source": [
    "V5 = Variant5()\n",
    "nums = [random.randint(0,4) for _ in range(20)]\n",
    "\n",
    "# print(nums)\n",
    "# V5.variant1(nums,2)\n",
    "\n",
    "nums.sort()\n",
    "print(nums)\n",
    "V5.variant2B(nums,5)"
   ]
  },
  {
   "cell_type": "markdown",
   "metadata": {},
   "source": [
    "<a id='5.6'></a>\n",
    "### [5.6 Buy and Sell a Stock Once](https://leetcode.com/problems/best-time-to-buy-and-sell-stock/)"
   ]
  },
  {
   "cell_type": "code",
   "execution_count": 23,
   "metadata": {},
   "outputs": [],
   "source": [
    "class BuySellStockOnce:\n",
    "    \n",
    "    #O(n) - min value seen so far\n",
    "    def maxProfit1(self, nums):\n",
    "        if not nums:\n",
    "            return 0\n",
    "        \n",
    "        ans = 0\n",
    "        minValue = nums[0]\n",
    "        \n",
    "        for n in nums:\n",
    "            profit = n - minValue\n",
    "            \n",
    "            minValue = min(minValue,n)\n",
    "            ans = max(ans,profit)\n",
    "        \n",
    "        return ans"
   ]
  },
  {
   "cell_type": "code",
   "execution_count": 24,
   "metadata": {},
   "outputs": [
    {
     "name": "stdout",
     "output_type": "stream",
     "text": [
      "[847, 718, 546, 924, 139]\n",
      "378\n"
     ]
    }
   ],
   "source": [
    "BSSO = BuySellStockOnce()\n",
    "nums = [random.randint(100,999) for _ in range(5)]\n",
    "\n",
    "print(nums)\n",
    "print(BSSO.maxProfit1(nums))"
   ]
  },
  {
   "cell_type": "markdown",
   "metadata": {},
   "source": [
    "### Variant6: 1. Longest Subarray with All Same Values &nbsp;&nbsp; [2.Buy and Sell a Stock Once II](https://leetcode.com/problems/best-time-to-buy-and-sell-stock-ii/)"
   ]
  },
  {
   "cell_type": "code",
   "execution_count": 25,
   "metadata": {},
   "outputs": [],
   "source": [
    "class Variant6:\n",
    "    \n",
    "    def variant1(self,nums):\n",
    "        ans = 0\n",
    "        i = 0\n",
    "        while(i<len(nums)):\n",
    "            j = i\n",
    "            while(j<len(nums) and nums[j] == nums[i]):\n",
    "                j += 1\n",
    "            ans = max(ans,j-i)\n",
    "            i = j\n",
    "        return ans\n",
    "    \n",
    "    def variant2(self,nums):\n",
    "        i = 1\n",
    "        ans  = 0\n",
    "        while(i < len(nums)):\n",
    "            if nums[i]>nums[i-1]:\n",
    "                ans += nums[i]-nums[i-1]\n",
    "            i += 1\n",
    "        return ans"
   ]
  },
  {
   "cell_type": "code",
   "execution_count": 26,
   "metadata": {},
   "outputs": [
    {
     "name": "stdout",
     "output_type": "stream",
     "text": [
      "[0, 4, 1, 0, 2, 1, 3, 4, 4, 4, 3, 1, 4, 1, 3, 3, 4, 4, 1, 3]\n",
      "17\n"
     ]
    }
   ],
   "source": [
    "V6 = Variant6()\n",
    "nums = nums = [random.randint(0,4) for _ in range(20)]\n",
    "\n",
    "print(nums)\n",
    "print(V6.variant2(nums))"
   ]
  },
  {
   "cell_type": "markdown",
   "metadata": {},
   "source": [
    "<a id='5.7'></a>\n",
    "### [5.7 Buy and Sell a Stock Twice](https://leetcode.com/problems/best-time-to-buy-and-sell-stock-iii/)*"
   ]
  },
  {
   "cell_type": "code",
   "execution_count": 27,
   "metadata": {},
   "outputs": [],
   "source": [
    "class BuySellStockTwice:\n",
    "    \n",
    "    #O(n^2) - TLE: using left-half and right-half max profits for each day\n",
    "    def maxProfit1(self,nums):\n",
    "        BSSO = BuySellStockOnce()\n",
    "        ans = 0\n",
    "        for i in range(len(nums)):\n",
    "            p1 = BSSO.maxProfit1(nums[:i])\n",
    "            p2 = BSSO.maxProfit1(nums[i:])\n",
    "            ans = max(ans,p1+p2)\n",
    "        return ans\n",
    "    \n",
    "    #O(n) - forward and backward phase\n",
    "    def maxProfit2(self,nums):\n",
    "        \n",
    "        maxProfit, minValue = 0, nums[0]\n",
    "        Profits = [0]*len(nums)\n",
    "        \n",
    "        #Forward-Phase\n",
    "        for i,n in enumerate(nums):\n",
    "            maxProfit = max(maxProfit,n-minValue)\n",
    "            Profits[i] = maxProfit\n",
    "            minValue = min(minValue,n)\n",
    "            \n",
    "        #Backward-Phase\n",
    "        maxValue = -1\n",
    "        for i,n in reversed(list(enumerate(nums[1:],1))):\n",
    "            maxValue = max(maxValue,n)\n",
    "            maxProfit = max(maxProfit, Profits[i-1]+(maxValue-n))\n",
    "        \n",
    "        return maxProfit"
   ]
  },
  {
   "cell_type": "code",
   "execution_count": 28,
   "metadata": {},
   "outputs": [
    {
     "name": "stdout",
     "output_type": "stream",
     "text": [
      "[6, 4, 0, 0]\n"
     ]
    }
   ],
   "source": [
    "BSST = BuySellStockTwice()\n",
    "nums = [[3,3,5,0,0,3,1,4],[1,2,3,4,5],[7,6,4,3,1],[1]]\n",
    "\n",
    "print([BSST.maxProfit2(n) for n in nums])"
   ]
  },
  {
   "cell_type": "markdown",
   "metadata": {},
   "source": [
    "<a id='5.8'></a>\n",
    "### 5.8 Computing an Alternation"
   ]
  },
  {
   "cell_type": "code",
   "execution_count": 29,
   "metadata": {},
   "outputs": [],
   "source": [
    "class ComputingAlternation:\n",
    "    \n",
    "    #O(nlogn) - using sort + swap\n",
    "    def alternatingArray1(self,nums):\n",
    "        nums.sort()\n",
    "        i = 0\n",
    "        while(i<len(nums)-1):\n",
    "            nums[i],nums[i+1] = nums[i+1],nums[i]\n",
    "            i += 2\n",
    "        return nums\n",
    "    \n",
    "    #O(n) - most optimal solution using swaps\n",
    "    def alternatingArray2(self,nums):\n",
    "        \n",
    "        def swap(nums,i,j):\n",
    "            nums[i],nums[j] = nums[j],nums[i]\n",
    "        \n",
    "        for i in range(len(nums)-1):\n",
    "            if i%2!=0 and nums[i]<nums[i+1]:\n",
    "                swap(nums,i,i+1)\n",
    "            elif i%2==0 and nums[i]>nums[i+1]:\n",
    "                swap(nums,i,i+1)\n",
    "        return nums\n",
    "    \n",
    "    #O(n) - most pythonic way of writing the above method\n",
    "    def alternatingArray3(self,nums):\n",
    "        \n",
    "        for i in range(len(nums)):\n",
    "            nums[i:i+2] = sorted(nums[i:i+2],reverse=i%2)\n",
    "        return nums"
   ]
  },
  {
   "cell_type": "code",
   "execution_count": 30,
   "metadata": {},
   "outputs": [
    {
     "name": "stdout",
     "output_type": "stream",
     "text": [
      "[73, 9, 19, 56, 87, 31, 24, 66, 67, 78]\n",
      "[9, 73, 19, 87, 31, 56, 24, 67, 66, 78]\n"
     ]
    }
   ],
   "source": [
    "CA = ComputingAlternation()\n",
    "nums = [random.randint(0,100) for _ in range(10)]\n",
    "\n",
    "print(nums)\n",
    "print(CA.alternatingArray3(nums))"
   ]
  },
  {
   "cell_type": "markdown",
   "metadata": {},
   "source": [
    "<a id='5.9'></a>\n",
    "### [5.9 Enumerate All Primes to N](https://leetcode.com/problems/count-primes/?tab=Description)"
   ]
  },
  {
   "cell_type": "code",
   "execution_count": 31,
   "metadata": {},
   "outputs": [],
   "source": [
    "class PrimeNumbers:\n",
    "    \n",
    "    #O(n^2) - TLE: using brute force\n",
    "    def allPrimes1(self,N):\n",
    "        def checkPrime(n):\n",
    "            i = int(n**0.5)\n",
    "            while(i>1):\n",
    "                if n%i == 0:\n",
    "                    return False\n",
    "                i -= 1\n",
    "            return True\n",
    "        ans = []\n",
    "        for n in range(2,N):\n",
    "            if checkPrime(n):\n",
    "                ans.append(n)\n",
    "        return ans\n",
    "    \n",
    "    #O(n*log(logn)) - Sieve of Eresthotenes\n",
    "    def allPrimes2(self,N):\n",
    "        sieve = [1]*(N)\n",
    "        sieve[0] = sieve[1] = 0\n",
    "        ans = []\n",
    "        i = 2\n",
    "        while(i<N):\n",
    "            if sieve[i]:\n",
    "                ans.append(i)\n",
    "                for j in range(i,N,i):\n",
    "                    sieve[j] = 0\n",
    "            i += 1\n",
    "        return ans \n",
    "    \n",
    "    #O(nlog(logn)) - optimized Sieve\n",
    "    def allPrimes3(self,N):\n",
    "        if N<2:\n",
    "            return []\n",
    "        l = (N-3)//2 + 1\n",
    "        ans = [2]\n",
    "        sieve = [1]*l\n",
    "        for i in range(l):\n",
    "            if sieve[i]:\n",
    "                p = 2*i + 3\n",
    "                ans.append(p)\n",
    "                for j in range(2*i**2 + 6*i + 3,l,p):\n",
    "                    sieve[j] = 0\n",
    "        return ans\n",
    "            "
   ]
  },
  {
   "cell_type": "code",
   "execution_count": 32,
   "metadata": {},
   "outputs": [
    {
     "name": "stdout",
     "output_type": "stream",
     "text": [
      "30\n",
      "[2, 3, 5, 7, 11, 13, 17, 19, 23, 29]\n",
      "[2, 3, 5, 7, 11, 13, 17, 19, 23, 29]\n"
     ]
    }
   ],
   "source": [
    "PN = PrimeNumbers()\n",
    "N = random.randint(1,100)\n",
    "\n",
    "print(N)\n",
    "# print(PN.allPrimes1(N))\n",
    "print(PN.allPrimes2(N))\n",
    "print(PN.allPrimes3(N))"
   ]
  },
  {
   "cell_type": "markdown",
   "metadata": {},
   "source": [
    "<a id='5.10'></a>\n",
    "### 5.10 Permute the Elements of An Array"
   ]
  },
  {
   "cell_type": "code",
   "execution_count": 33,
   "metadata": {},
   "outputs": [],
   "source": [
    "class PermuteArray:\n",
    "    \n",
    "    #O(n) - apply given permutation to given array \n",
    "    def applyGivenPermutation1(self,nums,P):\n",
    "        nums = list(nums)\n",
    "        for i in range(len(nums)):\n",
    "            j = i\n",
    "            while(P[j]>=0):\n",
    "                nums[i],nums[P[j]] = nums[P[j]],nums[i]\n",
    "                temp = P[j]\n",
    "                P[j] -= len(P)\n",
    "                j = temp\n",
    "        P[:] = [p+len(P) for p in P]\n",
    "        return nums\n",
    "    \n",
    "    #O(n2) - using constant space \n",
    "    def applyGivenPermutation2(self,nums,P):\n",
    "        nums = list(nums)\n",
    "        \n",
    "        def cyclicPermutation(start,nums,P):\n",
    "            i, temp = start,nums[start]\n",
    "            while(True):\n",
    "                nexti = P[i]\n",
    "                nexttemp = nums[nexti]\n",
    "                nums[nexti] = temp\n",
    "                i,temp = nexti,nexttemp\n",
    "                if i==start:\n",
    "                    break\n",
    "                    \n",
    "        for i in range(len(nums)):\n",
    "            j = P[i]\n",
    "            while(j!=i):\n",
    "                if j<i:\n",
    "                    break\n",
    "                j = P[j]\n",
    "            else:\n",
    "                cyclicPermutation(i,nums,P)\n",
    "        return nums"
   ]
  },
  {
   "cell_type": "code",
   "execution_count": 34,
   "metadata": {},
   "outputs": [
    {
     "name": "stdout",
     "output_type": "stream",
     "text": [
      "[11, 19, 10, 16] [3, 1, 0, 2]\n",
      "[10, 19, 16, 11] [10, 19, 16, 11]\n"
     ]
    }
   ],
   "source": [
    "PA = PermuteArray()\n",
    "nums = random.sample(range(10,21),4)\n",
    "P = random.sample(range(4),4)\n",
    "\n",
    "print(nums,P)\n",
    "print(PA.applyGivenPermutation1(nums,P),PA.applyGivenPermutation2(nums,P))"
   ]
  },
  {
   "cell_type": "markdown",
   "metadata": {},
   "source": [
    "### Additional Problem: [1. All Permutations I](https://leetcode.com/problems/permutations/) &nbsp;&nbsp; [2.All Permutations II](https://leetcode.com/problems/permutations-ii/)"
   ]
  },
  {
   "cell_type": "code",
   "execution_count": 35,
   "metadata": {},
   "outputs": [],
   "source": [
    "class ArrayPermutations1:\n",
    "    \n",
    "    #O(n3) - by appending each number in all available places of array\n",
    "    def permute1(self,nums):\n",
    "        #O(n2) - worst case\n",
    "        def addDigit(nums,d):\n",
    "            ans = []\n",
    "            l = len(nums)\n",
    "            for n in nums:\n",
    "                for i in range(len(n)+1):\n",
    "                    t = n[:i] + [d] + n[i:]\n",
    "                    ans.append(t)\n",
    "            return ans\n",
    "        \n",
    "        ans = [[]]\n",
    "        for n in nums:\n",
    "            ans = addDigit(ans,n)\n",
    "        return ans\n",
    "    \n",
    "    #O(2^n) - using recurrsion\n",
    "    def permute2(self,nums):\n",
    "        def recurrsive(ans,temp,nums):\n",
    "            if len(temp) == len(nums):\n",
    "                ans.append(temp[:])\n",
    "            \n",
    "            for n in nums:\n",
    "                if n not in temp:\n",
    "                    temp.append(n)\n",
    "                    recurrsive(ans,temp,nums)\n",
    "                    temp.pop()\n",
    "        ans = []\n",
    "        recurrsive(ans,[],nums)\n",
    "        return ans"
   ]
  },
  {
   "cell_type": "code",
   "execution_count": 36,
   "metadata": {},
   "outputs": [
    {
     "name": "stdout",
     "output_type": "stream",
     "text": [
      "[6, 5, 10]\n",
      "[[10, 5, 6], [5, 10, 6], [5, 6, 10], [10, 6, 5], [6, 10, 5], [6, 5, 10]]\n",
      "[[6, 5, 10], [6, 10, 5], [5, 6, 10], [5, 10, 6], [10, 6, 5], [10, 5, 6]]\n"
     ]
    }
   ],
   "source": [
    "AP1 = ArrayPermutations1()\n",
    "nums = random.sample(range(1,11),3)\n",
    "\n",
    "print(nums)\n",
    "print(AP1.permute1(nums))\n",
    "print(AP1.permute2(nums))"
   ]
  },
  {
   "cell_type": "code",
   "execution_count": 37,
   "metadata": {},
   "outputs": [],
   "source": [
    "class ArrayPermutations2:\n",
    "    \n",
    "    #O(n3) - TLE: bruteforce -find all + delete duplicates\n",
    "    def permute1(self,nums):\n",
    "        AP1 = ArrayPermutations1()\n",
    "        temp = AP1.permute1(nums)\n",
    "        T = []\n",
    "        ans = []\n",
    "        for t in temp:\n",
    "            if t not in ans:\n",
    "                ans.append(t)\n",
    "        return ans\n",
    "    \n",
    "    #O(n2) - using the check duplicate condition\n",
    "    def permute2(self,nums):\n",
    "        ans = [[]]\n",
    "        for n in nums:\n",
    "            temp = []\n",
    "            for a in ans:\n",
    "                for i in range(len(a)+1):\n",
    "                    temp.append(a[:i]+[n]+a[i:])\n",
    "                    if i<len(a) and a[i]==n:\n",
    "                        break\n",
    "            ans = temp\n",
    "        return ans"
   ]
  },
  {
   "cell_type": "code",
   "execution_count": 38,
   "metadata": {},
   "outputs": [
    {
     "name": "stdout",
     "output_type": "stream",
     "text": [
      "[2, 2, 1]\n",
      "[[1, 2, 2], [2, 1, 2], [2, 2, 1]]\n"
     ]
    }
   ],
   "source": [
    "AP2 = ArrayPermutations2()\n",
    "test = [1,1,2]\n",
    "nums = [random.randint(1,3) for _ in range(3)]\n",
    "\n",
    "print(nums)\n",
    "print(AP2.permute2(nums))"
   ]
  },
  {
   "cell_type": "markdown",
   "metadata": {},
   "source": [
    "### Variant10: [1. Inverse Permutation](https://www.geeksforgeeks.org/inverse-permutation/)"
   ]
  },
  {
   "cell_type": "code",
   "execution_count": 39,
   "metadata": {},
   "outputs": [],
   "source": [
    "class Variant10:\n",
    "    \n",
    "    #O(n) - using temp array i.e more space\n",
    "    def variant1A(self,nums):\n",
    "        temp = [-1]*len(nums)\n",
    "        for i,n in enumerate(nums):\n",
    "            temp[n] = i\n",
    "        return temp\n",
    "    \n",
    "    #O(n) - constant space, using the cyclic technique\n",
    "    def variant1B(self,nums):\n",
    "        def cyclicPermutation(start,nums):\n",
    "            i = start\n",
    "            j = nums[start]\n",
    "            while(True):\n",
    "                nexti = j\n",
    "                nextj = nums[nexti]\n",
    "                \n",
    "                nums[j] = i\n",
    "#                 print(nums,f'({i}->{j})')\n",
    "                i,j = nexti,nextj\n",
    "                if i==start:\n",
    "                    break\n",
    "            return (i,j)\n",
    "        \n",
    "        for i in range(len(nums)):\n",
    "            j = nums[i]\n",
    "            while(j!=i):\n",
    "                if j<i:\n",
    "                    break\n",
    "                j = nums[j]\n",
    "            else:\n",
    "                cyclicPermutation(i,nums)\n",
    "        return nums"
   ]
  },
  {
   "cell_type": "code",
   "execution_count": 40,
   "metadata": {},
   "outputs": [
    {
     "name": "stdout",
     "output_type": "stream",
     "text": [
      "[4, 0, 3, 1, 2]\n",
      "[1, 3, 4, 2, 0]\n",
      "[1, 3, 4, 2, 0]\n"
     ]
    }
   ],
   "source": [
    "V10 = Variant10()\n",
    "nums = random.sample(range(5),5)\n",
    "\n",
    "print(nums)\n",
    "print(V10.variant1A(nums))\n",
    "print(V10.variant1B(nums))"
   ]
  },
  {
   "cell_type": "markdown",
   "metadata": {},
   "source": [
    "<a id='5.11'></a>\n",
    "### [5.11 Compute the Next Permutation](https://leetcode.com/problems/next-permutation/)"
   ]
  },
  {
   "cell_type": "code",
   "execution_count": 107,
   "metadata": {},
   "outputs": [],
   "source": [
    "class NextPermutation:\n",
    "    \n",
    "    #O(n3) - TLE: brute force: find all + sort + (i+1)th value\n",
    "    def findNextPermute1(self,nums):\n",
    "        AP = ArrayPermutations2()\n",
    "        temp = AP.permute1(nums)\n",
    "        temp.sort()\n",
    "        i = temp.index(nums)\n",
    "        if i == len(temp)-1:\n",
    "            return temp[0]\n",
    "        return temp[i+1]\n",
    "    \n",
    "    def findNextPermute2(self, nums):\n",
    "        k = len(nums)-2\n",
    "        while(k>-1 and nums[k]>=nums[k+1]):\n",
    "            k -= 1\n",
    "            \n",
    "        if k == -1:\n",
    "            nums.sort()\n",
    "            return nums\n",
    "        \n",
    "        for i in reversed(range(k+1,len(nums))):\n",
    "            if nums[i]>nums[k]:\n",
    "                nums[k],nums[i] = nums[i],nums[k]\n",
    "                break\n",
    "        nums[k+1:] = reversed(nums[k+1:])\n",
    "        return nums"
   ]
  },
  {
   "cell_type": "code",
   "execution_count": 108,
   "metadata": {},
   "outputs": [
    {
     "name": "stdout",
     "output_type": "stream",
     "text": [
      "[1, 3, 2]\n",
      "[1, 2, 3]\n",
      "[5, 1, 1]\n"
     ]
    }
   ],
   "source": [
    "test = [[1,2,3],[3,2,1],[1,5,1]]\n",
    "\n",
    "for t in test:\n",
    "    print(NP.findNextPermute1(t))"
   ]
  },
  {
   "cell_type": "markdown",
   "metadata": {},
   "source": [
    "<a id='5.17'></a>\n",
    "### [5.17 The Sudoku Checker Problem](https://leetcode.com/problems/valid-sudoku/)"
   ]
  },
  {
   "cell_type": "code",
   "execution_count": null,
   "metadata": {},
   "outputs": [],
   "source": [
    "class SudokuChecker:\n",
    "    \n",
    "    def valid1(self, matrix):\n",
    "        "
   ]
  },
  {
   "cell_type": "code",
   "execution_count": null,
   "metadata": {},
   "outputs": [],
   "source": []
  },
  {
   "cell_type": "code",
   "execution_count": null,
   "metadata": {},
   "outputs": [],
   "source": []
  },
  {
   "cell_type": "code",
   "execution_count": null,
   "metadata": {},
   "outputs": [],
   "source": []
  },
  {
   "cell_type": "markdown",
   "metadata": {},
   "source": [
    "<a id='5.18'></a>\n",
    "### [5.18 mpute The Spiral Ordering of a 2D Array](https://leetcode.com/problems/spiral-matrix/)"
   ]
  },
  {
   "cell_type": "code",
   "execution_count": null,
   "metadata": {},
   "outputs": [],
   "source": [
    "class SpiralOrdering:\n",
    "    \n",
    "    #O(n*m) - change direction co-ordinates when you hit the end\n",
    "    def order1(self, matrix):\n",
    "        n = len(matrix)\n",
    "        m = len(matrix[0])\n",
    "        ans = []\n",
    "        i,j = 0,0\n",
    "        di,dj = 0,1\n",
    "        for _ in range(n*m):\n",
    "            ans.append(matrix[i][j])\n",
    "            matrix[i][j] = -1\n",
    "            ni,nj = i+di, j+dj\n",
    "            \n",
    "            if -1<ni<n and -1<nj<m and matrix[ni][nj] != -1:\n",
    "                i,j = ni,nj\n",
    "            else:\n",
    "                di,dj = dj,-di #change of direction\n",
    "                i,j = i+di, j+dj\n",
    "        return ans\n",
    "    \n",
    "    #O(n*n) - ONLY for nxn 2D matrix\n",
    "    def order2(self, matrix):\n",
    "        \n",
    "        def nCycle(n):\n",
    "            if n == len(matrix)-n-1:\n",
    "                ans.append(matrix[n][n])\n",
    "                return\n",
    "            \n",
    "            ans.extend(matrix[n][n:-1-n])\n",
    "            ans.extend(list(zip(*matrix))[-1-n][n:-1-n])\n",
    "            ans.extend(matrix[-1-n][-1-n:n:-1])\n",
    "            ans.extend(list(zip(*matrix))[n][-1-n:n:-1])\n",
    "        \n",
    "        N = len(matrix)\n",
    "        ans = []\n",
    "        for n in range((N+1)//2):\n",
    "            nCycle(n)\n",
    "        return ans\n",
    "    \n",
    "    #O(n*m)\n",
    "    def order3(self,matrix):\n",
    "        SHIFT = ((0,1),(1,0),(0,-1),(-1,0))\n",
    "        N,M = len(matrix), len(matrix[0])\n",
    "        i,j = 0,0\n",
    "        d = 0\n",
    "        \n",
    "        ans = []\n",
    "        for _ in range(N*M):\n",
    "            ans.append(matrix[i][j])\n",
    "            matrix[i][j] = -1\n",
    "            ni,nj = i + SHIFT[d][0], j + SHIFT[d][1]\n",
    "            \n",
    "            if (not -1<ni<N) or (not -1<nj<M) or matrix[ni][nj]==-1:\n",
    "                d = (d+1)%4\n",
    "                ni, nj = i + SHIFT[d][0], j + SHIFT[d][1]\n",
    "                \n",
    "            i,j = ni,nj\n",
    "        return ans"
   ]
  },
  {
   "cell_type": "code",
   "execution_count": null,
   "metadata": {},
   "outputs": [],
   "source": [
    "SO = SpiralOrdering()\n",
    "N = random.randrange(2,6)\n",
    "M = random.randint(2,6)\n",
    "matrix = [[random.randint(1,9) for i in range(M)] for _ in range(N)]\n",
    "\n",
    "Pmatrix(matrix)\n",
    "print(SO.order3(matrix))"
   ]
  },
  {
   "cell_type": "markdown",
   "metadata": {},
   "source": [
    "### Variant18: [1. Spiral Matrix II](https://leetcode.com/problems/spiral-matrix-ii/) &nbsp;&nbsp; 2. Spiral In a given array &nbsp;&nbsp; 3. Outward Spiral &nbsp;&nbsp; 4. NxM Spiral Matrix &nbsp;&nbsp; 5. Last Element in Spiral &nbsp;&nbsp; 6. Kth Element in Spiral"
   ]
  },
  {
   "cell_type": "code",
   "execution_count": null,
   "metadata": {},
   "outputs": [],
   "source": [
    "class Variant18:\n",
    "    \n",
    "    #O(n2) - assign value to matrix in spiral order using directions\n",
    "    def variant1(self,n):\n",
    "        SHIFT = ((0,1),(1,0),(0,-1),(-1,0))\n",
    "        ans = [['#' for _ in range(n)] for _ in range(n)]\n",
    "        i,j = 0,0\n",
    "        d = 0\n",
    "        \n",
    "        for K in range(n**2):\n",
    "            ans[i][j] = K+1\n",
    "            ni,nj = i+SHIFT[d][0], j+SHIFT[d][1]\n",
    "            \n",
    "            if (not -1<ni<n) or (not -1<nj<n) or (ans[ni][nj]!='#'):\n",
    "                d = (d+1)%4\n",
    "                ni,nj = i+SHIFT[d][0], j+SHIFT[d][1]        \n",
    "\n",
    "            i,j = ni,nj\n",
    "        return ans\n",
    "    \n",
    "    #O(n2) - same as above except pre-populated array is already given\n",
    "    def variant2(self, nums):\n",
    "        n = int(len(nums)**0.5)\n",
    "        SHIFT = ((0,1),(1,0),(0,-1),(-1,0))\n",
    "        ans = [['#' for _ in range(n)] for _ in range(n)]\n",
    "        i,j = 0,0\n",
    "        d = 0\n",
    "        \n",
    "        for N in nums:\n",
    "            ans[i][j] = N\n",
    "            ni,nj = i+SHIFT[d][0], j+SHIFT[d][1]\n",
    "            \n",
    "            if (not -1<ni<n) or (not -1<nj<n) or (ans[ni][nj]!='#'):\n",
    "                d = (d+1)%4\n",
    "                ni,nj = i+SHIFT[d][0], j+SHIFT[d][1]        \n",
    "\n",
    "            i,j = ni,nj\n",
    "        return ans\n",
    "    \n",
    "    def variant3(self,n):\n",
    "        i,j = 0,0\n",
    "        di,dj = 1,0\n",
    "        k = 0\n",
    "        \n",
    "        ans = []\n",
    "        while(True):\n",
    "            for _ in range((k//2)+1):\n",
    "                ans.append((i,j))\n",
    "                i,j = i+di, j+dj\n",
    "\n",
    "                if len(ans)==n:\n",
    "                    return ans\n",
    "            \n",
    "            di,dj = dj,-di\n",
    "            k += 1\n",
    "    \n",
    "    #O(n*m) - same as above class\n",
    "    def variant4(self,matrix):\n",
    "        SO = SpiralOrdering()\n",
    "        return SO.order3(matrix)\n",
    "    \n",
    "#     def variant5(self, matrix):\n",
    "\n",
    "#     def variant6(self, matrix)"
   ]
  },
  {
   "cell_type": "code",
   "execution_count": null,
   "metadata": {},
   "outputs": [],
   "source": [
    "V18 = Variant18()\n",
    "n = random.randint(10,40)\n",
    "nums = [random.randint(1,9) for _ in range(random.randint(2,6)**2)]\n",
    "N, M = random.randrange(2,6), random.randint(2,6)\n",
    "matrix = [[random.randint(1,9) for i in range(M)] for _ in range(N)]\n",
    "\n",
    "print(n)\n",
    "Pmatrix(V18.variant1(3))\n",
    "\n",
    "print(nums)\n",
    "Pmatrix(V18.variant2(nums))\n",
    "\n",
    "print(n)\n",
    "print(V18.variant3(n))\n",
    "\n",
    "Pmatrix(matrix)\n",
    "print(V18.variant4(matrix))"
   ]
  },
  {
   "cell_type": "markdown",
   "metadata": {},
   "source": [
    "<a id='5.19'></a>\n",
    "### [5.19 Rotate a 2D Array](https://leetcode.com/problems/rotate-image/)"
   ]
  },
  {
   "cell_type": "code",
   "execution_count": null,
   "metadata": {},
   "outputs": [],
   "source": [
    "class RotateArray:\n",
    "    \n",
    "    #O(n2) - using additional temp space\n",
    "    def rotate0(self,matrix):\n",
    "        n = len(matrix)\n",
    "        temp = [[-1 for _ in range(n)] for _ in range(n)]\n",
    "        for i in range(n):\n",
    "            for j in range(n):\n",
    "                temp[j][-1-i] = matrix[i][j]\n",
    "        for i in range(n):\n",
    "            matrix[i][:] = temp[i][:]\n",
    "        return matrix\n",
    "    \n",
    "    #O(n2) - swap + reverse (NO additional space)\n",
    "    def rotate1(self,matrix):\n",
    "        n = len(matrix)\n",
    "        #swap\n",
    "        for i in range(n):\n",
    "            for j in range(i,n):\n",
    "                matrix[i][j], matrix[j][i] = matrix[j][i], matrix[i][j]\n",
    "        #reverse\n",
    "        for M in matrix:\n",
    "            M[:] = M[::-1]\n",
    "        return matrix\n",
    "    \n",
    "    #O(n2) - 4-way cyclic exchange\n",
    "    def rotate2(self,matrix):\n",
    "        n = len(matrix)\n",
    "        for i in range(n//2):\n",
    "            for j in range(i,n-1-i):\n",
    "                matrix[i][j], matrix[~j][i], matrix[~i][~j], matrix[j][~i] = matrix[~j][i], matrix[~i][~j], matrix[j][~i], matrix[i][j]\n",
    "        return matrix"
   ]
  },
  {
   "cell_type": "code",
   "execution_count": null,
   "metadata": {},
   "outputs": [],
   "source": [
    "RA = RotateArray()\n",
    "N = random.randrange(2,6)\n",
    "matrix = [[random.randint(1,9) for i in range(N)] for _ in range(N)]\n",
    "\n",
    "Pmatrix(matrix)\n",
    "print()\n",
    "Pmatrix(RA.rotate2(matrix))"
   ]
  },
  {
   "cell_type": "markdown",
   "metadata": {},
   "source": [
    "<a id=\"5.20\"></a>\n",
    "### [5.20 Compute Rows in Pascals Triangle](https://leetcode.com/problems/pascals-triangle/)"
   ]
  },
  {
   "cell_type": "code",
   "execution_count": null,
   "metadata": {},
   "outputs": [],
   "source": [
    "class PascalsTriangle:\n",
    "    \n",
    "    #O(n2) - \n",
    "    def computeRows1(self,n):\n",
    "        ans = [[1]]\n",
    "        \n",
    "        def nextRow(row):\n",
    "            temp = []\n",
    "            \n",
    "            temp.append(row[0])\n",
    "            for i in range(1,len(row)):\n",
    "                temp.append(row[i-1]+row[i])\n",
    "            temp.append(row[-1])\n",
    "            return temp\n",
    "        \n",
    "        for _ in range(n-1):\n",
    "            ans.append(nextRow(ans[-1]))\n",
    "        return ans\n",
    "    \n",
    "    #O(n2) - without using extra space\n",
    "    def computeRows2(self,n):\n",
    "        ans = [[1]*(i+1) for i in range(n)]\n",
    "        for i in range(n):\n",
    "            for j in range(1,i):\n",
    "                ans[i][j] = ans[i-1][j-1] + ans[i-1][j]\n",
    "        return ans   "
   ]
  },
  {
   "cell_type": "code",
   "execution_count": null,
   "metadata": {},
   "outputs": [],
   "source": [
    "PT = PascalsTriangle()\n",
    "n = random.randint(0,10)\n",
    "\n",
    "print(n)\n",
    "print(PT.computeRows2(6))"
   ]
  },
  {
   "cell_type": "markdown",
   "metadata": {},
   "source": [
    "### Variant20: [Nth Pascals Triangle Row](https://leetcode.com/problems/pascals-triangle-ii/)"
   ]
  },
  {
   "cell_type": "code",
   "execution_count": null,
   "metadata": {},
   "outputs": [],
   "source": [
    "class Variant20:\n",
    "    \n",
    "    #O(n2) - using O(n) space and without storing all values (dynamic programming)\n",
    "    def variant1(self,N):\n",
    "        nums = [1]*(N)\n",
    "        for n in range(2,N):\n",
    "            for i in range(n-1,0,-1):\n",
    "                nums[i] += nums[i-1]\n",
    "        return nums"
   ]
  },
  {
   "cell_type": "code",
   "execution_count": null,
   "metadata": {},
   "outputs": [],
   "source": [
    "V20 = Variant20()\n",
    "\n",
    "for i in range(1,10):\n",
    "    print(V20.variant1(i))"
   ]
  }
 ],
 "metadata": {
  "kernelspec": {
   "display_name": "Python 3",
   "language": "python",
   "name": "python3"
  },
  "language_info": {
   "codemirror_mode": {
    "name": "ipython",
    "version": 3
   },
   "file_extension": ".py",
   "mimetype": "text/x-python",
   "name": "python",
   "nbconvert_exporter": "python",
   "pygments_lexer": "ipython3",
   "version": "3.8.5"
  }
 },
 "nbformat": 4,
 "nbformat_minor": 4
}
