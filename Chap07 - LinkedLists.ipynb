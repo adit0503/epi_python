{
 "cells": [
  {
   "cell_type": "markdown",
   "metadata": {},
   "source": [
    "# Chapter 7: Linked Lists\n",
    "0. [Basic Operations for ListAPI](#7.0)\n",
    "1. [Merge Sorted Linked Lists](#7.1)\n",
    "2. [Reverse a Single Sublist](#7.2)\n",
    "3. [Test for Cyclicity / Find Staring Node of Cycle](#7.3)\n",
    "4. [Test for Overlapping Lists](#7.4)\n",
    "5. [Test for Overlapping Lists - Cyclic List](#7.5)\n",
    "6. [Delete a Node from a Singly Linked List](#7.6)\n",
    "7. [Remove the Kth Last Element from a List](#7.7)\n",
    "8. [Remove Duplicates from a Sorted List](#7.8)\n",
    "9. [Implement Cyclic Right Shift for Singly Linked List](#7.9)\n",
    "10. [Implement Even-Odd Merge](#7.10)\n",
    "11. [Test Whether a Singly Linked List in Palindromic](#7.11)\n",
    "12. [Implement List Pivoting](#7.12)\n",
    "13. [Add List-Based Integers](#7.13)"
   ]
  },
  {
   "cell_type": "code",
   "execution_count": null,
   "metadata": {},
   "outputs": [],
   "source": [
    "import random, math, functools, string"
   ]
  },
  {
   "cell_type": "code",
   "execution_count": null,
   "metadata": {},
   "outputs": [],
   "source": [
    "class ListNode:\n",
    "    def __init__(self,val=0,next=None):\n",
    "        self.val = val\n",
    "        self.next = next\n",
    "            \n",
    "def arrayToList(nums):\n",
    "    dummyRoot = ListNode()\n",
    "    ptr = dummyRoot\n",
    "    for n in nums:\n",
    "        ptr.next = ListNode(n)\n",
    "        ptr = ptr.next\n",
    "\n",
    "    ptr = dummyRoot.next\n",
    "    return ptr\n",
    "\n",
    "def listToArray(node):\n",
    "    ans = []\n",
    "    while(node):\n",
    "        ans.append(node.val)\n",
    "        node = node.next\n",
    "    return ans\n",
    "\n",
    "def printNode(node):\n",
    "    return node.val"
   ]
  },
  {
   "cell_type": "markdown",
   "metadata": {},
   "source": [
    "### 7.0 Basic Operations for ListAPI"
   ]
  },
  {
   "cell_type": "code",
   "execution_count": null,
   "metadata": {},
   "outputs": [],
   "source": [
    "class BasicOperations:\n",
    "    \n",
    "    #O(n) - search for a given value\n",
    "    def search(self,head,x):\n",
    "        node = head\n",
    "        while(node):\n",
    "            if node.val == x:\n",
    "                return True\n",
    "            node = node.next\n",
    "        return False\n",
    "    \n",
    "    #O(n) - insert after a given value\n",
    "    def insertAfter(self,head,N,x):\n",
    "        node = head\n",
    "        while(node):\n",
    "            if node.val == N:\n",
    "                temp = ListNode(x)\n",
    "                temp.next = node.next\n",
    "                node.next = temp\n",
    "                break\n",
    "            node = node.next\n",
    "        return head\n",
    "    \n",
    "    #O(n) - delete a value escept tail\n",
    "    def deleteValue(self,head,x):\n",
    "        if head.val == x:\n",
    "            return head.next\n",
    "        \n",
    "        node = head\n",
    "        while(node.next):\n",
    "            if node.next.val == x:\n",
    "                node.next = node.next.next\n",
    "            node = node.next\n",
    "        return head"
   ]
  },
  {
   "cell_type": "code",
   "execution_count": null,
   "metadata": {},
   "outputs": [],
   "source": [
    "BO = BasicOperations()\n",
    "\n",
    "nums = [1,2,3,4,5,6,7,8,9,10]\n",
    "head = arrayToList(nums)\n",
    "\n",
    "ans = BO.deleteValue(head,9)\n",
    "print(nums,listToArray(ans))"
   ]
  },
  {
   "cell_type": "markdown",
   "metadata": {},
   "source": [
    "### [7.1 Merge Sorted Linked Lists](https://leetcode.com/problems/merge-two-sorted-lists/)"
   ]
  },
  {
   "cell_type": "code",
   "execution_count": null,
   "metadata": {},
   "outputs": [],
   "source": [
    "class MergeSorted:\n",
    "    \n",
    "    #O(n+m) - using extra head to calculate ordering\n",
    "    def merge1(self,head1,head2):\n",
    "        ans = node3 = ListNode(-1)\n",
    "        \n",
    "        while(head1 and head2):\n",
    "            if head1.val < head2.val:\n",
    "                node3.next = head1\n",
    "                head1 = head1.next\n",
    "            else:\n",
    "                node3.next = head2\n",
    "                head2 = head2.next\n",
    "            node3 = node3.next\n",
    "            \n",
    "        node3.next = head1 or head2\n",
    "        return ans.next"
   ]
  },
  {
   "cell_type": "code",
   "execution_count": null,
   "metadata": {},
   "outputs": [],
   "source": [
    "MS = MergeSorted()\n",
    "\n",
    "h1 = arrayToList([1,3,5,7,9])\n",
    "h2 = arrayToList([0,2,4,6,8,10])\n",
    "\n",
    "print(listToArray(MS.merge1(h1,h2)))"
   ]
  },
  {
   "cell_type": "markdown",
   "metadata": {},
   "source": [
    "### 7.2 Reverse a Single Sublist"
   ]
  },
  {
   "cell_type": "code",
   "execution_count": null,
   "metadata": {},
   "outputs": [],
   "source": [
    "class ReverseSublist:\n",
    "    \n",
    "    #O(n) - in multiple passes\n",
    "    def reverse1(self, head,i,j):\n",
    "        first = last = head\n",
    "        \n",
    "        k = j-i\n",
    "        while(k>0):\n",
    "            last = last.next\n",
    "            k -= 1\n",
    "            \n",
    "        flag = True\n",
    "        prevFirst = ListNode(-1)\n",
    "        prevFirst.next = head\n",
    "        while(i>1):\n",
    "            prevFirst = prevFirst.next\n",
    "            first = first.next\n",
    "            last = last.next\n",
    "            i -= 1\n",
    "        nextLast = last.next\n",
    "        if prevFirst.next == head:\n",
    "            flag = False\n",
    "        \n",
    "        temp = nextLast\n",
    "        while(temp!=last):\n",
    "            nextNode = first.next\n",
    "            \n",
    "            first.next = temp\n",
    "            \n",
    "            temp = first\n",
    "            first = nextNode\n",
    "        prevFirst.next = temp\n",
    "\n",
    "        return head if flag else prevFirst.next\n",
    "    \n",
    "    #O(n) - using 3 pointer prevFirst, First, Temp to recurrsively shift\n",
    "    def reverse2(self,head,i,j):\n",
    "        dummy = prevFirst = ListNode(0,head)\n",
    "        for _ in range(1,i):\n",
    "            prevFirst = prevFirst.next\n",
    "            \n",
    "        first = prevFirst.next\n",
    "        for _ in range(j-i):\n",
    "            temp = first.next\n",
    "            \n",
    "            first.next = temp.next\n",
    "            temp.next = prevFirst.next\n",
    "            prevFirst.next = temp\n",
    "        \n",
    "        return dummy.next"
   ]
  },
  {
   "cell_type": "code",
   "execution_count": null,
   "metadata": {},
   "outputs": [],
   "source": [
    "RS = ReverseSublist()\n",
    "\n",
    "head = arrayToList([1,2,3,4,5,6,7,8,9])\n",
    "print(listToArray(RS.reverse2(head,1,9)))"
   ]
  },
  {
   "cell_type": "markdown",
   "metadata": {},
   "source": [
    "### Variant2 : [1.Reverse a Linked List](https://leetcode.com/problems/reverse-linked-list/) &nbsp; [2. Reverse Linked List in k-group](https://leetcode.com/problems/reverse-nodes-in-k-group/)"
   ]
  },
  {
   "cell_type": "code",
   "execution_count": null,
   "metadata": {},
   "outputs": [],
   "source": [
    "class Variant2:\n",
    "    \n",
    "    #O(n) - using twp pointer: prevNode, nextNode\n",
    "    def variant1A(self,head):\n",
    "        node = head\n",
    "        prevNode = None\n",
    "        while(node):\n",
    "            nextNode = node.next\n",
    "            node.next = prevNode\n",
    "            \n",
    "            prevNode = node\n",
    "            node = nextNode\n",
    "        return prevNode\n",
    "    \n",
    "    #O(n) - using three pointers: prevFirst, first, temp\n",
    "    def variant1B(self,head):\n",
    "        prevFirst = ListNode(-1)\n",
    "        prevFirst.next = head\n",
    "        \n",
    "        first = prevFirst.next\n",
    "        while(first.next):\n",
    "            temp = first.next\n",
    "            \n",
    "            first.next = temp.next\n",
    "            temp.next = prevFirst.next\n",
    "            prevFirst.next = temp\n",
    "        \n",
    "        return prevFirst.next\n",
    "    \n",
    "    def variant2(self,head,k):\n",
    "        node = head\n",
    "        l = 0\n",
    "        while(node):\n",
    "            node = node.next\n",
    "            l += 1\n",
    "        if l < k:\n",
    "            return head\n",
    "        n = l//k\n",
    "        \n",
    "        dummy = prevFirst = ListNode(-1)\n",
    "        dummy.next = prevFirst.next = head\n",
    "        while(n):\n",
    "            first = prevFirst.next\n",
    "            for _ in range(k-1):\n",
    "                temp = first.next\n",
    "                \n",
    "                first.next = temp.next\n",
    "                temp.next = prevFirst.next\n",
    "                prevFirst.next = temp\n",
    "            prevFirst = first\n",
    "            n -= 1\n",
    "        return dummy.next"
   ]
  },
  {
   "cell_type": "code",
   "execution_count": null,
   "metadata": {},
   "outputs": [],
   "source": [
    "V2 = Variant2()\n",
    "h1 = arrayToList([1,2,3,4,5,6,7,8])\n",
    "\n",
    "# print(listToArray(V2.variant1A(h1)))\n",
    "# print(listToArray(V2.variant1B(h1)))\n",
    "\n",
    "print(listToArray(V2.variant2(h1,3)))"
   ]
  },
  {
   "cell_type": "markdown",
   "metadata": {},
   "source": [
    "### [7.3 Test for Cyclicity](https://leetcode.com/problems/linked-list-cycle/) / [Find Staring Node of Cycle](https://leetcode.com/problems/linked-list-cycle-ii/)"
   ]
  },
  {
   "cell_type": "code",
   "execution_count": null,
   "metadata": {},
   "outputs": [],
   "source": [
    "class TestCyclicity:\n",
    "    \n",
    "    #O(n) - using fast/slow pointers\n",
    "    def isCyclic(self,head):\n",
    "        fast = slow = head\n",
    "        while(fast and fast.next):\n",
    "            if fast == slow:\n",
    "                return True\n",
    "            fast = fast.next.next\n",
    "            slow = slow.next\n",
    "        return False\n",
    "    \n",
    "    def startNode(self,head):\n",
    "        fast = slow = head\n",
    "        while(fast and fast.next):\n",
    "            fast = fast.next.next\n",
    "            slow = slow.next\n",
    "            if fast==slow:\n",
    "                break\n",
    "        else:\n",
    "            return None\n",
    "        \n",
    "        slow = head\n",
    "        while(fast!=slow):\n",
    "            fast = fast.next\n",
    "            slow = slow.next\n",
    "        return slow"
   ]
  },
  {
   "cell_type": "markdown",
   "metadata": {},
   "source": [
    "### 7.4 Test for Overlapping Lists"
   ]
  },
  {
   "cell_type": "code",
   "execution_count": null,
   "metadata": {},
   "outputs": [],
   "source": [
    "class TestOverlapping:\n",
    "    \n",
    "    #O(n) - using extra O(n) space\n",
    "    def overlap1(self, head1, head2):\n",
    "        temp = set()\n",
    "        node1=head1\n",
    "        while(node1):\n",
    "            temp.add(node1)\n",
    "            node1 = node1.next\n",
    "        node2 = head2\n",
    "        while(node2):\n",
    "            if node2 in temp:\n",
    "                return node2\n",
    "            node2 = node2.next\n",
    "        return None\n",
    "    \n",
    "    #O(n+m) - with using constant space\n",
    "    def overlap2(self, head1, head2):\n",
    "        \n",
    "        def lengthLL(head):\n",
    "            l, node = 0, head\n",
    "            while(node):\n",
    "                l += 1\n",
    "                node= node.next\n",
    "            return l\n",
    "        \n",
    "        def firstOverlap(headA,headB,n,m):\n",
    "            x = n-m\n",
    "            while(x):\n",
    "                headA = headA.next\n",
    "                x -= 1\n",
    "            while(headA and headB):\n",
    "                if headA == headB:\n",
    "                    return headA\n",
    "                headA = headA.next\n",
    "                headB = headB.next\n",
    "            return None\n",
    "        \n",
    "        l1 = lengthLL(head1)\n",
    "        l2 = lengthLL(head2)\n",
    "        \n",
    "        return firstOverlap(head1,head2,l1,l2) if l1>l2 else firstOverlap(head2,head1,l2,l1)"
   ]
  },
  {
   "cell_type": "markdown",
   "metadata": {},
   "source": [
    "### 7.5 Test for Overlapping Lists - Cyclic List"
   ]
  },
  {
   "cell_type": "markdown",
   "metadata": {},
   "source": [
    "### [7.6 Delete a Node from a Singly Linked List](https://leetcode.com/problems/delete-node-in-a-linked-list/)"
   ]
  },
  {
   "cell_type": "code",
   "execution_count": null,
   "metadata": {},
   "outputs": [],
   "source": [
    "class DeleteNode:\n",
    "    \n",
    "    #O(1) - given a node, delete that node\n",
    "    def delete1(self, node):\n",
    "        node.val = node.next.val\n",
    "        node.next = node.next.next"
   ]
  },
  {
   "cell_type": "markdown",
   "metadata": {},
   "source": [
    "### [7.7 Remove the Kth Last Element from a List](https://leetcode.com/problems/remove-nth-node-from-end-of-list/)"
   ]
  },
  {
   "cell_type": "code",
   "execution_count": null,
   "metadata": {},
   "outputs": [],
   "source": [
    "class RemoveKthLast:\n",
    "    \n",
    "    #O(n)\n",
    "    def remove1(self, head, k):\n",
    "        dummy = ListNode(-1,head)\n",
    "        last = dummy.next\n",
    "        for _ in range(k):\n",
    "            last = last.next\n",
    "        first = dummy\n",
    "        while(last):\n",
    "            first, last = first.next, last.next\n",
    "        first.next = first.next.next\n",
    "        return dummy.next"
   ]
  },
  {
   "cell_type": "code",
   "execution_count": null,
   "metadata": {},
   "outputs": [],
   "source": [
    "RKL = RemoveKthLast()\n",
    "nums = [1,2,3,4,5,6,7,8,9]\n",
    "head = arrayToList(nums)\n",
    "\n",
    "print(listToArray(RKL.remove1(head,1)))"
   ]
  },
  {
   "cell_type": "markdown",
   "metadata": {},
   "source": [
    "### [7.8 Remove Duplicates from a Sorted List](https://leetcode.com/problems/remove-duplicates-from-sorted-list/)"
   ]
  },
  {
   "cell_type": "code",
   "execution_count": null,
   "metadata": {},
   "outputs": [],
   "source": [
    "class RemoveDuplicates:\n",
    "    \n",
    "    #O(n)\n",
    "    def removeDup1(self, head):\n",
    "        if not head:\n",
    "            return None\n",
    "        \n",
    "        node = temp = head\n",
    "        while(temp):\n",
    "            if temp.val == node.val:\n",
    "                temp = temp.next\n",
    "            else:\n",
    "                node.next = temp\n",
    "                node = node.next\n",
    "        else:\n",
    "            node.next = None\n",
    "        return head"
   ]
  },
  {
   "cell_type": "code",
   "execution_count": null,
   "metadata": {},
   "outputs": [],
   "source": [
    "RD = RemoveDuplicates()\n",
    "nums = [1,2,2,3,3,3,4,5,6,6,7,7,8,8,9,9]\n",
    "head = arrayToList(nums)\n",
    "\n",
    "print(listToArray(RD.removeDup1(head)))"
   ]
  },
  {
   "cell_type": "markdown",
   "metadata": {},
   "source": [
    "### Variant8: [1.Remove every Duplicate Element](https://leetcode.com/problems/remove-duplicates-from-sorted-list-ii/) &nbsp;"
   ]
  },
  {
   "cell_type": "code",
   "execution_count": null,
   "metadata": {},
   "outputs": [],
   "source": [
    "class Variant8:\n",
    "    \n",
    "    def variant1(self, head):\n",
    "        dummy = ans  = ListNode(-1,head)\n",
    "        node = head\n",
    "        while(node):\n",
    "            temp,k = node,0\n",
    "            while(temp and temp.val == node.val):\n",
    "                temp = temp.next\n",
    "                k += 1\n",
    "            if k == 1:\n",
    "                ans.next = node\n",
    "                ans = ans.next\n",
    "            node = temp\n",
    "        if ans:\n",
    "            ans.next = None\n",
    "        return dummy.next"
   ]
  },
  {
   "cell_type": "code",
   "execution_count": null,
   "metadata": {},
   "outputs": [],
   "source": [
    "V8 = Variant8()\n",
    "nums = [1,1,2,2,3,3,3,3,3,4,4,4,5,5,6,6,6,7,7]\n",
    "head = arrayToList(nums)\n",
    "\n",
    "print(listToArray(V8.variant1(head)))"
   ]
  },
  {
   "cell_type": "markdown",
   "metadata": {},
   "source": [
    "### [7.9 Implement Cyclic Right Shift for Singly Linked List](https://leetcode.com/problems/rotate-list/)"
   ]
  },
  {
   "cell_type": "code",
   "execution_count": null,
   "metadata": {},
   "outputs": [],
   "source": [
    "class CyclicShift:\n",
    "    \n",
    "    #O(n)\n",
    "    def rotate1(self, head, k):\n",
    "        if not head:\n",
    "            return head\n",
    "        \n",
    "        node, l = head, 1\n",
    "        while(node.next):\n",
    "            l += 1\n",
    "            node = node.next\n",
    "        \n",
    "        k %= l\n",
    "        if k == 0:\n",
    "            return head\n",
    "        \n",
    "        node.next = head\n",
    "        l = l-k \n",
    "        while(l):\n",
    "            l -= 1\n",
    "            node = node.next\n",
    "        head2 = node.next\n",
    "        node.next = None\n",
    "        \n",
    "        return head2"
   ]
  },
  {
   "cell_type": "code",
   "execution_count": null,
   "metadata": {},
   "outputs": [],
   "source": [
    "CS = CyclicShift()\n",
    "nums = [1,2,3,4,5,6,7,8,9]\n",
    "head = arrayToList(nums)\n",
    "\n",
    "print(listToArray(CS.rotate1(head,5)))"
   ]
  },
  {
   "cell_type": "markdown",
   "metadata": {},
   "source": [
    "### [7.10 Implement Even-Odd Merge](https://leetcode.com/problems/odd-even-linked-list/)"
   ]
  },
  {
   "cell_type": "code",
   "execution_count": null,
   "metadata": {},
   "outputs": [],
   "source": [
    "class EvenOdd:\n",
    "    \n",
    "    #O(n)\n",
    "    def merge1(self, head):\n",
    "        if not head:\n",
    "            return head\n",
    "        \n",
    "        oddF,oddL,evenF,evenL = None, None, None, None\n",
    "        node, n = head, 0\n",
    "        while(node):\n",
    "            nextNode = node.next\n",
    "            if not n%2:\n",
    "                if not evenF:\n",
    "                    evenF = node\n",
    "                    evenL = evenF\n",
    "                else:\n",
    "                    evenL.next = node\n",
    "                    evenL = evenL.next\n",
    "            else:\n",
    "                if not oddF:\n",
    "                    oddF = node\n",
    "                    oddL = oddF\n",
    "                else:\n",
    "                    oddL.next = node\n",
    "                    oddL = oddL.next\n",
    "            node.next = None\n",
    "            node = nextNode\n",
    "            n += 1\n",
    "        evenL.next = oddF\n",
    "        return evenF\n",
    "    \n",
    "    #O(n) - ??\n",
    "    def merge2(self, head):\n",
    "        if not head:\n",
    "            return head\n",
    "        \n",
    "        evenF, oddF = ListNode(-1), ListNode(-1)\n",
    "        last = [evenF, oddF]\n",
    "        \n",
    "        node, n = head, 0\n",
    "        while(node):\n",
    "            last[n].next = node\n",
    "            node = node.next\n",
    "            last[n] = last[n].next\n",
    "            n ^= 1\n",
    "        last[1].next = None\n",
    "        last[0].next = oddF.next\n",
    "        return evenF.next"
   ]
  },
  {
   "cell_type": "code",
   "execution_count": null,
   "metadata": {},
   "outputs": [],
   "source": [
    "EO = EvenOdd()\n",
    "nums = [0,1,2,3,4,5,6,7,8,9]\n",
    "head = arrayToList(nums)\n",
    "\n",
    "# print(listToArray(EO.merge1(head)),listToArray(head))\n",
    "print(listToArray(EO.merge2(head)))"
   ]
  },
  {
   "cell_type": "markdown",
   "metadata": {},
   "source": [
    "### [7.11 Test Whether a Singly Linked List in Palindromic](https://leetcode.com/problems/palindrome-linked-list/)"
   ]
  },
  {
   "cell_type": "code",
   "execution_count": null,
   "metadata": {},
   "outputs": [],
   "source": [
    "class PalindromeLL:\n",
    "    \n",
    "    #O(n) - using stack (O(n)-space)\n",
    "    def check1(self, head):\n",
    "        node, l = head, 0\n",
    "        while(node):\n",
    "            node = node.next\n",
    "            l += 1\n",
    "        \n",
    "        k = l//2\n",
    "        stack, node = [], head\n",
    "        while(k):\n",
    "            stack.append(node)\n",
    "            k -= 1\n",
    "            node = node.next\n",
    "        \n",
    "        if l%2:\n",
    "            node = node.next\n",
    "        while(node):\n",
    "            if stack.pop().val != node.val:\n",
    "                return False\n",
    "            node = node.next\n",
    "        return True"
   ]
  },
  {
   "cell_type": "code",
   "execution_count": null,
   "metadata": {},
   "outputs": [],
   "source": [
    "PL = PalindromeLL()\n",
    "nums= []\n",
    "head = arrayToList(nums)\n",
    "\n",
    "print(PL.check1(head))"
   ]
  },
  {
   "cell_type": "markdown",
   "metadata": {},
   "source": [
    "### [7.12 Implement List Pivoting](https://leetcode.com/problems/partition-list/)"
   ]
  },
  {
   "cell_type": "code",
   "execution_count": null,
   "metadata": {},
   "outputs": [],
   "source": [
    "class ListPivot:\n",
    "    \n",
    "    #O(n) - unnecessary use of \n",
    "    def merge1(self, head, k):\n",
    "        if not head:\n",
    "            return head\n",
    "        \n",
    "        lessS, lessE, moreS, moreE = None, None, None, None\n",
    "        node = head\n",
    "        while(node):\n",
    "            nextNode = node.next\n",
    "            if node.val<k:\n",
    "                if not lessS:\n",
    "                    lessS = node\n",
    "                    lessE = lessS\n",
    "                else:\n",
    "                    lessE.next = node\n",
    "                    lessE = lessE.next\n",
    "            else:\n",
    "                if not moreS:\n",
    "                    moreS = node\n",
    "                    moreE = moreS\n",
    "                else:\n",
    "                    moreE.next = node\n",
    "                    moreE = moreE.next\n",
    "            node.next = None\n",
    "            node = nextNode\n",
    "        \n",
    "        if lessS and moreS:\n",
    "            lessE.next = moreS\n",
    "            return lessS\n",
    "        else:\n",
    "            return lessS if lessS else moreS\n",
    "        \n",
    "    #O(n) - optimised code\n",
    "    def merge2(self, head, k):\n",
    "        lessS = lessE = ListNode()\n",
    "        moreS = moreE = ListNode()\n",
    "        node = head\n",
    "        while(node):\n",
    "            if node.val < k:\n",
    "                lessE.next = node\n",
    "                lessE = lessE.next\n",
    "            else:\n",
    "                moreE.next = node\n",
    "                moreE = moreE.next\n",
    "            node = node.next\n",
    "            \n",
    "        moreE.next = None\n",
    "        lessE.next = moreS.next\n",
    "        return lessS.next"
   ]
  },
  {
   "cell_type": "code",
   "execution_count": null,
   "metadata": {},
   "outputs": [],
   "source": [
    "LP = ListPivot()\n",
    "nums = [1,2,3,4,5,3,2,1,2,4,6,7,8,5,4]\n",
    "head = arrayToList(nums)\n",
    "\n",
    "print(listToArray(LP.merge2(head,5)))"
   ]
  },
  {
   "cell_type": "markdown",
   "metadata": {},
   "source": [
    "### 7.13 Add List-Based Integers"
   ]
  },
  {
   "cell_type": "code",
   "execution_count": null,
   "metadata": {},
   "outputs": [],
   "source": [
    "class AddNumbers:\n",
    "    \n",
    "    #O(n+m) - digit-wise addition\n",
    "    def add1(self, head1, head2):\n",
    "        node1, node2 = head1, head2\n",
    "        result = ansHead = ListNode()\n",
    "        carry = 0\n",
    "        while(node1 and node2):\n",
    "            res = (node1.val + node2.val + carry)\n",
    "            ans, carry = res%10, res//10\n",
    "            ansHead.next = ListNode(ans)\n",
    "            ansHead = ansHead.next\n",
    "            \n",
    "            node1 = node1.next\n",
    "            node2 = node2.next\n",
    "            \n",
    "        while(node1):\n",
    "            res = (node1.val+ carry)\n",
    "            ans, carry = res%10, res//10\n",
    "            ansHead.next = ListNode(ans)\n",
    "            ansHead = ansHead.next\n",
    "            \n",
    "            node1 = node1.next\n",
    "         \n",
    "        while(node2):\n",
    "            res = (node2.val + carry)\n",
    "            ans, carry = res%10, res//10\n",
    "            ansHead.next = ListNode(ans)\n",
    "            ansHead = ansHead.next\n",
    "\n",
    "            node2 = node2.next\n",
    "        \n",
    "        if carry:\n",
    "            ansHead.next = ListNode(carry)\n",
    "        \n",
    "        return result.next\n",
    "    \n",
    "    #O(n+m) - optimised and conicse\n",
    "    def add2(self, head1, head2):\n",
    "        result = ans = ListNode()\n",
    "        carry = 0\n",
    "        node1, node2 = head1, head2\n",
    "        while(node1 or node2 or carry):\n",
    "            S = carry + (node1.val if node1 else 0) + (node2.val if node2 else 0)\n",
    "            \n",
    "            node1 = node1.next if node1 else None\n",
    "            node2 = node2.next if node2 else None\n",
    "            \n",
    "            ans.next = ListNode(S%10)\n",
    "            ans = ans.next\n",
    "            carry = S//10\n",
    "        return result.next"
   ]
  },
  {
   "cell_type": "code",
   "execution_count": null,
   "metadata": {},
   "outputs": [],
   "source": [
    "AN = AddNumbers()\n",
    "nums1 = [3,1,4]\n",
    "nums2 = [7,0,9]\n",
    "head1, head2 = arrayToList(nums1), arrayToList(nums2)\n",
    "\n",
    "print(listToArray(AN.add2(head1,head2)))"
   ]
  },
  {
   "cell_type": "markdown",
   "metadata": {},
   "source": [
    "### Variant13: 1. MSD comes first"
   ]
  },
  {
   "cell_type": "code",
   "execution_count": null,
   "metadata": {},
   "outputs": [],
   "source": [
    "class Variant13:\n",
    "    \n",
    "    def variant1(self, head1, head2):\n",
    "        \n",
    "        def reverse(node):\n",
    "            prevNode = None\n",
    "            while(node):\n",
    "                nextNode = node.next\n",
    "                node.next = prevNode\n",
    "                prevNode = node\n",
    "                node = nextNode\n",
    "            return prevNode\n",
    "        \n",
    "        head1 = reverse(head1)\n",
    "        head2 = reverse(head2)\n",
    "        \n",
    "        AN = AddNumbers()\n",
    "        ans = AN.add2(head1, head2)\n",
    "        return reverse(ans)"
   ]
  },
  {
   "cell_type": "code",
   "execution_count": null,
   "metadata": {},
   "outputs": [],
   "source": [
    "V13 = Variant13()\n",
    "nums1 = [4,1,3]\n",
    "nums2 = [9,0,7]\n",
    "head1, head2 = arrayToList(nums1), arrayToList(nums2)\n",
    "\n",
    "print(listToArray(V13.variant1(head1,head2)))"
   ]
  }
 ],
 "metadata": {
  "kernelspec": {
   "display_name": "Python 3",
   "language": "python",
   "name": "python3"
  },
  "language_info": {
   "codemirror_mode": {
    "name": "ipython",
    "version": 3
   },
   "file_extension": ".py",
   "mimetype": "text/x-python",
   "name": "python",
   "nbconvert_exporter": "python",
   "pygments_lexer": "ipython3",
   "version": "3.6.9"
  }
 },
 "nbformat": 4,
 "nbformat_minor": 4
}
