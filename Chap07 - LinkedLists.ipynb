{
 "cells": [
  {
   "cell_type": "markdown",
   "metadata": {},
   "source": [
    "# Chapter 7: Linked Lists"
   ]
  },
  {
   "cell_type": "code",
   "execution_count": 1,
   "metadata": {},
   "outputs": [],
   "source": [
    "import random, math, functools, string"
   ]
  },
  {
   "cell_type": "code",
   "execution_count": 2,
   "metadata": {},
   "outputs": [],
   "source": [
    "class ListNode:\n",
    "    def __init__(self,val=0,next=None):\n",
    "        self.val = val\n",
    "        self.next = next\n",
    "            \n",
    "def arrayToList(nums):\n",
    "    dummyRoot = ListNode()\n",
    "    ptr = dummyRoot\n",
    "    for n in nums:\n",
    "        ptr.next = ListNode(n)\n",
    "        ptr = ptr.next\n",
    "\n",
    "    ptr = dummyRoot.next\n",
    "    return ptr\n",
    "\n",
    "def listToArray(node):\n",
    "    ans = []\n",
    "    while(node):\n",
    "        ans.append(node.val)\n",
    "        node = node.next\n",
    "    return ans\n",
    "\n",
    "def printNode(node):\n",
    "    return node.val"
   ]
  },
  {
   "cell_type": "markdown",
   "metadata": {},
   "source": [
    "### 7.0 Basic Operations for ListAPI"
   ]
  },
  {
   "cell_type": "code",
   "execution_count": 31,
   "metadata": {},
   "outputs": [],
   "source": [
    "class BasicOperations:\n",
    "    \n",
    "    #O(n) - search for a given value\n",
    "    def search(self,head,x):\n",
    "        node = head\n",
    "        while(node):\n",
    "            if node.val == x:\n",
    "                return True\n",
    "            node = node.next\n",
    "        return False\n",
    "    \n",
    "    #O(n) - insert after a given value\n",
    "    def insertAfter(self,head,N,x):\n",
    "        node = head\n",
    "        while(node):\n",
    "            if node.val == N:\n",
    "                temp = ListNode(x)\n",
    "                temp.next = node.next\n",
    "                node.next = temp\n",
    "                break\n",
    "            node = node.next\n",
    "        return head\n",
    "    \n",
    "    #O(n) - delete a value escept tail\n",
    "    def deleteValue(self,head,x):\n",
    "        if head.val == x:\n",
    "            return head.next\n",
    "        \n",
    "        node = head\n",
    "        while(node.next):\n",
    "            if node.next.val == x:\n",
    "                node.next = node.next.next\n",
    "            node = node.next\n",
    "        return head"
   ]
  },
  {
   "cell_type": "code",
   "execution_count": 33,
   "metadata": {},
   "outputs": [
    {
     "name": "stdout",
     "output_type": "stream",
     "text": [
      "[1, 2, 3, 4, 5, 6, 7, 8, 9, 10] [1, 2, 3, 4, 5, 6, 7, 8, 10]\n"
     ]
    }
   ],
   "source": [
    "BO = BasicOperations()\n",
    "\n",
    "nums = [1,2,3,4,5,6,7,8,9,10]\n",
    "head = arrayToList(nums)\n",
    "\n",
    "ans = BO.deleteValue(head,9)\n",
    "print(nums,listToArray(ans))"
   ]
  },
  {
   "cell_type": "markdown",
   "metadata": {},
   "source": [
    "### [7.1 Merge Sorted Linked Lists](https://leetcode.com/problems/merge-two-sorted-lists/)"
   ]
  },
  {
   "cell_type": "code",
   "execution_count": 44,
   "metadata": {},
   "outputs": [],
   "source": [
    "class MergeSorted:\n",
    "    \n",
    "    #O(n+m) - using extra head to calculate ordering\n",
    "    def merge1(self,head1,head2):\n",
    "        ans = node3 = ListNode(-1)\n",
    "        \n",
    "        while(head1 and head2):\n",
    "            if head1.val < head2.val:\n",
    "                node3.next = head1\n",
    "                head1 = head1.next\n",
    "            else:\n",
    "                node3.next = head2\n",
    "                head2 = head2.next\n",
    "            node3 = node3.next\n",
    "            \n",
    "        node3.next = head1 or head2\n",
    "        return ans.next"
   ]
  },
  {
   "cell_type": "code",
   "execution_count": 45,
   "metadata": {},
   "outputs": [
    {
     "name": "stdout",
     "output_type": "stream",
     "text": [
      "[0, 1, 2, 3, 4, 5, 6, 7, 8, 9, 10]\n"
     ]
    }
   ],
   "source": [
    "MS = MergeSorted()\n",
    "\n",
    "h1 = arrayToList([1,3,5,7,9])\n",
    "h2 = arrayToList([0,2,4,6,8,10])\n",
    "\n",
    "print(listToArray(MS.merge1(h1,h2)))"
   ]
  },
  {
   "cell_type": "markdown",
   "metadata": {},
   "source": [
    "### 7.2 Reverse a Single Sublist"
   ]
  },
  {
   "cell_type": "code",
   "execution_count": 100,
   "metadata": {},
   "outputs": [],
   "source": [
    "class ReverseSublist:\n",
    "    \n",
    "    #O(n) - in multiple passes\n",
    "    def reverse1(self, head,i,j):\n",
    "        first = last = head\n",
    "        \n",
    "        k = j-i\n",
    "        while(k>0):\n",
    "            last = last.next\n",
    "            k -= 1\n",
    "            \n",
    "        flag = True\n",
    "        prevFirst = ListNode(-1)\n",
    "        prevFirst.next = head\n",
    "        while(i>1):\n",
    "            prevFirst = prevFirst.next\n",
    "            first = first.next\n",
    "            last = last.next\n",
    "            i -= 1\n",
    "        nextLast = last.next\n",
    "        if prevFirst.next == head:\n",
    "            flag = False\n",
    "        \n",
    "        temp = nextLast\n",
    "        while(temp!=last):\n",
    "            nextNode = first.next\n",
    "            \n",
    "            first.next = temp\n",
    "            \n",
    "            temp = first\n",
    "            first = nextNode\n",
    "        prevFirst.next = temp\n",
    "\n",
    "        return head if flag else prevFirst.next\n",
    "    \n",
    "    #O(n) - using 3 pointer prevFirst, First, Temp to recurrsively shift\n",
    "    def reverse2(self,head,i,j):\n",
    "        dummy = prevFirst = ListNode(0,head)\n",
    "        for _ in range(1,i):\n",
    "            prevFirst = prevFirst.next\n",
    "            \n",
    "        first = prevFirst.next\n",
    "        for _ in range(j-i):\n",
    "            temp = first.next\n",
    "            \n",
    "            first.next = temp.next\n",
    "            temp.next = prevFirst.next\n",
    "            prevFirst.next = temp\n",
    "        \n",
    "        return dummy.next"
   ]
  },
  {
   "cell_type": "code",
   "execution_count": 101,
   "metadata": {},
   "outputs": [
    {
     "name": "stdout",
     "output_type": "stream",
     "text": [
      "[9, 8, 7, 6, 5, 4, 3, 2, 1]\n"
     ]
    }
   ],
   "source": [
    "RS = ReverseSublist()\n",
    "\n",
    "head = arrayToList([1,2,3,4,5,6,7,8,9])\n",
    "print(listToArray(RS.reverse2(head,1,9)))"
   ]
  },
  {
   "cell_type": "markdown",
   "metadata": {},
   "source": [
    "### Variant2 : [1.Reverse a Linked List](https://leetcode.com/problems/reverse-linked-list/)"
   ]
  },
  {
   "cell_type": "code",
   "execution_count": 50,
   "metadata": {},
   "outputs": [],
   "source": [
    "class Variant2:\n",
    "    \n",
    "    def variant1(self,head):\n",
    "        node = head\n",
    "        prevNode = None\n",
    "        while(node):\n",
    "            nextNode = node.next\n",
    "            node.next = prevNode\n",
    "            \n",
    "            prevNode = node\n",
    "            node = nextNode\n",
    "        return prevNode"
   ]
  },
  {
   "cell_type": "code",
   "execution_count": 51,
   "metadata": {},
   "outputs": [
    {
     "name": "stdout",
     "output_type": "stream",
     "text": [
      "[9, 8, 7, 6, 5, 4, 3, 2, 1]\n"
     ]
    }
   ],
   "source": [
    "V2 = Variant2()\n",
    "\n",
    "h1 = arrayToList([1,2,3,4,5,6,7,8,9])\n",
    "print(listToArray(V2.variant1(h1)))"
   ]
  },
  {
   "cell_type": "code",
   "execution_count": null,
   "metadata": {},
   "outputs": [],
   "source": []
  }
 ],
 "metadata": {
  "kernelspec": {
   "display_name": "Python 3",
   "language": "python",
   "name": "python3"
  },
  "language_info": {
   "codemirror_mode": {
    "name": "ipython",
    "version": 3
   },
   "file_extension": ".py",
   "mimetype": "text/x-python",
   "name": "python",
   "nbconvert_exporter": "python",
   "pygments_lexer": "ipython3",
   "version": "3.6.9"
  }
 },
 "nbformat": 4,
 "nbformat_minor": 4
}
