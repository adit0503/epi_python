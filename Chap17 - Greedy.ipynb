{
 "cells": [
  {
   "cell_type": "markdown",
   "metadata": {},
   "source": [
    "# Chapter 17: Greedy\n",
    "1. Compute an optimum assignment of tasks \n",
    "2. Schedule to minimize waiting time \n",
    "3. The interval covering problem \n",
    "4. The 3-sum problem \n",
    "5. Find the majority element \n",
    "6. The gasup problem \n",
    "7. Compute the maximum water trapped by a pair of vertical lines \n",
    "8. Compute the largest rectangle under the skyline "
   ]
  },
  {
   "cell_type": "code",
   "execution_count": null,
   "metadata": {},
   "outputs": [],
   "source": []
  }
 ],
 "metadata": {
  "kernelspec": {
   "display_name": "Python 3",
   "language": "python",
   "name": "python3"
  },
  "language_info": {
   "codemirror_mode": {
    "name": "ipython",
    "version": 3
   },
   "file_extension": ".py",
   "mimetype": "text/x-python",
   "name": "python",
   "nbconvert_exporter": "python",
   "pygments_lexer": "ipython3",
   "version": "3.8.5"
  }
 },
 "nbformat": 4,
 "nbformat_minor": 4
}
