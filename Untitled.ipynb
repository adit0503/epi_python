{
 "cells": [
  {
   "cell_type": "code",
   "execution_count": 1,
   "metadata": {},
   "outputs": [],
   "source": [
    "import unittest"
   ]
  },
  {
   "cell_type": "code",
   "execution_count": 7,
   "metadata": {},
   "outputs": [],
   "source": [
    "class CountBits:\n",
    "    \n",
    "    #O(n) - using builtin functions: bin(), count()\n",
    "    def countBits(self,n):\n",
    "        binaryRep = bin(n)[2:]\n",
    "        return binaryRep.count('1')\n",
    "\n",
    "    #O(n) - using bit manipulation: &, >>\n",
    "    def countBits2(self,n):\n",
    "        count = 0\n",
    "        while(n):\n",
    "            if n&1:\n",
    "                count += 1\n",
    "            n = n >> 1\n",
    "        return count"
   ]
  },
  {
   "cell_type": "code",
   "execution_count": 10,
   "metadata": {},
   "outputs": [
    {
     "name": "stderr",
     "output_type": "stream",
     "text": [
      ".\n",
      "----------------------------------------------------------------------\n",
      "Ran 1 test in 0.002s\n",
      "\n",
      "OK\n"
     ]
    }
   ],
   "source": [
    "class TestCountBits(unittest.TestCase):\n",
    "    \n",
    "    def test_countBits(self):\n",
    "        CB = CountBits()\n",
    "        self.assertEqual(CB.countBits(32066),8)\n",
    "        self.assertEqual(CB.countBits2(32066),8)\n",
    "\n",
    "if __name__ == '__main__':\n",
    "    unittest.main(argv=['first-arg-is-ignored'], exit=False)"
   ]
  },
  {
   "cell_type": "code",
   "execution_count": null,
   "metadata": {},
   "outputs": [],
   "source": []
  }
 ],
 "metadata": {
  "kernelspec": {
   "display_name": "Python 3",
   "language": "python",
   "name": "python3"
  },
  "language_info": {
   "codemirror_mode": {
    "name": "ipython",
    "version": 3
   },
   "file_extension": ".py",
   "mimetype": "text/x-python",
   "name": "python",
   "nbconvert_exporter": "python",
   "pygments_lexer": "ipython3",
   "version": "3.8.5"
  }
 },
 "nbformat": 4,
 "nbformat_minor": 4
}
