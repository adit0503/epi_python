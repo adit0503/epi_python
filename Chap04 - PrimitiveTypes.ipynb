{
 "cells": [
  {
   "cell_type": "code",
   "execution_count": 1,
   "metadata": {},
   "outputs": [],
   "source": [
    "import sys,math,random\n",
    "\n",
    "# n = random.randrange(100)\n",
    "# nums = [random.randrange(100) for _ in range(20)]"
   ]
  },
  {
   "cell_type": "markdown",
   "metadata": {},
   "source": [
    "### [4.0 Number of 1 bits](https://leetcode.com/problems/number-of-1-bits/)"
   ]
  },
  {
   "cell_type": "code",
   "execution_count": null,
   "metadata": {},
   "outputs": [],
   "source": [
    "class CountBits:\n",
    "    \n",
    "    #O(n) - using builtin functions: bin(), count()\n",
    "    def countBits(self,n):\n",
    "        binaryRep = bin(n)[2:]\n",
    "        return binaryRep.count('1')\n",
    "\n",
    "    #O(n) - using bit manipulation: &, >>\n",
    "    def countBits2(self,n):\n",
    "        count = 0\n",
    "        while(n):\n",
    "            if n&1:\n",
    "                count += 1\n",
    "            n = n >> 1\n",
    "        return count"
   ]
  },
  {
   "cell_type": "code",
   "execution_count": null,
   "metadata": {},
   "outputs": [],
   "source": [
    "CB = CountBits()\n",
    "n = random.randrange(2**16-1)\n",
    "print(n,bin(n)[2:])\n",
    "\n",
    "print(CB.countBits(n),CB.countBits2(n))"
   ]
  },
  {
   "cell_type": "markdown",
   "metadata": {},
   "source": [
    "### 4.1 Computing The Parity of a Word"
   ]
  },
  {
   "cell_type": "code",
   "execution_count": null,
   "metadata": {},
   "outputs": [],
   "source": [
    "class WordParity:\n",
    "    \n",
    "    # an array used to store the parity all 16bits numbers: 0 to 2**16-1\n",
    "    def __init__(self):\n",
    "        self.PRECOMPUTED_PARITY = []\n",
    "        for i in range(2**16):\n",
    "            self.PRECOMPUTED_PARITY.append(self.wordParity3(i))\n",
    "    \n",
    "    #O(n) - brute force: using the count of ones in the binary rep of the word\n",
    "    def wordParity(self,N):\n",
    "        count = 0\n",
    "        while(N):\n",
    "            count += N&1\n",
    "            N >>= 1\n",
    "\n",
    "        return count%2\n",
    "    \n",
    "    #O(n) - using XOR operator to keep track of parity\n",
    "    def wordParity2(self,N):\n",
    "        parity = 0\n",
    "        while(N):\n",
    "            parity ^= N&1\n",
    "            N >>= 1\n",
    "\n",
    "        return parity\n",
    "    \n",
    "    #O(n) - using bit manipulation shortcut x&(x-1) = unsets(0) the lowest set bit(1)\n",
    "    def wordParity3(self,N):\n",
    "        parity = 0\n",
    "        while(N):\n",
    "            N = N & (N-1)\n",
    "            parity ^= 1\n",
    "\n",
    "        return parity\n",
    "    \n",
    "    #O(n) - using complete bit manipulation with precomputed parity\n",
    "    def wordParity4(self,N):\n",
    "        MASK_SIZE = 16\n",
    "        BIT_MASK = 0xFFFF\n",
    "        return (self.PRECOMPUTED_PARITY[N >> (3 * MASK_SIZE)] ^ \n",
    "                self.PRECOMPUTED_PARITY[(N >> (2 * MASK_SIZE)) & BIT_MASK] ^ \n",
    "                self.PRECOMPUTED_PARITY[(N >> MASK_SIZE) & BIT_MASK] ^ \n",
    "                self.PRECOMPUTED_PARITY[N & BIT_MASK])\n",
    "    \n",
    "    #O(logn) - using the XOR property of bit manipulation (Xtreme logic)\n",
    "    def wordParity5(self,N):\n",
    "        i = 32\n",
    "        while(i):\n",
    "            N = N ^ (N >> i)\n",
    "            i = i//2\n",
    "        return N & 0x1"
   ]
  },
  {
   "cell_type": "code",
   "execution_count": null,
   "metadata": {},
   "outputs": [],
   "source": [
    "n = random.randrange(2**16-1)\n",
    "WP = WordParity()\n",
    "\n",
    "print(n,bin(n)[2:])\n",
    "print(WP.wordParity5(n))"
   ]
  },
  {
   "cell_type": "code",
   "execution_count": null,
   "metadata": {},
   "outputs": [],
   "source": [
    "#O(1) - using purely bit manipulations\n",
    "\n",
    "class Variant:\n",
    "    \n",
    "    def variant1(self,x):\n",
    "        y = x & ~(x-1) #isolate last set bit\n",
    "        return x^(y-1)\n",
    "    \n",
    "    def variant2(self,x,i):\n",
    "        return x & (2**i -1)\n",
    "    \n",
    "    def variant3(self,x):\n",
    "        return not bool(x & (x-1))\n",
    "    "
   ]
  },
  {
   "cell_type": "code",
   "execution_count": null,
   "metadata": {},
   "outputs": [],
   "source": [
    "V = Variant()\n",
    "x = random.randrange(2**16-1)\n",
    "\n",
    "print(bin(x)[2:],bin(V.variant1(x))[2:])\n",
    "# print(V.variant2(26,4))\n",
    "# print(V.variant3(63))"
   ]
  },
  {
   "cell_type": "markdown",
   "metadata": {},
   "source": [
    "### 4.2 Swap Bits"
   ]
  },
  {
   "cell_type": "code",
   "execution_count": null,
   "metadata": {},
   "outputs": [],
   "source": [
    "#O(1) - check i,j are different and then use bit_mask to xor \n",
    "\n",
    "class SwapBits:\n",
    "\n",
    "    def swapBits(self,N,i,j):\n",
    "        bit_mask = 0\n",
    "        if((N>>i & 1) != (N>>j & 1)):\n",
    "            bit_mask = (1<<i) | (1<<j)\n",
    "        \n",
    "        return N ^ bit_mask"
   ]
  },
  {
   "cell_type": "code",
   "execution_count": null,
   "metadata": {},
   "outputs": [],
   "source": [
    "SB = SwapBits()\n",
    "x = random.randrange(2**8-1)\n",
    "i = random.randrange(8)\n",
    "j = random.randrange(8)\n",
    "\n",
    "print(bin(x)[2:],i,j)\n",
    "ans = SB.swapBits(x,i,j)\n",
    "print(bin(ans)[2:])"
   ]
  },
  {
   "cell_type": "markdown",
   "metadata": {},
   "source": [
    "### [4.3 Reverse Bits](https://leetcode.com/problems/reverse-bits/)"
   ]
  },
  {
   "cell_type": "code",
   "execution_count": 51,
   "metadata": {},
   "outputs": [],
   "source": [
    "class ReverseBits:\n",
    "    \n",
    "    def __init__(self):\n",
    "        self.PRECOMPUTED_REVERSE = []\n",
    "        for i in range(2**8):\n",
    "            self.PRECOMPUTED_REVERSE.append(self.reverseBits1(i))\n",
    "    \n",
    "    #O(logn) - using builtin methods format(), reverse()\n",
    "    def reverseBits1(self,N):\n",
    "        bit_str = format(N,'032b')\n",
    "        reverse_str = bit_str[::-1]\n",
    "        return int(reverse_str, 2)\n",
    "    \n",
    "    #O(1) - using mask and shift\n",
    "    def reverseBits2(self,N):\n",
    "        MASK_SIZE = 8\n",
    "        BIT_MASK = 0xFF\n",
    "        ans,i = 0,3\n",
    "        while(i>-1):\n",
    "            ans |= self.PRECOMPUTED_REVERSE[(N >> ((3-i)*MASK_SIZE) & BIT_MASK)] << (i*MASK_SIZE)\n",
    "            i -= 1\n",
    "        return ans >> 24\n",
    "    \n",
    "    #O(logn) - using bit by bit in reverse\n",
    "    def reverseBits3(self,N):\n",
    "        ans,i = 0,31\n",
    "        while(N):\n",
    "            ans |= (N&1) << i\n",
    "            N >>= 1\n",
    "            i -= 1\n",
    "        return ans"
   ]
  },
  {
   "cell_type": "code",
   "execution_count": 52,
   "metadata": {},
   "outputs": [
    {
     "name": "stdout",
     "output_type": "stream",
     "text": [
      "00110001110110101011001101000001 836416321\n",
      "10000010110011010101101110001100 2194496396\n"
     ]
    }
   ],
   "source": [
    "RB = ReverseBits()\n",
    "x = random.randrange(2**32-1)\n",
    "\n",
    "print(format(x,'032b'),x)\n",
    "ans = RB.reverseBits2(x)\n",
    "print(format(ans,'032b'),ans)"
   ]
  },
  {
   "cell_type": "markdown",
   "metadata": {},
   "source": [
    "### 4.4 Find the Closest Integer with the Same Weight"
   ]
  },
  {
   "cell_type": "code",
   "execution_count": 91,
   "metadata": {},
   "outputs": [],
   "source": [
    "class ClosestSameWeight:\n",
    "    \n",
    "    #O(logn) - swap two rightmost consecutive bits that differ\n",
    "    def sameWeight1(self,N):\n",
    "        for i in range(32):\n",
    "            if (N>>i)&1 != (N>>(i+1))&1:\n",
    "                swap_mask = (1<<i) | (1<<(i+1))\n",
    "                break\n",
    "        return N ^ swap_mask\n",
    "    \n",
    "    #O(1) - using set and not-set bits \n",
    "    def sameWeight2(self,N):\n",
    "        LSB1 = N & ~(N-1)\n",
    "        LSB0 = ~N & (N+1)\n",
    "        \n",
    "        if LSB0 > LSB1:\n",
    "            N |= LSB0\n",
    "            N ^= LSB0>>1\n",
    "        else:\n",
    "            N ^= LSB1\n",
    "            N |= LSB1>>1\n",
    "        \n",
    "        return N"
   ]
  },
  {
   "cell_type": "code",
   "execution_count": 93,
   "metadata": {},
   "outputs": [
    {
     "name": "stdout",
     "output_type": "stream",
     "text": [
      "00001111011100000101111100110110 259022646\n",
      "00001111011100000101111100110101 259022645\n"
     ]
    }
   ],
   "source": [
    "CSW = ClosestSameWeight()\n",
    "x = random.randrange(2**32-1)\n",
    "\n",
    "print(format(x,'032b'),x)\n",
    "ans = CSW.sameWeight2(x)\n",
    "print(format(ans,'032b'),ans)"
   ]
  },
  {
   "cell_type": "markdown",
   "metadata": {},
   "source": [
    "### 4.5 Compute X + Y without Arithmetical Operators"
   ]
  },
  {
   "cell_type": "code",
   "execution_count": 120,
   "metadata": {},
   "outputs": [],
   "source": [
    "class Add:\n",
    "    \n",
    "    def add(self,a,b):\n",
    "        MAX = 0x7FFFFFFF\n",
    "        mask = 0xFFFFFFFF\n",
    "        while b != 0:\n",
    "            a, b = (a ^ b) & mask, ((a & b) << 1) & mask\n",
    "\n",
    "        return a if a <= MAX else ~(a^mask)"
   ]
  },
  {
   "cell_type": "code",
   "execution_count": 123,
   "metadata": {},
   "outputs": [
    {
     "data": {
      "text/plain": [
       "131072"
      ]
     },
     "execution_count": 123,
     "metadata": {},
     "output_type": "execute_result"
    }
   ],
   "source": [
    "A = Add()\n",
    "A.add(2**16,2**16)"
   ]
  },
  {
   "cell_type": "code",
   "execution_count": null,
   "metadata": {},
   "outputs": [],
   "source": []
  },
  {
   "cell_type": "markdown",
   "metadata": {},
   "source": [
    "### 4.5 Compute X * Y without Arithmetical Operators"
   ]
  },
  {
   "cell_type": "code",
   "execution_count": null,
   "metadata": {},
   "outputs": [],
   "source": [
    "class Multiply:\n",
    "    \n",
    "    def multiply(self,x,y):\n",
    "        "
   ]
  },
  {
   "cell_type": "code",
   "execution_count": null,
   "metadata": {},
   "outputs": [],
   "source": []
  },
  {
   "cell_type": "code",
   "execution_count": 100,
   "metadata": {},
   "outputs": [
    {
     "data": {
      "text/plain": [
       "36"
      ]
     },
     "execution_count": 100,
     "metadata": {},
     "output_type": "execute_result"
    }
   ],
   "source": []
  },
  {
   "cell_type": "code",
   "execution_count": null,
   "metadata": {},
   "outputs": [],
   "source": []
  }
 ],
 "metadata": {
  "kernelspec": {
   "display_name": "Python 3",
   "language": "python",
   "name": "python3"
  },
  "language_info": {
   "codemirror_mode": {
    "name": "ipython",
    "version": 3
   },
   "file_extension": ".py",
   "mimetype": "text/x-python",
   "name": "python",
   "nbconvert_exporter": "python",
   "pygments_lexer": "ipython3",
   "version": "3.6.9"
  }
 },
 "nbformat": 4,
 "nbformat_minor": 4
}
