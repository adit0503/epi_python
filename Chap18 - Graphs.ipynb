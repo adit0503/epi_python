{
 "cells": [
  {
   "cell_type": "markdown",
   "metadata": {},
   "source": [
    "# Chapter 18: Graphs\n",
    "0. Match results\n",
    "1. Search a maze \n",
    "2. Paint a Boolean matrix \n",
    "3. Compute enclosed regions \n",
    "4. Deadlock detection \n",
    "5. Clone a graph \n",
    "6. Making wired connections \n",
    "7. Transform one string to another \n",
    "8. Team photo day—2 "
   ]
  },
  {
   "cell_type": "code",
   "execution_count": 1,
   "metadata": {},
   "outputs": [],
   "source": [
    "import collections"
   ]
  },
  {
   "cell_type": "markdown",
   "metadata": {},
   "source": [
    "### 18.0 Match Results"
   ]
  },
  {
   "cell_type": "code",
   "execution_count": null,
   "metadata": {},
   "outputs": [],
   "source": [
    "#O(E)\n",
    "\n",
    "MatchResult = collections.namedtuple('MatchResult',('win','lose'))\n",
    "\n",
    "def canBeat(matches, A, B):\n",
    "    def buildGraph():\n",
    "        graph = collections.defaultdict(set)\n",
    "        for match in matches:\n",
    "            graph[match.win].add(match.lose)\n",
    "        return graph\n",
    "    \n",
    "    def isReachable(graph, curr, dest, visited=set()):\n",
    "        if curr == dest:\n",
    "            return True\n",
    "        elif curr in visited or curr not in graph:\n",
    "            return False\n",
    "        visited.add(curr)\n",
    "        return any(isReachable(graph,team,dest) for team in graph[curr])\n",
    "    \n",
    "    return isReachable(buildGraph(), A, B)"
   ]
  },
  {
   "cell_type": "markdown",
   "metadata": {},
   "source": [
    "### 18.1 Search a Maze"
   ]
  },
  {
   "cell_type": "code",
   "execution_count": 13,
   "metadata": {},
   "outputs": [],
   "source": [
    "class SearchMaze:\n",
    "    \n",
    "    def search1(self, maze):\n",
    "        n,m = len(maze)-1,len(maze[0])-1\n",
    "        \n",
    "        def recurrsion(i,j):\n",
    "            if i==n and j==m:\n",
    "                return True\n",
    "            \n",
    "            if i>n or j>m:\n",
    "                return False\n",
    "            \n",
    "            if maze[i][j] == 1:\n",
    "                return False\n",
    "            \n",
    "            return recurrsion(i+1,j) or recurrsion(i,j+1)\n",
    "        \n",
    "        return recurrsion(0,0)"
   ]
  },
  {
   "cell_type": "code",
   "execution_count": 15,
   "metadata": {},
   "outputs": [
    {
     "name": "stdout",
     "output_type": "stream",
     "text": [
      "True\n",
      "True\n"
     ]
    }
   ],
   "source": [
    "SM = SearchMaze()\n",
    "\n",
    "Maze = ([[0, 0, 1, 0, 0], [0, 0, 0, 0, 0], [0, 0, 0, 1, 0], [1, 1, 0, 1, 1], [0, 0, 0, 0, 0]],[[0, 1, 1, 1],[0, 0, 1, 0],[1, 0, 1, 1],[0, 0, 0, 0]])\n",
    "for maze in Maze:\n",
    "    print(SM.search1(maze))"
   ]
  },
  {
   "cell_type": "code",
   "execution_count": null,
   "metadata": {},
   "outputs": [],
   "source": [
    "[[0, 1, 1, 1],[0, 0, 1, 0],[1, 0, 1, 1],[0, 0, 0, 0]]"
   ]
  }
 ],
 "metadata": {
  "kernelspec": {
   "display_name": "Python 3",
   "language": "python",
   "name": "python3"
  },
  "language_info": {
   "codemirror_mode": {
    "name": "ipython",
    "version": 3
   },
   "file_extension": ".py",
   "mimetype": "text/x-python",
   "name": "python",
   "nbconvert_exporter": "python",
   "pygments_lexer": "ipython3",
   "version": "3.8.5"
  }
 },
 "nbformat": 4,
 "nbformat_minor": 4
}
