{
 "cells": [
  {
   "cell_type": "code",
   "execution_count": 1,
   "metadata": {},
   "outputs": [],
   "source": [
    "import sys,math,random\n",
    "\n",
    "# n = random.randrange(100)\n",
    "# nums = [random.randrange(100) for _ in range(20)]"
   ]
  },
  {
   "cell_type": "markdown",
   "metadata": {},
   "source": [
    "### [4.0 Number of 1 bits](https://leetcode.com/problems/number-of-1-bits/)"
   ]
  },
  {
   "cell_type": "code",
   "execution_count": null,
   "metadata": {},
   "outputs": [],
   "source": [
    "#O(n) - using builtin functions: bin(), count()\n",
    "\n",
    "def countBits(n):\n",
    "    binaryRep = bin(n)[2:]\n",
    "    return binaryRep.count('1')"
   ]
  },
  {
   "cell_type": "code",
   "execution_count": null,
   "metadata": {},
   "outputs": [],
   "source": [
    "countBits()"
   ]
  },
  {
   "cell_type": "code",
   "execution_count": null,
   "metadata": {},
   "outputs": [],
   "source": [
    "#O(n) - using bit manipulation: &, >>\n",
    "\n",
    "def countBits2(n):\n",
    "    count = 0\n",
    "    while(n):\n",
    "        if n&1:\n",
    "            count += 1\n",
    "        n = n >> 1\n",
    "    return count"
   ]
  },
  {
   "cell_type": "code",
   "execution_count": null,
   "metadata": {},
   "outputs": [],
   "source": [
    "countBits2(15)"
   ]
  },
  {
   "cell_type": "markdown",
   "metadata": {},
   "source": [
    "### 4.1 Computing The Parity of a Word"
   ]
  },
  {
   "cell_type": "code",
   "execution_count": 38,
   "metadata": {},
   "outputs": [],
   "source": [
    "class WordParity:\n",
    "    \n",
    "    #O(n) - brute force: using the count of ones in the binary rep of the word\n",
    "    def wordParity(self,N):\n",
    "        count = 0\n",
    "        while(N):\n",
    "            count += N&1\n",
    "            N >>= 1\n",
    "\n",
    "        return count%2\n",
    "    \n",
    "    #O(n) - using XOR operator to keep track of parity\n",
    "    def wordParity2(self,N):\n",
    "        parity = 0\n",
    "        while(N):\n",
    "            parity ^= N&1\n",
    "            N >>= 1\n",
    "\n",
    "        return parity\n",
    "    \n",
    "    #O(n) - using bit manipulation shortcut x&(x-1) = unsets the lowest set bit(1)\n",
    "    def wordParity3(self,N):\n",
    "        parity = 0\n",
    "        while(N):\n",
    "            N = N&(N-1)\n",
    "            parity ^= 1\n",
    "\n",
    "        return parity\n",
    "    \n",
    "    #O(n) - using complete bit manipulation with precomputed parity\n",
    "    def wordParity4(self,N):\n",
    "        PRECOMPUTED_PARITY = [0, 1, 1, 0, 1, 0, 0, 1, 1, 0, 0, 1, 0, 1, 1, 0]\n",
    "        MASK_SIZE = 4\n",
    "        BIT_MASK = 0xFFFF\n",
    "        return (PRECOMPUTED_PARITY[N >> (3 * MASK_SIZE)] ^ \n",
    "                PRECOMPUTED_PARITY[(N >> (2 * MASK_SIZE)) & BIT_MASK] ^ \n",
    "                PRECOMPUTED_PARITY[(N >> MASK_SIZE) & BIT_MASK] ^ \n",
    "                PRECOMPUTED_PARITY[N & BIT_MASK])"
   ]
  },
  {
   "cell_type": "code",
   "execution_count": 46,
   "metadata": {},
   "outputs": [
    {
     "name": "stdout",
     "output_type": "stream",
     "text": [
      "10 1010\n",
      "0\n"
     ]
    }
   ],
   "source": [
    "n = random.randint(2**3,2**4-1)\n",
    "WP = WordParity()\n",
    "\n",
    "print(n,bin(n)[2:])\n",
    "print(WP.wordParity4(n))"
   ]
  },
  {
   "cell_type": "code",
   "execution_count": null,
   "metadata": {},
   "outputs": [],
   "source": []
  }
 ],
 "metadata": {
  "kernelspec": {
   "display_name": "Python 3",
   "language": "python",
   "name": "python3"
  },
  "language_info": {
   "codemirror_mode": {
    "name": "ipython",
    "version": 3
   },
   "file_extension": ".py",
   "mimetype": "text/x-python",
   "name": "python",
   "nbconvert_exporter": "python",
   "pygments_lexer": "ipython3",
   "version": "3.6.9"
  }
 },
 "nbformat": 4,
 "nbformat_minor": 4
}
