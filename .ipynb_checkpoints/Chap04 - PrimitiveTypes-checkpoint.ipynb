{
 "cells": [
  {
   "cell_type": "code",
   "execution_count": 1,
   "metadata": {},
   "outputs": [],
   "source": [
    "import sys,math,random,collections\n",
    "\n",
    "# n = random.randrange(100)\n",
    "# nums = [random.randrange(100) for _ in range(20)]"
   ]
  },
  {
   "cell_type": "markdown",
   "metadata": {},
   "source": [
    "### [4.0 Number of 1 bits](https://leetcode.com/problems/number-of-1-bits/)"
   ]
  },
  {
   "cell_type": "code",
   "execution_count": null,
   "metadata": {},
   "outputs": [],
   "source": [
    "class CountBits:\n",
    "    \n",
    "    #O(n) - using builtin functions: bin(), count()\n",
    "    def countBits(self,n):\n",
    "        binaryRep = bin(n)[2:]\n",
    "        return binaryRep.count('1')\n",
    "\n",
    "    #O(n) - using bit manipulation: &, >>\n",
    "    def countBits2(self,n):\n",
    "        count = 0\n",
    "        while(n):\n",
    "            if n&1:\n",
    "                count += 1\n",
    "            n = n >> 1\n",
    "        return count"
   ]
  },
  {
   "cell_type": "code",
   "execution_count": null,
   "metadata": {},
   "outputs": [],
   "source": [
    "CB = CountBits()\n",
    "n = random.randrange(2**16-1)\n",
    "print(n,bin(n)[2:])\n",
    "\n",
    "print(CB.countBits(n),CB.countBits2(n))"
   ]
  },
  {
   "cell_type": "markdown",
   "metadata": {},
   "source": [
    "### 4.1 Computing The Parity of a Word"
   ]
  },
  {
   "cell_type": "code",
   "execution_count": null,
   "metadata": {},
   "outputs": [],
   "source": [
    "class WordParity:\n",
    "    \n",
    "    # an array used to store the parity all 16bits numbers: 0 to 2**16-1\n",
    "    def __init__(self):\n",
    "        self.PRECOMPUTED_PARITY = []\n",
    "        for i in range(2**16):\n",
    "            self.PRECOMPUTED_PARITY.append(self.wordParity3(i))\n",
    "    \n",
    "    #O(n) - brute force: using the count of ones in the binary rep of the word\n",
    "    def wordParity(self,N):\n",
    "        count = 0\n",
    "        while(N):\n",
    "            count += N&1\n",
    "            N >>= 1\n",
    "\n",
    "        return count%2\n",
    "    \n",
    "    #O(n) - using XOR operator to keep track of parity\n",
    "    def wordParity2(self,N):\n",
    "        parity = 0\n",
    "        while(N):\n",
    "            parity ^= N&1\n",
    "            N >>= 1\n",
    "\n",
    "        return parity\n",
    "    \n",
    "    #O(n) - using bit manipulation shortcut x&(x-1) = unsets(0) the lowest set bit(1)\n",
    "    def wordParity3(self,N):\n",
    "        parity = 0\n",
    "        while(N):\n",
    "            N = N & (N-1)\n",
    "            parity ^= 1\n",
    "\n",
    "        return parity\n",
    "    \n",
    "    #O(n) - using complete bit manipulation with precomputed parity\n",
    "    def wordParity4(self,N):\n",
    "        MASK_SIZE = 16\n",
    "        BIT_MASK = 0xFFFF\n",
    "        return (self.PRECOMPUTED_PARITY[N >> (3 * MASK_SIZE)] ^ \n",
    "                self.PRECOMPUTED_PARITY[(N >> (2 * MASK_SIZE)) & BIT_MASK] ^ \n",
    "                self.PRECOMPUTED_PARITY[(N >> MASK_SIZE) & BIT_MASK] ^ \n",
    "                self.PRECOMPUTED_PARITY[N & BIT_MASK])\n",
    "    \n",
    "    #O(logn) - using the XOR property of bit manipulation (Xtreme logic)\n",
    "    def wordParity5(self,N):\n",
    "        i = 32\n",
    "        while(i):\n",
    "            N = N ^ (N >> i)\n",
    "            i = i//2\n",
    "        return N & 0x1"
   ]
  },
  {
   "cell_type": "code",
   "execution_count": null,
   "metadata": {},
   "outputs": [],
   "source": [
    "n = random.randrange(2**16-1)\n",
    "WP = WordParity()\n",
    "\n",
    "print(n,bin(n)[2:])\n",
    "print(WP.wordParity5(n))"
   ]
  },
  {
   "cell_type": "code",
   "execution_count": null,
   "metadata": {},
   "outputs": [],
   "source": [
    "#O(1) - using purely bit manipulations\n",
    "\n",
    "class Variant:\n",
    "    \n",
    "    def variant1(self,x):\n",
    "        y = x & ~(x-1) #isolate last set bit\n",
    "        return x^(y-1)\n",
    "    \n",
    "    def variant2(self,x,i):\n",
    "        return x & (2**i -1)\n",
    "    \n",
    "    def variant3(self,x):\n",
    "        return not bool(x & (x-1))\n",
    "    "
   ]
  },
  {
   "cell_type": "code",
   "execution_count": null,
   "metadata": {},
   "outputs": [],
   "source": [
    "V = Variant()\n",
    "x = random.randrange(2**16-1)\n",
    "\n",
    "print(bin(x)[2:],bin(V.variant1(x))[2:])\n",
    "# print(V.variant2(26,4))\n",
    "# print(V.variant3(63))"
   ]
  },
  {
   "cell_type": "markdown",
   "metadata": {},
   "source": [
    "### 4.2 Swap Bits"
   ]
  },
  {
   "cell_type": "code",
   "execution_count": null,
   "metadata": {},
   "outputs": [],
   "source": [
    "#O(1) - check i,j are different and then use bit_mask to xor \n",
    "\n",
    "class SwapBits:\n",
    "\n",
    "    def swapBits(self,N,i,j):\n",
    "        bit_mask = 0\n",
    "        if((N>>i & 1) != (N>>j & 1)):\n",
    "            bit_mask = (1<<i) | (1<<j)\n",
    "        \n",
    "        return N ^ bit_mask"
   ]
  },
  {
   "cell_type": "code",
   "execution_count": null,
   "metadata": {},
   "outputs": [],
   "source": [
    "SB = SwapBits()\n",
    "x = random.randrange(2**8-1)\n",
    "i = random.randrange(8)\n",
    "j = random.randrange(8)\n",
    "\n",
    "print(bin(x)[2:],i,j)\n",
    "ans = SB.swapBits(x,i,j)\n",
    "print(bin(ans)[2:])"
   ]
  },
  {
   "cell_type": "markdown",
   "metadata": {},
   "source": [
    "### [4.3 Reverse Bits](https://leetcode.com/problems/reverse-bits/)"
   ]
  },
  {
   "cell_type": "code",
   "execution_count": null,
   "metadata": {},
   "outputs": [],
   "source": [
    "class ReverseBits:\n",
    "    \n",
    "    def __init__(self):\n",
    "        self.PRECOMPUTED_REVERSE = []\n",
    "        for i in range(2**8):\n",
    "            self.PRECOMPUTED_REVERSE.append(self.reverseBits1(i))\n",
    "    \n",
    "    #O(logn) - using builtin methods format(), reverse()\n",
    "    def reverseBits1(self,N):\n",
    "        bit_str = format(N,'032b')\n",
    "        reverse_str = bit_str[::-1]\n",
    "        return int(reverse_str, 2)\n",
    "    \n",
    "    #O(1) - using mask and shift\n",
    "    def reverseBits2(self,N):\n",
    "        MASK_SIZE = 8\n",
    "        BIT_MASK = 0xFF\n",
    "        ans,i = 0,3\n",
    "        while(i>-1):\n",
    "            ans |= self.PRECOMPUTED_REVERSE[(N >> ((3-i)*MASK_SIZE) & BIT_MASK)] << (i*MASK_SIZE)\n",
    "            i -= 1\n",
    "        return ans >> 24\n",
    "    \n",
    "    #O(logn) - using bit by bit in reverse\n",
    "    def reverseBits3(self,N):\n",
    "        ans,i = 0,31\n",
    "        while(N):\n",
    "            ans |= (N&1) << i\n",
    "            N >>= 1\n",
    "            i -= 1\n",
    "        return ans"
   ]
  },
  {
   "cell_type": "code",
   "execution_count": null,
   "metadata": {},
   "outputs": [],
   "source": [
    "RB = ReverseBits()\n",
    "x = random.randrange(2**32-1)\n",
    "\n",
    "print(format(x,'032b'),x)\n",
    "ans = RB.reverseBits2(x)\n",
    "print(format(ans,'032b'),ans)"
   ]
  },
  {
   "cell_type": "markdown",
   "metadata": {},
   "source": [
    "### 4.4 Find the Closest Integer with the Same Weight"
   ]
  },
  {
   "cell_type": "code",
   "execution_count": null,
   "metadata": {},
   "outputs": [],
   "source": [
    "class ClosestSameWeight:\n",
    "    \n",
    "    #O(logn) - swap two rightmost consecutive bits that differ\n",
    "    def sameWeight1(self,N):\n",
    "        for i in range(32):\n",
    "            if (N>>i)&1 != (N>>(i+1))&1:\n",
    "                swap_mask = (1<<i) | (1<<(i+1))\n",
    "                break\n",
    "        return N ^ swap_mask\n",
    "    \n",
    "    #O(1) - using set and not-set bits \n",
    "    def sameWeight2(self,N):\n",
    "        LSB1 = N & ~(N-1)\n",
    "        LSB0 = ~N & (N+1)\n",
    "        \n",
    "        if LSB0 > LSB1:\n",
    "            N |= LSB0\n",
    "            N ^= LSB0>>1\n",
    "        else:\n",
    "            N ^= LSB1\n",
    "            N |= LSB1>>1\n",
    "        \n",
    "        return N"
   ]
  },
  {
   "cell_type": "code",
   "execution_count": null,
   "metadata": {},
   "outputs": [],
   "source": [
    "CSW = ClosestSameWeight()\n",
    "x = random.randrange(2**32-1)\n",
    "\n",
    "print(format(x,'032b'),x)\n",
    "ans = CSW.sameWeight2(x)\n",
    "print(format(ans,'032b'),ans)"
   ]
  },
  {
   "cell_type": "markdown",
   "metadata": {},
   "source": [
    "### [4.5 Compute X + Y without Arithmetical Operators](https://leetcode.com/problems/sum-of-two-integers/)"
   ]
  },
  {
   "cell_type": "code",
   "execution_count": null,
   "metadata": {},
   "outputs": [],
   "source": [
    "class Add:\n",
    "    \n",
    "    #O(n) - can only be used for unsigned numbers\n",
    "    def add1(self,a,b):\n",
    "        currSum, carryIn, k, tempA, tempB = 0,0,1,a,b\n",
    "        \n",
    "        while(tempA or tempB):\n",
    "            ak,bk = a&k, b&k\n",
    "            carryOut = (ak & bk) | (ak & carryIn) | (bk & carryIn)\n",
    "            currSum |= ak ^ bk ^ carryIn\n",
    "            carryIn = carryOut << 1\n",
    "            k <<= 1\n",
    "            tempA >>= 1\n",
    "            tempB >>= 1\n",
    "        \n",
    "        return currSum | carryIn\n",
    "    \n",
    "    #O(n) - for signed and unsigned 64bit numbers\n",
    "    def add2(self,a,b):\n",
    "        \n",
    "        MAX = 0x7FFFFFFF\n",
    "        mask = 0xFFFFFFFF\n",
    "        while(b):\n",
    "            a,b = (a^b)&mask, ((a&b)<<1)&mask\n",
    "        return a if a <= MAX else ~(a^mask)"
   ]
  },
  {
   "cell_type": "code",
   "execution_count": null,
   "metadata": {},
   "outputs": [],
   "source": [
    "A = Add()\n",
    "x = random.randint(-2**16-1,2**16-1)\n",
    "y = random.randint(-2**16-1,2**16-1)\n",
    "\n",
    "# print(f'{x} + {y} = {A.add1(x,y)} == {x+y}')\n",
    "print(f'{x} + {y} = {A.add2(x,y)} == {x+y}')"
   ]
  },
  {
   "cell_type": "markdown",
   "metadata": {},
   "source": [
    "### 4.5 Compute X * Y without Arithmetical Operators"
   ]
  },
  {
   "cell_type": "code",
   "execution_count": null,
   "metadata": {},
   "outputs": [],
   "source": [
    "class Multiply:\n",
    "    \n",
    "    #O(n2) - shift and add\n",
    "    def multiply(self,x,y):\n",
    "        currSum = 0\n",
    "        A = Add()\n",
    "        \n",
    "        while(x):\n",
    "            if x&1:\n",
    "                currSum = A.add1(currSum,y)\n",
    "            x >>= 1\n",
    "            y <<= 1\n",
    "            \n",
    "        return currSum"
   ]
  },
  {
   "cell_type": "code",
   "execution_count": null,
   "metadata": {},
   "outputs": [],
   "source": [
    "M = Multiply()\n",
    "x = random.randint(0,2**7-1)\n",
    "y = random.randint(0,2**7-1)\n",
    "\n",
    "print(f'{x} * {y} = {M.multiply(x,y)} == {x*y}')"
   ]
  },
  {
   "cell_type": "markdown",
   "metadata": {},
   "source": [
    "### [4.6 Compute X / Y  using only addition, subtraction, shift](https://leetcode.com/problems/divide-two-integers/)"
   ]
  },
  {
   "cell_type": "code",
   "execution_count": null,
   "metadata": {},
   "outputs": [],
   "source": [
    "class Divide:\n",
    "    \n",
    "    #O(2^n) - unsigned numbers: subtract y from x\n",
    "    def divide1(self,x,y):\n",
    "        ans = 0\n",
    "        while(x >= y):\n",
    "            x -= y\n",
    "            ans += 1\n",
    "            \n",
    "        return ans\n",
    "    \n",
    "    #O(n) - all signed 32bit numbers [-2**31 to 2**31-1]: bit manipulation\n",
    "    def divide2(self,x,y):\n",
    "        sign = 1\n",
    "        if x < 0:\n",
    "            x = ~x+1\n",
    "            sign = ~sign+1\n",
    "        if y < 0:\n",
    "            y = ~y+1\n",
    "            sign = ~sign+1\n",
    "        \n",
    "        ans, k = 0, 64\n",
    "        yk = y << k\n",
    "        while(x >= y):\n",
    "            while(yk > x):\n",
    "                yk >>= 1\n",
    "                k -= 1\n",
    "            ans += 1<<k\n",
    "            x -= yk\n",
    "            \n",
    "        if sign < 0:\n",
    "            return ~ans+1\n",
    "        return ans"
   ]
  },
  {
   "cell_type": "code",
   "execution_count": null,
   "metadata": {},
   "outputs": [],
   "source": [
    "D = Divide()\n",
    "x = random.randint(0,2**31-1)\n",
    "y = random.randint(-2**7,2**7-1)\n",
    "\n",
    "print(f'{x} / {y} = {D.divide2(x,y)} == {x//y}')"
   ]
  },
  {
   "cell_type": "markdown",
   "metadata": {},
   "source": [
    "### [4.7 Compute X^Y](https://leetcode.com/problems/powx-n/)"
   ]
  },
  {
   "cell_type": "code",
   "execution_count": null,
   "metadata": {},
   "outputs": [],
   "source": [
    "class Power:\n",
    "    \n",
    "    #O(2^n) - using the multiplication method\n",
    "    def power1(self,x,y):\n",
    "        ans = 1\n",
    "        M = Multiply()\n",
    "        while(y):\n",
    "            ans = M.multiply(ans,x)\n",
    "            y -= 1\n",
    "        \n",
    "        return ans\n",
    "    \n",
    "    #O(n) - using bit manipulation\n",
    "    def power2(self,x,y):\n",
    "        ans, k = 1.0, y\n",
    "        if y < 0:\n",
    "            x, k = 1.0/x, -k\n",
    "            \n",
    "        while(k):\n",
    "            if k&1:\n",
    "                ans *= x\n",
    "            x, k = x*x, k>>1\n",
    "            \n",
    "        return ans"
   ]
  },
  {
   "cell_type": "code",
   "execution_count": null,
   "metadata": {},
   "outputs": [],
   "source": [
    "P = Power()\n",
    "x = random.randint(-100,100)\n",
    "y = random.randint(-2**31,2**3-1)\n",
    "\n",
    "print(f'{x} ^ {y} = {P.power2(x,y)} == {x**y}')"
   ]
  },
  {
   "cell_type": "markdown",
   "metadata": {},
   "source": [
    "### [4.8 Reverse Digits](https://leetcode.com/problems/reverse-integer/)"
   ]
  },
  {
   "cell_type": "code",
   "execution_count": null,
   "metadata": {},
   "outputs": [],
   "source": [
    "class ReverseDigits:\n",
    "    \n",
    "    #O(len(n)) - using mod and *10\n",
    "    def reverseDigits1(self,N):\n",
    "        ans,n = 0, abs(N)\n",
    "        while(n):\n",
    "            ans = ans*10 + n%10\n",
    "            n //= 10\n",
    "            \n",
    "        return -ans if N<0 else ans"
   ]
  },
  {
   "cell_type": "code",
   "execution_count": null,
   "metadata": {},
   "outputs": [],
   "source": [
    "RD = ReverseDigits()\n",
    "n = random.randint(-2**31,2**31-1)\n",
    "\n",
    "print(f'{n} = {RD.reverseDigits1(n)}')"
   ]
  },
  {
   "cell_type": "markdown",
   "metadata": {},
   "source": [
    "### [4.9 Check if an Integer is Palindrome](https://leetcode.com/problems/palindrome-number/)"
   ]
  },
  {
   "cell_type": "code",
   "execution_count": null,
   "metadata": {},
   "outputs": [],
   "source": [
    "class PalindromeNumber:\n",
    "    \n",
    "    #O(n) - using the reverse digits method\n",
    "    def integerPalindrome(self,n):\n",
    "        RD = ReverseDigits()\n",
    "        return n == RD.reverseDigits1(n)\n",
    "    \n",
    "    #O(n) - converting to string\n",
    "    def integerPalindrome2(self,n):\n",
    "        S = str(n)\n",
    "        i = 0\n",
    "        j = len(S)-1\n",
    "        while(i<=j):\n",
    "            if S[i] != S[j]:\n",
    "                return False\n",
    "            i += 1\n",
    "            j -= 1\n",
    "        return True\n",
    "    \n",
    "    #O(n) - comparing the MSD and the LSD\n",
    "    def integerPalindrome3(self,n):\n",
    "        l = math.floor(math.log10(n))+1\n",
    "        msdMask = 10**(l-1)\n",
    "        \n",
    "        for i in range(l//2):\n",
    "            if n//msdMask != n%10:\n",
    "                return False\n",
    "            n %= msdMask\n",
    "            n //= 10\n",
    "            msdMask //= 100 \n",
    "        \n",
    "        return True"
   ]
  },
  {
   "cell_type": "code",
   "execution_count": null,
   "metadata": {},
   "outputs": [],
   "source": [
    "PN = PalindromeNumber()\n",
    "n = random.randint(0,2**31-1)\n",
    "\n",
    "print(f'{n} = {PN.integerPalindrome3(n)}')"
   ]
  },
  {
   "cell_type": "markdown",
   "metadata": {},
   "source": [
    "### 4.10 Generate Uniform Random Numbers"
   ]
  },
  {
   "cell_type": "code",
   "execution_count": null,
   "metadata": {},
   "outputs": [],
   "source": [
    "class RandomGenerator:\n",
    "    \n",
    "    Rand1 = random.randrange(2)\n",
    "    \n",
    "    def rand1(self):\n",
    "        return random.randint(0,1)\n",
    "    \n",
    "    def randomNumber1(self,a,b):\n",
    "        K = b-a+1\n",
    "        while(True):\n",
    "            ans, i = 0, 0\n",
    "            while(1<<i) < K:\n",
    "                ans = (ans << 1) | self.rand1()\n",
    "                i += 1\n",
    "            \n",
    "            if ans < K:\n",
    "                break\n",
    "        \n",
    "        return a+ans"
   ]
  },
  {
   "cell_type": "code",
   "execution_count": null,
   "metadata": {},
   "outputs": [],
   "source": [
    "RG = RandomGenerator()\n",
    "a = random.randint(-2**7,2**7-1)\n",
    "b = random.randint(a,2**7-1)\n",
    "\n",
    "print(f'{a},{b} = {RG.randomNumber1(a,b)}')"
   ]
  },
  {
   "cell_type": "markdown",
   "metadata": {},
   "source": [
    "### [4.11 Rectangle Intersection](https://leetcode.com/problems/rectangle-overlap/)"
   ]
  },
  {
   "cell_type": "code",
   "execution_count": 4,
   "metadata": {},
   "outputs": [],
   "source": [
    "class RectangleIntersection:\n",
    "    \n",
    "    def __init__(self):\n",
    "        self.Rectangle = collections.namedtuple('Rectangle',('x1','y1','x2','y2'))\n",
    "\n",
    "    def checkIntersection(self,rec1,rec2):\n",
    "        R1 = self.Rectangle(rec1[0],rec1[1],rec1[2],rec1[3])\n",
    "        R2 = self.Rectangle(rec2[0],rec2[1],rec2[2],rec2[3])\n",
    "        return (R1.x1 < R2.x2 and R1.x2 > R2.x1 and R1.y1 < R2.y2 and R1.y2 > R2.y1)\n",
    "    \n",
    "    def areaIntersection(self,rec1,rec2):\n",
    "        R1 = self.Rectangle(rec1[0],rec1[1],rec1[2],rec1[3])\n",
    "        R2 = self.Rectangle(rec2[0],rec2[1],rec2[2],rec2[3])\n",
    "        \n",
    "        if not self.checkIntersection(rec1,rec2):\n",
    "            return 0\n",
    "        \n",
    "        x1 = max(R1.x1, R2.x1)\n",
    "        y1 = max(R1.y1, R2.y1)\n",
    "        x2 = min(R1.x2, R2.x2)\n",
    "        y2 = min(R1.y2, R2.y2)\n",
    "        \n",
    "        return (x2-x1)*(y2-y1)"
   ]
  },
  {
   "cell_type": "code",
   "execution_count": 8,
   "metadata": {},
   "outputs": [
    {
     "name": "stdout",
     "output_type": "stream",
     "text": [
      "False 0\n"
     ]
    }
   ],
   "source": [
    "RI = RectangleIntersection()\n",
    "rec1 = [-2,-2,2,2]\n",
    "rec2 = [2,2,3,3]\n",
    "\n",
    "print(RI.checkIntersection(rec1,rec2),RI.areaIntersection(rec1,rec2))"
   ]
  }
 ],
 "metadata": {
  "kernelspec": {
   "display_name": "Python 3",
   "language": "python",
   "name": "python3"
  },
  "language_info": {
   "codemirror_mode": {
    "name": "ipython",
    "version": 3
   },
   "file_extension": ".py",
   "mimetype": "text/x-python",
   "name": "python",
   "nbconvert_exporter": "python",
   "pygments_lexer": "ipython3",
   "version": "3.6.9"
  }
 },
 "nbformat": 4,
 "nbformat_minor": 4
}
