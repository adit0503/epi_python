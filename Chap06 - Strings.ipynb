{
 "cells": [
  {
   "cell_type": "markdown",
   "metadata": {},
   "source": [
    "##  Chapter 6: Strings\n",
    "0. [](#6.0)\n",
    "1. [](#6.1)\n",
    "2. [](#6.2)\n",
    "3. [](#6.3)\n",
    "4. [](#6.4)\n",
    "5. [](#6.5)\n",
    "6. [](#6.6)\n",
    "7. [](#6.7)\n",
    "8. [](#6.8)\n",
    "9. [](#6.9)\n",
    "10. [](#6.10)\n",
    "11. [](#6.11)\n",
    "12. [](#6.12)\n",
    "13. [](#6.13)"
   ]
  },
  {
   "cell_type": "code",
   "execution_count": null,
   "metadata": {},
   "outputs": [],
   "source": [
    "import sys, random, collections, math, string, functools"
   ]
  },
  {
   "cell_type": "markdown",
   "metadata": {},
   "source": [
    "### 6.0 String Palindrome"
   ]
  },
  {
   "cell_type": "code",
   "execution_count": null,
   "metadata": {},
   "outputs": [],
   "source": [
    "class StringPalindrome:\n",
    "    \n",
    "    #O(n)\n",
    "    def palindrome1(self,S):\n",
    "        return S == S[::-1]\n",
    "    \n",
    "    #O(n) - two pointers\n",
    "    def palindrome2(self,S):\n",
    "        i,j = 0,len(S)-1\n",
    "        while(i<=j):\n",
    "            if S[i] != S[j]:\n",
    "                return False\n",
    "            i += 1\n",
    "            j -= 1\n",
    "        return True\n",
    "    \n",
    "    #O(n)\n",
    "    def palindrome3(self,S):\n",
    "        return all([S[i]==S[-(i+1)] for i in range(len(S)//2)])"
   ]
  },
  {
   "cell_type": "code",
   "execution_count": null,
   "metadata": {},
   "outputs": [],
   "source": [
    "SP = StringPalindrome()\n",
    "\n",
    "print(SP.palindrome3('abcba'))"
   ]
  },
  {
   "cell_type": "markdown",
   "metadata": {},
   "source": [
    "### [6.1 Interconvert Strings and Integers](https://leetcode.com/problems/string-to-integer-atoi/)"
   ]
  },
  {
   "cell_type": "code",
   "execution_count": null,
   "metadata": {},
   "outputs": [],
   "source": [
    "class Interconvert:\n",
    "    \n",
    "    def stringToInteger1(self,S):\n",
    "        sign = False\n",
    "        if S[0] == '-':\n",
    "            S, sign = S[1:], True\n",
    "        N = 0\n",
    "        for s in S:\n",
    "            N = N*10 + (ord(s)-ord('0'))\n",
    "        return N*-1 if sign else N\n",
    "    \n",
    "    def stringToInteger2(self,S):\n",
    "        sign = S[0]=='-'\n",
    "        return functools.reduce(lambda N,s: N*10+string.digits.index(s), S[sign:], 0) * (-1 if sign else 1)\n",
    "    \n",
    "    def integerToString(self,N):\n",
    "        sign = False\n",
    "        if N<0:\n",
    "            N, sign = -N, True\n",
    "            \n",
    "        S = []\n",
    "        while(True):\n",
    "            S.append(chr(ord('0')+ N%10))\n",
    "            N //= 10\n",
    "            if N == 0:\n",
    "                break\n",
    "                \n",
    "        return ('-' if sign else '') + ''.join(reversed(S))"
   ]
  },
  {
   "cell_type": "code",
   "execution_count": null,
   "metadata": {},
   "outputs": [],
   "source": [
    "I = Interconvert()\n",
    "S =''.join(random.choices(string.digits,k=4))\n",
    "N = random.randint(-1000,1000)\n",
    "\n",
    "print('S to I', S,I.stringToInteger1(S))\n",
    "print('S to I', S,I.stringToInteger2(S))\n",
    "print('I to S', N,I.integerToString(N))"
   ]
  },
  {
   "cell_type": "markdown",
   "metadata": {},
   "source": [
    "### 6.2 Base Conversion"
   ]
  },
  {
   "cell_type": "code",
   "execution_count": null,
   "metadata": {},
   "outputs": [],
   "source": [
    "class BaseConversion:\n",
    "    \n",
    "    #O(S)\n",
    "    def convert1(self, S, b1, b2):\n",
    "        \n",
    "        def N1toN2(N1,b2):\n",
    "            return ('' if N1==0 else N1toN2(N1//b2,b2) + string.hexdigits[N1%b2].upper())\n",
    "        \n",
    "        sign = S[0] == '-'\n",
    "        N1 = functools.reduce(lambda n,s: n*b1 + string.hexdigits.index(s.lower()), S[sign:], 0)\n",
    "        \n",
    "        return ('-' if sign else '')+('0' if N1==0 else N1toN2(N1,b2))"
   ]
  },
  {
   "cell_type": "code",
   "execution_count": null,
   "metadata": {},
   "outputs": [],
   "source": [
    "BC = BaseConversion()\n",
    "\n",
    "BC.convert1('615',7,13)"
   ]
  },
  {
   "cell_type": "markdown",
   "metadata": {},
   "source": [
    "### [6.3 Compute the Spreadsheet Column Encoding](https://leetcode.com/problems/excel-sheet-column-number/)"
   ]
  },
  {
   "cell_type": "code",
   "execution_count": null,
   "metadata": {},
   "outputs": [],
   "source": [
    "class ColumnNumber:\n",
    "    \n",
    "    #O(n)\n",
    "    def column1(self, S):\n",
    "        N = 0\n",
    "        for s in S:\n",
    "            N = N*26 + (ord(s)-ord('A')+1)\n",
    "        return N\n",
    "    \n",
    "    #O(n) - functional programming\n",
    "    def column2(self, S):\n",
    "        return functools.reduce(lambda n,s: n*26+(ord(s)-ord('A')+1),S,0)"
   ]
  },
  {
   "cell_type": "code",
   "execution_count": null,
   "metadata": {},
   "outputs": [],
   "source": [
    "CN = ColumnNumber()\n",
    "\n",
    "CN.column2('ZZZZZZ')"
   ]
  },
  {
   "cell_type": "markdown",
   "metadata": {},
   "source": [
    "### Variant3: 1. 'A' corresponding to 0 &nbsp; 2. [Column to Number](https://leetcode.com/problems/excel-sheet-column-title/)"
   ]
  },
  {
   "cell_type": "code",
   "execution_count": null,
   "metadata": {},
   "outputs": [],
   "source": [
    "class Variant3:\n",
    "    \n",
    "    def variant1(self, S):\n",
    "        return functools.reduce(lambda n,s: n*26 + (ord(s)-ord('A')+1),S, 0) -1\n",
    "    \n",
    "    def variant2(self, N):\n",
    "        S = ''\n",
    "        while(N):\n",
    "            S += chr((N-1)%26 + ord('A'))\n",
    "            N = (N-1) // 26\n",
    "        return S"
   ]
  },
  {
   "cell_type": "code",
   "execution_count": null,
   "metadata": {},
   "outputs": [],
   "source": [
    "V3 = Variant3()\n",
    "\n",
    "# V3.variant1('ZZZZZZ')\n",
    "V3.variant2(26)"
   ]
  },
  {
   "cell_type": "markdown",
   "metadata": {},
   "source": [
    "### 6.4 Replace and Remove"
   ]
  },
  {
   "cell_type": "code",
   "execution_count": null,
   "metadata": {},
   "outputs": [],
   "source": [
    "class ReplaceRemove:\n",
    "    \n",
    "    #O(n2):\n",
    "    def convert0(self,S,n):\n",
    "        S = list(S)\n",
    "        i = 0\n",
    "        while(i<len(S)):\n",
    "            if S[i] == 'a':\n",
    "                S.remove('a')\n",
    "                S.insert(i,'d')\n",
    "                S.insert(i+1,'d')\n",
    "            if S[i] == 'b':\n",
    "                S.remove('b')\n",
    "                continue\n",
    "            i += 1\n",
    "        return ''.join(S)\n",
    "    \n",
    "    #O(n)\n",
    "    def convert1(self,S,n):\n",
    "        S = list(S)\n",
    "        l = len(S)-1\n",
    "        for i in range(n-1,-1,-1):\n",
    "            if S[i] == 'a':\n",
    "                S[l-1:l+1] = 'dd'\n",
    "                l -= 2\n",
    "            elif S[i] == 'b':\n",
    "                continue\n",
    "            else:\n",
    "                S[l] = S[i]\n",
    "                l -= 1\n",
    "        return ''.join(S)"
   ]
  },
  {
   "cell_type": "code",
   "execution_count": null,
   "metadata": {},
   "outputs": [],
   "source": [
    "RR = ReplaceRemove()\n",
    "S = 'acaa   '\n",
    "\n",
    "print(RR.convert0(S,4), RR.convert1(S,4))"
   ]
  },
  {
   "cell_type": "markdown",
   "metadata": {},
   "source": [
    "### Variant4: 1.Telex-Encoding &nbsp; [2.Merge Sorted Arrays](https://leetcode.com/problems/merge-sorted-array/)"
   ]
  },
  {
   "cell_type": "code",
   "execution_count": null,
   "metadata": {},
   "outputs": [],
   "source": [
    "class Variant4:\n",
    "    \n",
    "    #O(n)\n",
    "    def variant1(self, C):\n",
    "        temp = {'.':'DOT', ',':'COMMA', '?':'QUESTIONMARK', '!':'EXCLAMATIONMARK'}\n",
    "        T = []\n",
    "        i = 0\n",
    "        for c in C:\n",
    "            if c in temp:\n",
    "                T.append(temp[c])\n",
    "            else:\n",
    "                T.append(c)\n",
    "        return ''.join(T)\n",
    "    \n",
    "    def variant2(self,A,B,n,m):\n",
    "        k = n+m-1\n",
    "        i,j = n-1,m-1\n",
    "        while(j>-1):\n",
    "            if(i>-1 and A[i]>B[j]):\n",
    "                A[k] = A[i]\n",
    "                i -= 1\n",
    "            else:\n",
    "                A[k] = B[j]\n",
    "                j -= 1\n",
    "            k -= 1\n",
    "        return A"
   ]
  },
  {
   "cell_type": "code",
   "execution_count": null,
   "metadata": {},
   "outputs": [],
   "source": [
    "V4 = Variant4()\n",
    "C = 'wrjng,wel398!4 uewfue?w 345ew.joe'\n",
    "\n",
    "print(V4.variant1(C))\n",
    "print(V4.variant2([1,2,3,0,0,0],[2,5,6],3,3))"
   ]
  },
  {
   "cell_type": "markdown",
   "metadata": {},
   "source": [
    "### [6.5 Test Palindromicity](https://leetcode.com/problems/valid-palindrome/)"
   ]
  },
  {
   "cell_type": "code",
   "execution_count": null,
   "metadata": {},
   "outputs": [],
   "source": [
    "class TestPalindromicity:\n",
    "    \n",
    "    #O(n) - using two pointers\n",
    "    def check1(self, S):\n",
    "        i,j = 0,len(S)-1\n",
    "        while(i<j):\n",
    "            while(not S[i].isalnum() and i<j):\n",
    "                i += 1\n",
    "            while(not S[j].isalnum() and i<j):\n",
    "                j -= 1\n",
    "            \n",
    "            if S[i].lower() != S[j].lower():\n",
    "                return False\n",
    "            i += 1\n",
    "            j -= 1\n",
    "        return True"
   ]
  },
  {
   "cell_type": "code",
   "execution_count": null,
   "metadata": {},
   "outputs": [],
   "source": [
    "TP = TestPalindromicity()\n",
    "S = ['A man, a plan, a canal, Panama', 'Able was I, ere I saw Elba', 'Ray a Ray',\",!;\"]\n",
    "\n",
    "for s in S:\n",
    "    print(TP.check1(s))"
   ]
  },
  {
   "cell_type": "markdown",
   "metadata": {},
   "source": [
    "### [6.6 Reverse all the Words in a Sentence](https://leetcode.com/problems/reverse-words-in-a-string/)"
   ]
  },
  {
   "cell_type": "code",
   "execution_count": null,
   "metadata": {},
   "outputs": [],
   "source": [
    "class ReverseSentence:\n",
    "    \n",
    "    #O(n) - using functional programming\n",
    "    def reverse1(self, S):\n",
    "        return ' '.join(list(filter(lambda s:s!='',S.strip().split(' ')))[::-1])\n",
    "    \n",
    "    #O(n) - using two pointers and an additional result list\n",
    "    def reverse2(self, S):\n",
    "        T = []\n",
    "        j = len(S)-1\n",
    "        while(j>-1):\n",
    "            while(j >-1 and S[j]==' '):\n",
    "                j -= 1\n",
    "            i = j\n",
    "            while(i>-1 and S[i]!=' '):\n",
    "                i -= 1\n",
    "            if(i<j):\n",
    "                T.append(S[i+1:j+1])\n",
    "            j = i\n",
    "        return ' '.join(T)"
   ]
  },
  {
   "cell_type": "code",
   "execution_count": null,
   "metadata": {},
   "outputs": [],
   "source": [
    "RS = ReverseSentence()\n",
    "S = ['Alice likes Bob', \"the sky is blue\", \"      hello world!  \", \"a good      example\", \"       \"]\n",
    "\n",
    "for s in S:\n",
    "    print(RS.reverse2(s))"
   ]
  },
  {
   "cell_type": "markdown",
   "metadata": {},
   "source": [
    "### [6.7 Compute all mnemonics for a Phone Number](https://leetcode.com/problems/letter-combinations-of-a-phone-number/)"
   ]
  },
  {
   "cell_type": "code",
   "execution_count": null,
   "metadata": {},
   "outputs": [],
   "source": [
    "class PhoneNumber:\n",
    "    \n",
    "    #O(n*4^n)\n",
    "    def mnemonics1(self, S):\n",
    "        temp = {'2':'abc', '3':'def', '4':'ghi', '5':'jkl', '6':'mno', '7':'pqrs', '8':'tuv', '9':'wxyz'}\n",
    "\n",
    "        def recurrsion(S,i,T,ans):\n",
    "            if len(T) == len(S):\n",
    "                ans.append(''.join(T)) #O(n)\n",
    "                return\n",
    "            for t in temp[S[i]]:\n",
    "                T.append(t)\n",
    "                recurrsion(S,i+1,T,ans)\n",
    "                T.pop()\n",
    "            return\n",
    "        \n",
    "        ans = []\n",
    "        recurrsion(list(S),0,[],ans)\n",
    "        return ans\n",
    "    \n",
    "        \n",
    "    #O(n*4^n) - optimized solution in a more pythonic way\n",
    "    def mnemonics2(self, S):\n",
    "        mappings = {'2':'abc', '3':'def', '4':'ghi', '5':'jkl', '6':'mno', '7':'pqrs', '8':'tuv', '9':'wxyz'}\n",
    "        \n",
    "        def recurrsion(i):\n",
    "            if i == len(S):\n",
    "                ans.append(''.join(temp))\n",
    "            else:\n",
    "                for t in mappings.get(S[i],''):\n",
    "                    temp[i] = t\n",
    "                    recurrsion(i+1)\n",
    "        \n",
    "        ans, temp = [],[0]*len(S)\n",
    "        recurrsion(0)\n",
    "        return ans"
   ]
  },
  {
   "cell_type": "code",
   "execution_count": null,
   "metadata": {},
   "outputs": [],
   "source": [
    "PN = PhoneNumber()\n",
    "N = '43'\n",
    "\n",
    "PN.mnemonics1(N)"
   ]
  },
  {
   "cell_type": "raw",
   "metadata": {},
   "source": []
  },
  {
   "cell_type": "markdown",
   "metadata": {},
   "source": [
    "### Variant7: 1. above question Without Recurssion"
   ]
  },
  {
   "cell_type": "code",
   "execution_count": null,
   "metadata": {},
   "outputs": [],
   "source": [
    "class Variant7:\n",
    "    \n",
    "    def variant1(self,S):\n",
    "        mappings = {'2':'abc', '3':'def', '4':'ghi', '5':'jkl', '6':'mno', '7':'pqrs', '8':'tuv', '9':'wxyz'}\n",
    "\n",
    "        def appendNewValue(L,n):\n",
    "            if not L:\n",
    "                return list(mappings.get(n,''))\n",
    "            \n",
    "            temp = []\n",
    "            for l in L:\n",
    "                for t in mappings.get(n,''):\n",
    "                    temp.append(l+t)\n",
    "            return temp\n",
    "        \n",
    "        ans = []\n",
    "        for s in S:\n",
    "            ans = appendNewValue(ans,s)\n",
    "        return ans"
   ]
  },
  {
   "cell_type": "code",
   "execution_count": null,
   "metadata": {},
   "outputs": [],
   "source": [
    "V7 = Variant7()\n",
    "N = ''.join(random.choices(string.digits,k=2))\n",
    "\n",
    "print(N, V7.variant1(N))"
   ]
  },
  {
   "cell_type": "markdown",
   "metadata": {},
   "source": [
    "### [6.8 The Look-and-Say Problem](https://leetcode.com/problems/count-and-say/)"
   ]
  },
  {
   "cell_type": "code",
   "execution_count": null,
   "metadata": {},
   "outputs": [],
   "source": [
    "class LookSay:\n",
    "    \n",
    "    #O(n*2^n) - non-recurrsive\n",
    "    def sequence1(self,n):\n",
    "        \n",
    "        def nextSeq(S):\n",
    "            T = []\n",
    "            i = 0\n",
    "            while(i<len(S)):\n",
    "                j = i\n",
    "                while(j<len(S) and S[j]==S[i]):\n",
    "                    j += 1\n",
    "                T.append(str(j-i)+S[i])\n",
    "                i = j\n",
    "            return ''.join(T)\n",
    "        \n",
    "        S = '1'\n",
    "        while(n>1):\n",
    "            S = nextSeq(S)\n",
    "            n -= 1\n",
    "        return S"
   ]
  },
  {
   "cell_type": "code",
   "execution_count": null,
   "metadata": {},
   "outputs": [],
   "source": [
    "LS = LookSay()\n",
    "N = random.randint(1,10)\n",
    "\n",
    "print(f'{N} = {LS.sequence1(N)}')"
   ]
  },
  {
   "cell_type": "markdown",
   "metadata": {},
   "source": [
    "### 6.9 Convert from Roman to Decimal"
   ]
  },
  {
   "cell_type": "code",
   "execution_count": null,
   "metadata": {},
   "outputs": [],
   "source": [
    "class RomanDecimal:\n",
    "    \n",
    "    #O(n^2) - brute-force\n",
    "    def convert1(self, S):\n",
    "        mappings = {'I':1,'V':5,'X':10,'L':50,'C':100,'D':500,'M':1000}\n",
    "        exception = {'IV','IX','XL','XC','CD','CM'}\n",
    "        ans = 0\n",
    "        i = 0\n",
    "        while(i<len(S)-1):\n",
    "            if S[i:i+2] in exception:\n",
    "                ans += mappings[S[i+1]] - mappings[S[i]]\n",
    "                i += 2\n",
    "            else:\n",
    "                ans += mappings[S[i]]\n",
    "                i += 1\n",
    "        if i<len(S):\n",
    "            ans += mappings[S[-1]]\n",
    "        return ans\n",
    "    \n",
    "    #O(n) - backward scan with minus if ith<i+1th else plus\n",
    "    def convert2(self,S):\n",
    "        mappings = {'I':1,'V':5,'X':10,'L':50,'C':100,'D':500,'M':1000}\n",
    "        ans = 0\n",
    "        for i in reversed(range(len(S)-1)):\n",
    "            ans += -mappings[S[i]] if mappings[S[i]] < mappings[S[i+1]] else mappings[S[i]]\n",
    "        return ans + mappings[S[-1]]\n",
    "                "
   ]
  },
  {
   "cell_type": "code",
   "execution_count": null,
   "metadata": {},
   "outputs": [],
   "source": [
    "RD = RomanDecimal()\n",
    "L = ['III', 'IV', 'IX','LVIII', 'MCMXCIV']\n",
    "for l in L:\n",
    "    print(RD.convert1(l),end=' ')"
   ]
  },
  {
   "cell_type": "markdown",
   "metadata": {},
   "source": [
    "### Variant9: [1.DecimalRoman](https://leetcode.com/problems/integer-to-roman/)"
   ]
  },
  {
   "cell_type": "code",
   "execution_count": null,
   "metadata": {},
   "outputs": [],
   "source": [
    "class Variant9:\n",
    "    \n",
    "    def variant1(self,N):\n",
    "        mappings = {1000:'M', 900:'CM', 500:'D', 400:'CD', 100:'C', 90:'XC', 50:'L',40:'XL', 10:'X',9:'IX', 5:'V', 4:'IV', 1:'I'}\n",
    "        \n",
    "        ans = []\n",
    "        for k,v in mappings.items():\n",
    "            count = N//k\n",
    "            ans.append(v*count)\n",
    "            N -= k*count\n",
    "            \n",
    "        return ''.join(ans)"
   ]
  },
  {
   "cell_type": "code",
   "execution_count": null,
   "metadata": {},
   "outputs": [],
   "source": [
    "V9 = Variant9()\n",
    "for i in range(1,50):\n",
    "    print(V9.variant1(i), end=' ')"
   ]
  },
  {
   "cell_type": "markdown",
   "metadata": {},
   "source": [
    "### [6.10 Compute all Valid IP Addresses](https://leetcode.com/problems/restore-ip-addresses/)"
   ]
  },
  {
   "cell_type": "code",
   "execution_count": null,
   "metadata": {},
   "outputs": [],
   "source": [
    "class AllIP:\n",
    "    \n",
    "    #O(1) - using nested loops and validity conditions\n",
    "    def compute1(self, S):\n",
    "        \n",
    "        def isValid(s):\n",
    "            return len(s)==1 or (s[0]!='0' and int(s)<=255)\n",
    "        \n",
    "        ans, part = [], [None]*4\n",
    "        for i in range(1,min(4,len(S))):\n",
    "            part[0] = S[:i]\n",
    "            \n",
    "            if isValid(part[0]):\n",
    "                for j in range(1,min(4,len(S)-i)):\n",
    "                    part[1] = S[i:i+j]\n",
    "                    \n",
    "                    if isValid(part[1]):\n",
    "                        for k in range(1,min(4,len(S)-j-i)):\n",
    "                            part[2], part[3] = S[i+j:i+j+k], S[i+j+k:]\n",
    "                            \n",
    "                            if isValid(part[2]) and isValid(part[3]):\n",
    "                                ans.append('.'.join(part))\n",
    "        return ans"
   ]
  },
  {
   "cell_type": "code",
   "execution_count": null,
   "metadata": {},
   "outputs": [],
   "source": [
    "AI = AllIP()\n",
    "S = [\"25525511135\", \"0000\", \"1111\", \"010010\", \"101023\"]\n",
    "\n",
    "for s in S:\n",
    "    print(AI.compute1(s))"
   ]
  },
  {
   "cell_type": "markdown",
   "metadata": {},
   "source": [
    "### [6.11 Write a String Sinusoidally](https://leetcode.com/problems/zigzag-conversion/)"
   ]
  },
  {
   "cell_type": "code",
   "execution_count": null,
   "metadata": {},
   "outputs": [],
   "source": [
    "class SnakeString:\n",
    "    \n",
    "    #O(n) - predefined cycle\n",
    "    def sinWave1(self, S):\n",
    "        level = [[] for _ in range(3)]\n",
    "        cycle = [-1,1,1,-1]\n",
    "        \n",
    "        index = 1\n",
    "        c = 0\n",
    "        for s in S:\n",
    "            level[index].append(s)\n",
    "            index += cycle[c%4]\n",
    "            c += 1\n",
    "        ans = ''\n",
    "        for l in level:\n",
    "            ans += ''.join(l)\n",
    "        return ans\n",
    "    \n",
    "    #O(n) - cycle of any length\n",
    "    def zigzag(self, S, n):\n",
    "        level = [[] for _ in range(n+1)]\n",
    "        cycle = [1]*n + [-1]*n\n",
    "        \n",
    "        index = 0\n",
    "        c = 0\n",
    "        for s in S:\n",
    "            level[index].append(s)\n",
    "            index += cycle[c%(2*n)]\n",
    "            c += 1\n",
    "            \n",
    "        ans = []\n",
    "        for l in level:\n",
    "            ans.append(''.join(l))\n",
    "        return ''.join(ans)"
   ]
  },
  {
   "cell_type": "code",
   "execution_count": null,
   "metadata": {},
   "outputs": [],
   "source": [
    "SS = SnakeString()\n",
    "S = 'Hello World'\n",
    "\n",
    "# SS.sinWave1(S)\n",
    "SS.zigzag(\"abcd\",1)"
   ]
  },
  {
   "cell_type": "markdown",
   "metadata": {},
   "source": [
    "### 6.12 Implement Run-length Encoding"
   ]
  },
  {
   "cell_type": "code",
   "execution_count": null,
   "metadata": {},
   "outputs": [],
   "source": [
    "class RunLengthEncoding:\n",
    "    \n",
    "    #O(n)\n",
    "    def encode1(self, S):\n",
    "        T = []\n",
    "        i = 0\n",
    "        while(i<len(S)):\n",
    "            j = i\n",
    "            while(j<len(S) and S[i]==S[j]):\n",
    "                j+=1\n",
    "            T.append(str(j-i)+S[i])\n",
    "            i = j\n",
    "        return ''.join(T)\n",
    "    \n",
    "    #O(n)\n",
    "    def encode2(self,S):\n",
    "        T, count = [],1\n",
    "        for i in range(1,len(S)+1):\n",
    "            if i==len(S) or S[i] != S[i-1]:\n",
    "                T.append(str(count)+S[i-1])\n",
    "                count = 1\n",
    "            else:\n",
    "                count += 1\n",
    "        return ''.join(T)\n",
    "    \n",
    "    #O(n)\n",
    "    def decode1(self,S):\n",
    "        T = []\n",
    "        i = 0\n",
    "        while(i<len(S)):\n",
    "            j = i\n",
    "            while(j<len(S) and S[j].isnumeric()):\n",
    "                j += 1\n",
    "            T.append(int(S[i:j])*S[j])\n",
    "            i = j+1\n",
    "        return ''.join(T)\n",
    "    \n",
    "    #O(n)\n",
    "    def decode2(self,S):\n",
    "        T = []\n",
    "        count = 0\n",
    "        for s in S:\n",
    "            if s.isdigit():\n",
    "                count = count*10 + int(s)\n",
    "            else:\n",
    "                T.append(s*count)\n",
    "                count = 0\n",
    "        return ''.join(T)"
   ]
  },
  {
   "cell_type": "code",
   "execution_count": null,
   "metadata": {},
   "outputs": [],
   "source": [
    "RLE = RunLengthEncoding()\n",
    "\n",
    "print(RLE.encode2(\"aaaaaaaaaaaaaaaaaaaabcccaa\"), RLE.decode2(\"1e4f20e\"))"
   ]
  },
  {
   "cell_type": "markdown",
   "metadata": {},
   "source": [
    "### [6.13 Find the First Occurance of a Substring](https://leetcode.com/problems/implement-strstr/)"
   ]
  },
  {
   "cell_type": "code",
   "execution_count": null,
   "metadata": {},
   "outputs": [],
   "source": [
    "class FindString:\n",
    "    \n",
    "    #O(n*m) - brute force checking r=each windown\n",
    "    def find1(S,T):\n",
    "        ls = len(S)\n",
    "        lt = len(T)\n",
    "        for i in range(lt-ls+1):\n",
    "            if T[i:i+ls] == S: #O(n)\n",
    "                return i\n",
    "        return -1\n",
    "   \n",
    "    #O(n+m) - Rabin-Karp using self-made hash funciton\n",
    "    def find2(self, S,T):\n",
    "        if len(S) > len(T):\n",
    "            return -1\n",
    "        BASE=26\n",
    "        hashT = functools.reduce(lambda h,t: h*BASE + ord(t),T[:len(S)],0)\n",
    "        hashS = functools.reduce(lambda h,s: h*BASE + ord(s), S, 0)\n",
    "        p = BASE**max(len(S)-1,0)\n",
    "        \n",
    "        for i in range(len(S),len(T)):\n",
    "            if hashT == hashS and T[i-len(S):i] == S:\n",
    "                return i-len(S)\n",
    "            \n",
    "            #rolling hash calculation\n",
    "            hashT -= ord(T[i-len(S)])*p\n",
    "            hashT = hashT*BASE + ord(T[i])\n",
    "        if hashT == hashS and T[-len(S):] == S:\n",
    "            return len(T)-len(S)\n",
    "        return -1\n",
    "    \n",
    "    def find3(self, S,T):\n",
    "        temp = {}\n",
    "        n = len(T)\n",
    "        m = len(S)\n",
    "        i = 0\n",
    "        while(i<(n-m+1)):\n",
    "            h = hash(T[i:i+m])\n",
    "            temp[h] = temp.get(h,[]) + [i]\n",
    "            i += 1\n",
    "        return temp.get(hash(S),[-1])[0]"
   ]
  },
  {
   "cell_type": "code",
   "execution_count": null,
   "metadata": {},
   "outputs": [],
   "source": [
    "FS = FindString()\n",
    "FS.find3(\"o\", \"hello\")"
   ]
  }
 ],
 "metadata": {
  "kernelspec": {
   "display_name": "Python 3",
   "language": "python",
   "name": "python3"
  },
  "language_info": {
   "codemirror_mode": {
    "name": "ipython",
    "version": 3
   },
   "file_extension": ".py",
   "mimetype": "text/x-python",
   "name": "python",
   "nbconvert_exporter": "python",
   "pygments_lexer": "ipython3",
   "version": "3.6.9"
  }
 },
 "nbformat": 4,
 "nbformat_minor": 4
}
