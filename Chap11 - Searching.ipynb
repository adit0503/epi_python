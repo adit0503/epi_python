{
 "cells": [
  {
   "cell_type": "markdown",
   "metadata": {},
   "source": [
    "# Chapter11: Searching\n",
    "0. [Binary Search](#11.0)\n",
    "1. [Search a Sorted Array for First Occurrence of K](#11.1)\n",
    "2. [Search a Sorted Array for Entry Equal to it's Index](#11.2)\n",
    "3. [Find Minimum in Rotated Sorted Array](#11.3)\n",
    "4. [Compute the Integer Square Root](#11.4)\n",
    "5. [Compute the Real Square Root](#11.5)\n",
    "6. [Search in a 2D Sorted Array](#11.6)\n",
    "7. [Find the Min and Max Simultaneously](#11.7)\n",
    "8. [Find the Kth Largest Element](#11.8)\n",
    "9. [](#11.9)\n",
    "10. [](#11.10)"
   ]
  },
  {
   "cell_type": "code",
   "execution_count": null,
   "metadata": {},
   "outputs": [],
   "source": [
    "import random, string, math, functools, collections, bisect, sys, heapq"
   ]
  },
  {
   "cell_type": "markdown",
   "metadata": {},
   "source": [
    "<a id=''></a>\n",
    "### [11.0 Binary Search](https://leetcode.com/problems/binary-search/)"
   ]
  },
  {
   "cell_type": "code",
   "execution_count": null,
   "metadata": {},
   "outputs": [],
   "source": [
    "class BinarySearch:\n",
    "    def __init__(self, nums=[]):\n",
    "        self.nums = nums\n",
    "    \n",
    "    #O(logn)\n",
    "    def find1(self,x):\n",
    "        l = 0\n",
    "        r = len(self.nums)-1\n",
    "        while(l<=r):\n",
    "            m = (l+r)//2\n",
    "            if self.nums[m] == x:\n",
    "                return m\n",
    "            elif self.nums[m]>x:\n",
    "                r = m-1\n",
    "            else:\n",
    "                l = m+1\n",
    "        return -1\n",
    "    \n",
    "    #O(logn)\n",
    "    def find2(self,x):\n",
    "        def recurrsion(l,r):\n",
    "            if l>r:\n",
    "                return -1\n",
    "            m = (l+r)//2\n",
    "            if self.nums[m] == x:\n",
    "                return m\n",
    "            elif self.nums[m]>x:\n",
    "                return recurrsion(l,m-1)\n",
    "            else:\n",
    "                return recurrsion(m+1,r)\n",
    "        return recurrsion(0,len(self.nums)-1)"
   ]
  },
  {
   "cell_type": "code",
   "execution_count": null,
   "metadata": {},
   "outputs": [],
   "source": [
    "nums = [random.randint(1,100) for _ in range(11)]\n",
    "nums.sort()\n",
    "BS = BinarySearch(nums)\n",
    "nums"
   ]
  },
  {
   "cell_type": "code",
   "execution_count": null,
   "metadata": {},
   "outputs": [],
   "source": [
    "x = random.randint(1,100)\n",
    "print(x,BS.find1(x),BS.find2(x))"
   ]
  },
  {
   "cell_type": "markdown",
   "metadata": {},
   "source": [
    "<a id='11.1'></a>\n",
    "### [11.1 Search a Sorted Array for First Occurrence of K](https://leetcode.com/problems/find-first-and-last-position-of-element-in-sorted-array/)"
   ]
  },
  {
   "cell_type": "code",
   "execution_count": null,
   "metadata": {},
   "outputs": [],
   "source": [
    "class FirstLastOccurance:\n",
    "    \n",
    "    #O(n) - using binary search to find item and then find first,last occurance\n",
    "    def search1(self, nums, x):\n",
    "        BS = BinarySearch(nums)\n",
    "        j = BS.find1(x)\n",
    "        if j<0:\n",
    "            return [-1,-1]\n",
    "        i = j\n",
    "        while(i>-1 and nums[i]==nums[j]):\n",
    "            i -= 1\n",
    "        k = j\n",
    "        while(k<len(nums) and nums[k]==nums[j]):\n",
    "            k +=1 \n",
    "        return [i+1,k-1]\n",
    "    \n",
    "    #O(logn) - using binary search to find first,last\n",
    "    def search2(self, nums, x):\n",
    "        l,r,first = 0, len(nums)-1,-1\n",
    "        while(l<=r):\n",
    "            m = (l+r)//2\n",
    "            if nums[m] == x:\n",
    "                first = m\n",
    "                r = m-1\n",
    "            elif nums[m] > x:\n",
    "                r = m-1\n",
    "            else:\n",
    "                l = m+1\n",
    "        \n",
    "        l,r,last = 0,len(nums)-1,-1\n",
    "        while(l<=r):\n",
    "            m = (l+r)//2\n",
    "            if nums[m] == x:\n",
    "                last = m\n",
    "                l = m+1\n",
    "            elif nums[m]>x:\n",
    "                r = m-1\n",
    "            else:\n",
    "                l = m+1\n",
    "        \n",
    "        return [first,last]"
   ]
  },
  {
   "cell_type": "code",
   "execution_count": null,
   "metadata": {},
   "outputs": [],
   "source": [
    "FLO = FirstLastOccurance()\n",
    "nums = [random.randint(1,10) for _ in range(20)]\n",
    "nums.sort()\n",
    "print(nums)\n",
    "for i in range(12):\n",
    "    print(f'{i}={FLO.search2(nums,i)}', end=' ')"
   ]
  },
  {
   "cell_type": "markdown",
   "metadata": {},
   "source": [
    "### Variant1: 1.First Occurance of Greater Element &nbsp;&nbsp; [2.Find Peak Element](https://leetcode.com/problems/find-peak-element/) &nbsp;&nbsp; [3.Check if p is Prefix](https://leetcode.com/problems/check-if-a-word-occurs-as-a-prefix-of-any-word-in-a-sentence/)"
   ]
  },
  {
   "cell_type": "code",
   "execution_count": null,
   "metadata": {},
   "outputs": [],
   "source": [
    "class Variant1:\n",
    "    \n",
    "    #O(logn) - reutrn after binary serach conditions terminates\n",
    "    def variant1(self, nums, x):\n",
    "        l,r,ans = 0,len(nums)-1,-1\n",
    "        while(l<=r):\n",
    "            m = (l+r)//2\n",
    "            if nums[m]>x:\n",
    "                r = m-1\n",
    "            else:\n",
    "                l = m+1\n",
    "        return l if l<len(nums) else -1\n",
    "    \n",
    "    #O(n) - linear search\n",
    "    def variant2A(self, nums):\n",
    "        for i in range(0,len(nums)-1):\n",
    "            if nums[i] > nums[i+1]:\n",
    "                return i\n",
    "        return len(nums)-1\n",
    "    \n",
    "    #O(logn)\n",
    "    def variant2B(self, nums):\n",
    "        def recurrsion(l,r):\n",
    "            if l==r:\n",
    "                return l\n",
    "            m = (l+r)//2\n",
    "            if nums[m]>nums[m+1]:\n",
    "                return recurrsion(l,m)\n",
    "            else:\n",
    "                return recurrsion(m+1,r)\n",
    "        return recurrsion(0,len(nums)-1)\n",
    "    \n",
    "    #O(logn)\n",
    "    def variant2C(self,nums):\n",
    "        l,r = 0,len(nums)-1\n",
    "        while(l<r):\n",
    "            m = (l+r)//2\n",
    "            if nums[m]>nums[m+1]:\n",
    "                r = m\n",
    "            else:\n",
    "                l = m+1\n",
    "        return l\n",
    "    \n",
    "    #O(n2) - linear + comparison\n",
    "    def variant3(self, sentence, word):\n",
    "        S = [s for s in sentence.split(' ')]\n",
    "        for i in range(len(S)):\n",
    "            if S[i][:len(word)] == word:\n",
    "                return i\n",
    "        return -1"
   ]
  },
  {
   "cell_type": "code",
   "execution_count": null,
   "metadata": {},
   "outputs": [],
   "source": [
    "V1 = Variant1()\n",
    "\n",
    "# nums = [random.randint(-10,10) for _ in range(20)]\n",
    "# nums.sort()\n",
    "# print(nums)\n",
    "# V1.variant1(nums,random.randint(-20,20))\n",
    "\n",
    "N = [[1,2,3,1], [1,2,1,3,5,6,4]]\n",
    "for n in N:\n",
    "    print(V1.variant2C(n),end=' ')"
   ]
  },
  {
   "cell_type": "markdown",
   "metadata": {},
   "source": [
    "<a id='11.2'></a>\n",
    "### 11.2 Search a Sorted Array for Entry Equal to it's Index"
   ]
  },
  {
   "cell_type": "code",
   "execution_count": null,
   "metadata": {},
   "outputs": [],
   "source": [
    "class EqualIndex:\n",
    "    \n",
    "    #O(n)\n",
    "    def search1(self, nums):\n",
    "        for i,n in enumerate(nums):\n",
    "            if n == i:\n",
    "                return i\n",
    "        return -1\n",
    "    \n",
    "    #O(logn)\n",
    "    def search2(self, nums):\n",
    "        l,r = 0, len(nums)-1\n",
    "        while(l<=r):\n",
    "            m = (l+r)//2\n",
    "            if nums[m] == m:\n",
    "                return m\n",
    "            elif nums[m] > m:\n",
    "                r = m-1\n",
    "            else:\n",
    "                l = m+1\n",
    "        return -1"
   ]
  },
  {
   "cell_type": "code",
   "execution_count": null,
   "metadata": {},
   "outputs": [],
   "source": [
    "EI = EqualIndex()\n",
    "nums = [0,1,2,3,4,5]\n",
    "\n",
    "print(EI.search1(nums),EI.search2(nums))"
   ]
  },
  {
   "cell_type": "markdown",
   "metadata": {},
   "source": [
    "### Variant2: 1. Array Element equal to it's index, with duplicates"
   ]
  },
  {
   "cell_type": "code",
   "execution_count": null,
   "metadata": {},
   "outputs": [],
   "source": [
    "class Variant2:\n",
    "    \n",
    "    def variant1(self, nums):\n",
    "        \n",
    "        def recurrsion(l,r):\n",
    "            if l>r or l<0 or r>=len(nums):\n",
    "                return -1\n",
    "            \n",
    "            m = (l+r)//2\n",
    "            if nums[m] == m:\n",
    "                return m\n",
    "            left = recurrsion(l,min(nums[m],m-1))\n",
    "            if left >= 0:\n",
    "                return left\n",
    "            \n",
    "            return recurrsion(max(nums[m],m+1), r)\n",
    "        \n",
    "        return recurrsion(0, len(nums)-1)"
   ]
  },
  {
   "cell_type": "code",
   "execution_count": null,
   "metadata": {},
   "outputs": [],
   "source": [
    "V2 = Variant2()\n",
    "nums = [-10, -5, 2, 2, 2, 3, 4, 7, 9, 12, 13]\n",
    "\n",
    "print(V2.variant1(nums))"
   ]
  },
  {
   "cell_type": "markdown",
   "metadata": {},
   "source": [
    "<a id='11.3'></a>\n",
    "### [11.3 Find Minimum in Rotated Sorted Array](https://leetcode.com/problems/find-minimum-in-rotated-sorted-array/)"
   ]
  },
  {
   "cell_type": "code",
   "execution_count": null,
   "metadata": {},
   "outputs": [],
   "source": [
    "class MinimumSorted:\n",
    "    \n",
    "    #O(logn) - without duplicates\n",
    "    def search1(self, nums):\n",
    "        l,r = 0, len(nums)-1\n",
    "        while(l<r):\n",
    "            m = (l+r)//2\n",
    "            if nums[m] > nums[r]:\n",
    "                l = m+1\n",
    "            else:\n",
    "                r = m\n",
    "        return l"
   ]
  },
  {
   "cell_type": "markdown",
   "metadata": {},
   "source": [
    "### Variant3: [0. Find Minimum in Rotated Sorted Array with Duplicates](https://leetcode.com/problems/find-minimum-in-rotated-sorted-array-ii/) &nbsp;&nbsp; [1. Search in Rotated Sorted Array](https://leetcode.com/problems/search-in-rotated-sorted-array/) &nbsp;&nbsp; [2. Search in Rotated Sorted Array with Duplicates](https://leetcode.com/problems/search-in-rotated-sorted-array-ii/)"
   ]
  },
  {
   "cell_type": "code",
   "execution_count": null,
   "metadata": {},
   "outputs": [],
   "source": [
    "class Variant3:\n",
    "    \n",
    "    #O(n) - linear scan for minimun element\n",
    "    def variant0A(self, nums):\n",
    "        minVal = sys.maxsize\n",
    "        for n in nums:\n",
    "            if n<minVal:\n",
    "                minVal = n\n",
    "        return minVal\n",
    "    \n",
    "    #O(n) - worst case; O(logn) - best case\n",
    "    def variant0B(self, nums):\n",
    "        l,r = 0, len(nums)-1\n",
    "        while(l<r):\n",
    "            m = (l+r)//2\n",
    "            if nums[m] > nums[r]:\n",
    "                l = m+1\n",
    "            elif nums[m] < nums[l]:\n",
    "                r = m\n",
    "                l += 1\n",
    "            else:\n",
    "                r -= 1\n",
    "        return nums[l]\n",
    "    \n",
    "    #O(logn) - find minimun, then use % + binarysearch (think of twice repeated array)\n",
    "    def variant1A(self,nums, x):\n",
    "        l,r = 0,len(nums)-1\n",
    "        while(l<r):\n",
    "            m = (l+r)//2\n",
    "            if nums[m]>nums[r]:\n",
    "                l = m+1\n",
    "            else:\n",
    "                r = m\n",
    "        pivot = l\n",
    "        l,r = 0,len(nums)-1\n",
    "        while(l<=r):\n",
    "            m = (l+r)//2\n",
    "            realm = (m+pivot)%len(nums)\n",
    "            if nums[realm]==x:\n",
    "                return realm\n",
    "            elif nums[realm]>x:\n",
    "                r=m-1\n",
    "            else:\n",
    "                l=m+1\n",
    "        return -1\n",
    "    \n",
    "    def variant2A(self, nums, x):\n",
    "    l, r = 0, len(nums)-1\n",
    "    while l <= r:\n",
    "        mid = l + (r-l)//2\n",
    "        if nums[mid] == target:\n",
    "            return True\n",
    "        while l < mid and nums[l] == nums[mid]:\n",
    "            l += 1\n",
    "        if nums[l] <= nums[mid]:\n",
    "            if nums[l] <= target < nums[mid]:\n",
    "                r = mid - 1\n",
    "            else:\n",
    "                l = mid + 1\n",
    "        else:\n",
    "            if nums[mid] < target <= nums[r]:\n",
    "                l = mid + 1\n",
    "            else:\n",
    "                r = mid - 1\n",
    "    return False"
   ]
  },
  {
   "cell_type": "code",
   "execution_count": null,
   "metadata": {},
   "outputs": [],
   "source": [
    "V3 = Variant3()\n",
    "\n",
    "# Nums = [[1,3,5],[2,2,2,0,1]]\n",
    "# for N in Nums:\n",
    "#     print(V3.variant0B(N), end=' ')\n",
    "\n",
    "Nums = [[4,5,6,7,0,1,2],[4,5,6,7,0,1,2],[1],[1]]\n",
    "target=[4,3,0,1]\n",
    "for N,t in zip(Nums,target):\n",
    "    print(V3.variant1A(N,t), end=' ')"
   ]
  },
  {
   "cell_type": "markdown",
   "metadata": {},
   "source": [
    "<a id='11.4'></a>\n",
    "### [11.4 Compute the Integer Square Root](https://leetcode.com/problems/sqrtx/)"
   ]
  },
  {
   "cell_type": "code",
   "execution_count": null,
   "metadata": {},
   "outputs": [],
   "source": [
    "class SquareRoot:\n",
    "    \n",
    "    #O(1) - using the sqrt() funtion in the math module\n",
    "    def compute1(self, n):\n",
    "        return int(math.sqrt(n))\n",
    "    \n",
    "    #O(n) - brute force\n",
    "    def compute2(self, n):\n",
    "        k = 0\n",
    "        while(k**2<=n):\n",
    "            k += 1\n",
    "        return k-1\n",
    "    \n",
    "    #O(logn) - using binary search\n",
    "    def compute3(self, n):\n",
    "        l,r = 0,n\n",
    "        while(l<=r):\n",
    "            m = (l+r)//2\n",
    "            if m**2 <= n:\n",
    "                l = m+1\n",
    "            else:\n",
    "                r=m-1\n",
    "        return l-1"
   ]
  },
  {
   "cell_type": "code",
   "execution_count": null,
   "metadata": {},
   "outputs": [],
   "source": [
    "SR = SquareRoot()\n",
    "\n",
    "for _ in range(5):\n",
    "    N = random.randint(1,1000)\n",
    "    print(N,SR.compute1(N),SR.compute2(N),SR.compute3(N))"
   ]
  },
  {
   "cell_type": "markdown",
   "metadata": {},
   "source": [
    "<a id='11.5'></a>\n",
    "### 11.5 Compute the Real Square Root"
   ]
  },
  {
   "cell_type": "code",
   "execution_count": null,
   "metadata": {},
   "outputs": [],
   "source": [
    "class RealSqrt:\n",
    "    \n",
    "    #O(logn)\n",
    "    def compute1(self, n):\n",
    "        l,r = (n,1.0) if n<1.0 else (1.0,n)\n",
    "        \n",
    "        while not math.isclose(l,r):\n",
    "            m = 0.5*(l+r)\n",
    "            if m**2<=n:\n",
    "                l = m\n",
    "            else:\n",
    "                r = m\n",
    "        return l"
   ]
  },
  {
   "cell_type": "code",
   "execution_count": null,
   "metadata": {},
   "outputs": [],
   "source": [
    "RS = RealSqrt()\n",
    "\n",
    "\n",
    "for _ in range(5):\n",
    "    N = random.randint(1,1000)\n",
    "    print(N,RS.compute1(N),SR.compute1(N))"
   ]
  },
  {
   "cell_type": "markdown",
   "metadata": {},
   "source": [
    "<a id='11.6'></a>\n",
    "### [11.6 Search in a 2D Sorted Array](https://leetcode.com/problems/search-a-2d-matrix-ii/)"
   ]
  },
  {
   "cell_type": "code",
   "execution_count": null,
   "metadata": {},
   "outputs": [],
   "source": [
    "class MatrixSearch:\n",
    "    \n",
    "    #O(nm) - using linear scan\n",
    "    def search1(self, matrix, x):\n",
    "        if not matrix:\n",
    "            return False\n",
    "        \n",
    "        n,m = len(matrix), len(matrix[0])\n",
    "        for i in range(n):\n",
    "            for j in range(m):\n",
    "                if matrix[i][j] == x:\n",
    "                    return True\n",
    "        return False\n",
    "    \n",
    "    #O(n*logm) - binary search on each row\n",
    "    def search2(self, matrix, x):\n",
    "        if not matrix:\n",
    "            return False\n",
    "        \n",
    "        def find(i,l,r):\n",
    "            if l>r:\n",
    "                return False\n",
    "            p = (l+r)//2\n",
    "            if matrix[i][p] == x:\n",
    "                return True\n",
    "            elif matrix[i][p] > x:\n",
    "                return find(i,l,p-1)\n",
    "            else:\n",
    "                return find(i,p+1,r)\n",
    "            \n",
    "        n,m = len(matrix), len(matrix[0])\n",
    "        return any([find(i,0,m-1) for i in range(n)])\n",
    "    \n",
    "    #O(n+m) - start at upper-right and travel downwards looking for target\n",
    "    def search3(self, matrix, x):\n",
    "        if not matrix:\n",
    "            return False\n",
    "        \n",
    "        n,m = len(matrix), len(matrix[0])\n",
    "        i,j = 0,m-1\n",
    "        while(i<n and j>-1):\n",
    "            if matrix[i][j] == x:\n",
    "                return True\n",
    "            elif matrix[i][j] < x:\n",
    "                i += 1\n",
    "            else:\n",
    "                j -= 1 \n",
    "        return False"
   ]
  },
  {
   "cell_type": "code",
   "execution_count": null,
   "metadata": {},
   "outputs": [],
   "source": [
    "MS = MatrixSearch()\n",
    "\n",
    "Matrix = [[[1,3,5,7],[10,11,16,20],[23,30,34,50]], [[1,3,5,7],[10,11,16,20],[23,30,34,50]], []]\n",
    "target = [3,13,0]\n",
    "\n",
    "for M,t in zip(Matrix,target):\n",
    "    print(MS.search1(M,t), MS.search2(M,t), MS.search3(M,t))"
   ]
  },
  {
   "cell_type": "markdown",
   "metadata": {},
   "source": [
    "### Variant6: [1. Search a 2D Matrix](https://leetcode.com/problems/search-a-2d-matrix/)"
   ]
  },
  {
   "cell_type": "code",
   "execution_count": null,
   "metadata": {},
   "outputs": [],
   "source": [
    "class Variant6:\n",
    "    \n",
    "    def variant1(self, matrix, x):\n",
    "        n,m = len(matrix), len(matrix[0])\n",
    "        \n",
    "        l,r = 0, n*m-1\n",
    "        while(l<=r):\n",
    "            p = (l+r)//2\n",
    "            if matrix[p//m][p%m] == x:\n",
    "                return True\n",
    "            if matrix[p//m][p%m] < x:\n",
    "                l = p+1\n",
    "            else:\n",
    "                r = p-1\n",
    "        return False"
   ]
  },
  {
   "cell_type": "markdown",
   "metadata": {},
   "source": [
    "<a id='11.7'></a>\n",
    "### 11.7 Find the Min and Max Simultaneously"
   ]
  },
  {
   "cell_type": "code",
   "execution_count": null,
   "metadata": {},
   "outputs": [],
   "source": [
    "class MinMax:\n",
    "    \n",
    "    #O(n) - linear scan with 2*n comparisons\n",
    "    def find1(self, nums):\n",
    "        minVal, maxVal = sys.maxsize, -sys.maxsize\n",
    "        for n in nums:\n",
    "            minVal = n if n<minVal else minVal\n",
    "            maxVal = n if n>maxVal else maxVal\n",
    "        return [minVal, maxVal]\n",
    "    \n",
    "    #O(n) - linear scan with only n comparisons\n",
    "    def find2(self, nums):\n",
    "        def minmax(a,b):\n",
    "            return (a,b) if a<b else (b,a)\n",
    "        \n",
    "        if len(nums)<=1:\n",
    "            return [nums[0], nums[0]]\n",
    "        \n",
    "        minG, maxG = minmax(nums[0], nums[1])\n",
    "        for i in range(2,len(nums)-1,2):\n",
    "            minL,maxL = minmax(nums[i],nums[i+1])\n",
    "            minG,maxG = minmax(min(minG,minL),max(maxG,maxL))\n",
    "        \n",
    "        if len(nums)%2:\n",
    "            minG,maxG = minmax(min(minG,nums[-1]),max(maxG,nums[-1]))\n",
    "            \n",
    "        return [minG,maxG]"
   ]
  },
  {
   "cell_type": "code",
   "execution_count": null,
   "metadata": {},
   "outputs": [],
   "source": [
    "MM = MinMax()\n",
    "\n",
    "nums = [random.randint(10,100) for _ in range(20)]\n",
    "print(nums)\n",
    "print(MM.find1(nums), MM.find2(nums))"
   ]
  },
  {
   "cell_type": "markdown",
   "metadata": {},
   "source": [
    "<a id='11.8'></a>\n",
    "### [11.8 Find the Kth Largest Element](https://leetcode.com/problems/kth-largest-element-in-an-array/)"
   ]
  },
  {
   "cell_type": "code",
   "execution_count": null,
   "metadata": {},
   "outputs": [],
   "source": [
    "class KLargest:\n",
    "    \n",
    "    #O(nlogk) - using min-heaps \n",
    "    def find1(self, nums, k):\n",
    "        heap = [n for n in nums[:k]]\n",
    "        heapq.heapify(heap)\n",
    "        for n in nums[k:]:\n",
    "            heapq.heappushpop(heap,n)\n",
    "        return heap[0]\n",
    "    \n",
    "    #O(nlogn) - brute-force\n",
    "    def find2(self,nums,k):\n",
    "        return sorted(nums, reverse=True)[k-1]\n",
    "    \n",
    "    #O(n) - QUICKSELECT: using partion and pivot; O(n2) - worst case\n",
    "    def find3(self, nums, k):\n",
    "        def partition(l,r,p):\n",
    "            pVal = nums[p]\n",
    "            newP = l\n",
    "            nums[p], nums[r] = nums[r],nums[p]\n",
    "            for i in range(l,r):\n",
    "                if nums[i]>pVal:\n",
    "                    nums[i],nums[newP] = nums[newP], nums[i]\n",
    "                    newP += 1\n",
    "            nums[r], nums[newP] = nums[newP], nums[r]\n",
    "            return newP\n",
    "            \n",
    "        l,r = 0, len(nums)-1\n",
    "        while(l<=r):\n",
    "            pivot = random.randint(l,r)\n",
    "            newPivot = partition(l,r,pivot)\n",
    "            if newPivot == k-1:\n",
    "                return nums[newPivot]\n",
    "            elif newPivot > k-1:\n",
    "                r = newPivot-1\n",
    "            else:\n",
    "                l = newPivot+1"
   ]
  },
  {
   "cell_type": "code",
   "execution_count": null,
   "metadata": {
    "scrolled": true
   },
   "outputs": [],
   "source": [
    "KL = KLargest()\n",
    "\n",
    "nums=[random.randint(10,99) for _ in range(10)]\n",
    "print(nums)\n",
    "print(KL.find3(nums,6))"
   ]
  },
  {
   "cell_type": "markdown",
   "metadata": {},
   "source": [
    "### Variant8: 0.Median in Unsorted Array &nbsp;&nbsp; [1.Sliding Window Median](https://leetcode.com/problems/sliding-window-median/)"
   ]
  },
  {
   "cell_type": "code",
   "execution_count": null,
   "metadata": {},
   "outputs": [],
   "source": [
    "class Variant8:\n",
    "    \n",
    "    #O(n) - QUICKSELECT: randomized algorithms\n",
    "    def variant0(self, nums):\n",
    "        \n",
    "        def median(nums, k):\n",
    "            def partition(l,r,p):\n",
    "                pVal = nums[p]\n",
    "                newP = l\n",
    "                nums[p],nums[r] = nums[r],nums[p]\n",
    "                for i in range(l,r):\n",
    "                    if nums[i]>pVal:\n",
    "                        nums[newP], nums[i] = nums[i],nums[newP]\n",
    "                        newP += 1\n",
    "                nums[newP],nums[r] = nums[r],nums[newP]\n",
    "                return newP\n",
    "\n",
    "            l,r = 0,len(nums)-1\n",
    "            while(l<=r):\n",
    "                pivot = random.randint(l,r)\n",
    "                newPivot = partition(l,r,pivot)\n",
    "                if newPivot == k-1:\n",
    "                    return nums[newPivot]\n",
    "                elif newPivot > k-1:\n",
    "                    r = newPivot-1\n",
    "                else:\n",
    "                    l = newPivot+1\n",
    "        \n",
    "        l = len(nums)\n",
    "        if l%2:\n",
    "            return median(nums.copy(), l//2+1)\n",
    "        else:\n",
    "            return 0.5*(median(nums.copy(),l//2)+median(nums.copy(),l//2+1))\n",
    "        \n",
    "    #O(n3) - worst case\n",
    "    def variant1A(self, nums, k):\n",
    "        V8 = Variant8()\n",
    "        result = []\n",
    "        for i in range(len(nums)-k+1):\n",
    "            result.append(V8.variant0(nums[i:i+k].copy()))\n",
    "        return result\n",
    "    \n",
    "    \n",
    "    def variant1B(self, nums, k):\n",
    "        \n",
    "        minHeap, maxHeap, medians = [], [], []\n",
    "        for i,n in enumerate(nums):\n",
    "            if i>=k:\n",
    "                if len(maxHeap) == len(minHeap):\n",
    "                    medians.append(0.5*(-maxHeap[0]+minHeap[0]))\n",
    "                else:\n",
    "                    medians.append(minHeap[0])\n",
    "                r = nums[i-k]\n",
    "                \n",
    "                \n",
    "            heapq.heappush(maxHeap, -heapq.heappushpop(minHeap, n))\n",
    "            if len(maxHeap)>len(minHeap):\n",
    "                heap.heappush(minHeap, -heapq.heappop(maxHeap))  \n",
    "                "
   ]
  },
  {
   "cell_type": "code",
   "execution_count": null,
   "metadata": {},
   "outputs": [],
   "source": [
    "V8 = Variant8()\n",
    "\n",
    "# nums = [random.randint(10,99) for _ in range(6)]\n",
    "# print(sorted(nums))\n",
    "# print(V8.variant0(nums))\n",
    "\n",
    "nums = [1,3,-1,-3,5,3,6,7]\n",
    "print(V8.variant1(nums,3))"
   ]
  }
 ],
 "metadata": {
  "kernelspec": {
   "display_name": "Python 3",
   "language": "python",
   "name": "python3"
  },
  "language_info": {
   "codemirror_mode": {
    "name": "ipython",
    "version": 3
   },
   "file_extension": ".py",
   "mimetype": "text/x-python",
   "name": "python",
   "nbconvert_exporter": "python",
   "pygments_lexer": "ipython3",
   "version": "3.8.2"
  }
 },
 "nbformat": 4,
 "nbformat_minor": 4
}
