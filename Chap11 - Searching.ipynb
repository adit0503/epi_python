{
 "cells": [
  {
   "cell_type": "markdown",
   "metadata": {},
   "source": [
    "# Chapter11: Searching"
   ]
  },
  {
   "cell_type": "code",
   "execution_count": 1,
   "metadata": {},
   "outputs": [],
   "source": [
    "import random, string, math, functools, collections, bisect"
   ]
  },
  {
   "cell_type": "markdown",
   "metadata": {},
   "source": [
    "### [11.0 Binary Search](https://leetcode.com/problems/binary-search/)"
   ]
  },
  {
   "cell_type": "code",
   "execution_count": 2,
   "metadata": {},
   "outputs": [],
   "source": [
    "class BinarySearch:\n",
    "    def __init__(self, nums=[]):\n",
    "        self.nums = nums\n",
    "    \n",
    "    #O(logn)\n",
    "    def find1(self,x):\n",
    "        l = 0\n",
    "        r = len(self.nums)-1\n",
    "        while(l<=r):\n",
    "            m = (l+r)//2\n",
    "            if self.nums[m] == x:\n",
    "                return m\n",
    "            elif self.nums[m]>x:\n",
    "                r = m-1\n",
    "            else:\n",
    "                l = m+1\n",
    "        return -1\n",
    "    \n",
    "    #O(logn)\n",
    "    def find2(self,x):\n",
    "        def recurrsion(l,r):\n",
    "            if l>r:\n",
    "                return -1\n",
    "            m = (l+r)//2\n",
    "            if self.nums[m] == x:\n",
    "                return m\n",
    "            elif self.nums[m]>x:\n",
    "                return recurrsion(l,m-1)\n",
    "            else:\n",
    "                return recurrsion(m+1,r)\n",
    "        return recurrsion(0,len(self.nums)-1)"
   ]
  },
  {
   "cell_type": "code",
   "execution_count": 3,
   "metadata": {},
   "outputs": [
    {
     "data": {
      "text/plain": [
       "[9, 14, 17, 17, 18, 19, 25, 60, 62, 66, 88]"
      ]
     },
     "execution_count": 3,
     "metadata": {},
     "output_type": "execute_result"
    }
   ],
   "source": [
    "nums = [random.randint(1,100) for _ in range(11)]\n",
    "nums.sort()\n",
    "BS = BinarySearch(nums)\n",
    "nums"
   ]
  },
  {
   "cell_type": "code",
   "execution_count": null,
   "metadata": {},
   "outputs": [],
   "source": [
    "x = random.randint(1,100)\n",
    "print(x,BS.find1(x),BS.find2(x))"
   ]
  },
  {
   "cell_type": "markdown",
   "metadata": {},
   "source": [
    "### [11.1 Search a Sorted Array for First Occurrence of K](https://leetcode.com/problems/find-first-and-last-position-of-element-in-sorted-array/)"
   ]
  },
  {
   "cell_type": "code",
   "execution_count": 37,
   "metadata": {},
   "outputs": [],
   "source": [
    "class FirstLastOccurance:\n",
    "    \n",
    "    #O(n) - using binary search to find item and then find first,last occurance\n",
    "    def search1(self, nums, x):\n",
    "        BS = BinarySearch(nums)\n",
    "        j = BS.find1(x)\n",
    "        if j<0:\n",
    "            return [-1,-1]\n",
    "        i = j\n",
    "        while(i>-1 and nums[i]==nums[j]):\n",
    "            i -= 1\n",
    "        k = j\n",
    "        while(k<len(nums) and nums[k]==nums[j]):\n",
    "            k +=1 \n",
    "        return [i+1,k-1]\n",
    "    \n",
    "    #O(logn) - using binary search to find first,last\n",
    "    def search2(self, nums, x):\n",
    "        l,r,first = 0, len(nums)-1,-1\n",
    "        while(l<=r):\n",
    "            m = (l+r)//2\n",
    "            if nums[m] == x:\n",
    "                first = m\n",
    "                r = m-1\n",
    "            elif nums[m] > x:\n",
    "                r = m-1\n",
    "            else:\n",
    "                l = m+1\n",
    "        \n",
    "        l,r,last = 0,len(nums)-1,-1\n",
    "        while(l<=r):\n",
    "            m = (l+r)//2\n",
    "            if nums[m] == x:\n",
    "                last = m\n",
    "                l = m+1\n",
    "            elif nums[m]>x:\n",
    "                r = m-1\n",
    "            else:\n",
    "                l = m+1\n",
    "        \n",
    "        return [first,last]"
   ]
  },
  {
   "cell_type": "code",
   "execution_count": 39,
   "metadata": {},
   "outputs": [
    {
     "name": "stdout",
     "output_type": "stream",
     "text": [
      "[2, 2, 2, 2, 3, 5, 5, 6, 6, 6, 7, 8, 8, 9, 9, 9, 10, 10, 10, 10]\n",
      "0=[-1, -1] 1=[-1, -1] 2=[0, 3] 3=[4, 4] 4=[-1, -1] 5=[5, 6] 6=[7, 9] 7=[10, 10] 8=[11, 12] 9=[13, 15] 10=[16, 19] 11=[-1, -1] "
     ]
    }
   ],
   "source": [
    "FLO = FirstLastOccurance()\n",
    "nums = [random.randint(1,10) for _ in range(20)]\n",
    "nums.sort()\n",
    "print(nums)\n",
    "for i in range(12):\n",
    "    print(f'{i}={FLO.search2(nums,i)}', end=' ')"
   ]
  },
  {
   "cell_type": "markdown",
   "metadata": {},
   "source": [
    "### Variant1: 1.First Occurance of Greater Element &nbsp;&nbsp; [2. Find Peak Element](https://leetcode.com/problems/find-peak-element/) &nbsp;&nbsp; [3. Check if p is Prefix](https://leetcode.com/problems/check-if-a-word-occurs-as-a-prefix-of-any-word-in-a-sentence/)"
   ]
  },
  {
   "cell_type": "code",
   "execution_count": 5,
   "metadata": {},
   "outputs": [],
   "source": [
    "class Variant1:\n",
    "    \n",
    "    #O(logn) - reutrn after binary serach conditions terminates\n",
    "    def variant1(self, nums, x):\n",
    "        l,r,ans = 0,len(nums)-1,-1\n",
    "        while(l<=r):\n",
    "            m = (l+r)//2\n",
    "            if nums[m]>x:\n",
    "                r = m-1\n",
    "            else:\n",
    "                l = m+1\n",
    "        return l if l<len(nums) else -1\n",
    "    \n",
    "    #O(n) - linear search\n",
    "    def variant2A(self, nums):\n",
    "        for i in range(0,len(nums)-1):\n",
    "            if nums[i] > nums[i+1]:\n",
    "                return i\n",
    "        return len(nums)-1\n",
    "    \n",
    "    #O(logn)\n",
    "    def variant2B(self, nums):\n",
    "        def recurrsion(l,r):\n",
    "            if l==r:\n",
    "                return l\n",
    "            m = (l+r)//2\n",
    "            if nums[m]>nums[m+1]:\n",
    "                return recurrsion(l,m)\n",
    "            else:\n",
    "                return recurrsion(m+1,r)\n",
    "        return recurrsion(0,len(nums)-1)\n",
    "    \n",
    "    #O(logn)\n",
    "    def variant2C(self,nums):\n",
    "        l,r = 0,len(nums)-1\n",
    "        while(l<r):\n",
    "            m = (l+r)//2\n",
    "            if nums[m]>nums[m+1]:\n",
    "                r = m\n",
    "            else:\n",
    "                l = m+1\n",
    "        return l\n",
    "    \n",
    "    def variant3(self, sentence, word):\n",
    "        S = [(s,i) for i,s in enumerate(sentence.split(' '))]\n",
    "        S.sort()\n",
    "        l,r,k = 0,len(S)-1,len(word)\n",
    "        ans = []\n",
    "        while(l<=r):\n",
    "            m = (l+r)//2\n",
    "            if S[m][0][:k] == word:\n",
    "                ans.append(S[m][1])\n",
    "            if S[m][0] > "
   ]
  },
  {
   "cell_type": "code",
   "execution_count": 6,
   "metadata": {},
   "outputs": [
    {
     "name": "stdout",
     "output_type": "stream",
     "text": [
      "2 5 "
     ]
    }
   ],
   "source": [
    "V1 = Variant1()\n",
    "\n",
    "# nums = [random.randint(-10,10) for _ in range(20)]\n",
    "# nums.sort()\n",
    "# print(nums)\n",
    "# V1.variant1(nums,random.randint(-20,20))\n",
    "\n",
    "N = [[1,2,3,1], [1,2,1,3,5,6,4]]\n",
    "for n in N:\n",
    "    print(V1.variant2C(n),end=' ')"
   ]
  },
  {
   "cell_type": "code",
   "execution_count": 12,
   "metadata": {},
   "outputs": [
    {
     "data": {
      "text/plain": [
       "[('burger', 3), ('eating', 2), ('i', 0), ('love', 1)]"
      ]
     },
     "execution_count": 12,
     "metadata": {},
     "output_type": "execute_result"
    }
   ],
   "source": [
    "sentence = \"i love eating burger\"\n",
    "S = [(s,i) for i,s in enumerate(sentence.split(' '))]\n",
    "S.sort()\n",
    "S"
   ]
  },
  {
   "cell_type": "code",
   "execution_count": null,
   "metadata": {},
   "outputs": [],
   "source": []
  }
 ],
 "metadata": {
  "kernelspec": {
   "display_name": "Python 3",
   "language": "python",
   "name": "python3"
  },
  "language_info": {
   "codemirror_mode": {
    "name": "ipython",
    "version": 3
   },
   "file_extension": ".py",
   "mimetype": "text/x-python",
   "name": "python",
   "nbconvert_exporter": "python",
   "pygments_lexer": "ipython3",
   "version": "3.8.2"
  }
 },
 "nbformat": 4,
 "nbformat_minor": 4
}
