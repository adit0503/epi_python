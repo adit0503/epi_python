{
 "cells": [
  {
   "cell_type": "markdown",
   "metadata": {},
   "source": [
    "# Chapter 12: Hash Tables\n",
    "0. Group all String Anagrams\n",
    "1. Test for palindromic permutations\n",
    "2. Is an anonymous letter constructive?\n",
    "3. Implement an ISBN cache\n",
    "4. Compute the LCA, optimizing for close ancestors\n",
    "5. Find the nearest repeated entries in an array\n",
    "6. Find the smallest subarray covering all values\n",
    "7. Find smallest subarray sequentially covering all values\n",
    "8. Find the longest subarray with distinct entries\n",
    "9. Find the length of a longest contained interval\n",
    "10. Compute all string decompositions\n",
    "11. Test the Collatz conjecture\n",
    "12. Implement a hash function for chess*"
   ]
  },
  {
   "cell_type": "code",
   "execution_count": 1,
   "metadata": {},
   "outputs": [],
   "source": [
    "import random, functools, math, collections, sys, string"
   ]
  },
  {
   "cell_type": "code",
   "execution_count": null,
   "metadata": {},
   "outputs": [],
   "source": [
    "def stringHash(S,mod):\n",
    "    MULT = 997\n",
    "    return functools.reduce(lambda v,c: (v*MULT+ord(c))%mod,S,0)"
   ]
  },
  {
   "cell_type": "markdown",
   "metadata": {},
   "source": [
    "\n",
    "### [12.0 Group all String Anagrams](https://leetcode.com/problems/group-anagrams/)"
   ]
  },
  {
   "cell_type": "code",
   "execution_count": null,
   "metadata": {},
   "outputs": [],
   "source": [
    "class GroupAnagrams:\n",
    "    \n",
    "    #O(n*slogs)\n",
    "    def group1(self, S):\n",
    "        temp = {}\n",
    "        for s in S:\n",
    "            t = ''.join(sorted(s))\n",
    "            temp[t] = temp.get(t,[]) + [s]\n",
    "        return list(temp.values())\n",
    "    \n",
    "    #O(n*s)\n",
    "    def group2(self, S):\n",
    "        temp = {}\n",
    "        for s in S:\n",
    "            C = [0]*26\n",
    "            for c in s:\n",
    "                C[ord(c)-ord('a')] += 1\n",
    "            temp[tuple(C)] = temp.get(tuple(C),[]) + [s]\n",
    "        return list(temp.values())"
   ]
  },
  {
   "cell_type": "code",
   "execution_count": null,
   "metadata": {},
   "outputs": [],
   "source": [
    "GA = GroupAnagrams()\n",
    "\n",
    "Strs = [[\"eat\",\"tea\",\"tan\",\"ate\",\"nat\",\"bat\"], [\"\"], [\"a\"]]\n",
    "for S in Strs:\n",
    "    print(GA.group2(S))"
   ]
  },
  {
   "cell_type": "markdown",
   "metadata": {},
   "source": [
    "### [12.1 Test for Palindromic Permutation](https://leetcode.com/problems/palindrome-permutation/)"
   ]
  },
  {
   "cell_type": "code",
   "execution_count": null,
   "metadata": {},
   "outputs": [],
   "source": [
    "class PalindromePermutation:\n",
    "    \n",
    "    #O(n)\n",
    "    def test1(self, S):\n",
    "        temp = {}\n",
    "        for s in S:\n",
    "            temp[s] = temp.get(s,0) + 1\n",
    "        odd = 0\n",
    "        for v in temp.values():\n",
    "            odd += v%2\n",
    "        return odd <= 1\n",
    "    \n",
    "    #O(n)\n",
    "    def test2(self, S):\n",
    "        return sum(v%2 for v in collections.Counter(S).values()) <= 1"
   ]
  },
  {
   "cell_type": "code",
   "execution_count": null,
   "metadata": {},
   "outputs": [],
   "source": [
    "PP = PalindromePermutation()\n",
    "\n",
    "S = 'aabbcdc'\n",
    "print(PP.test2(S))"
   ]
  },
  {
   "cell_type": "markdown",
   "metadata": {},
   "source": [
    "### [12.2 Is an Anonymous Letter Constructible](https://leetcode.com/problems/ransom-note/)"
   ]
  },
  {
   "cell_type": "code",
   "execution_count": null,
   "metadata": {},
   "outputs": [],
   "source": [
    "class AnonymousLetter:\n",
    "    \n",
    "    #O(max(n,m))\n",
    "    def check1(self,L,M):\n",
    "        countM = {}\n",
    "        for m in M:\n",
    "            countM[m] = countM.get(m,0) + 1\n",
    "        for l in L:\n",
    "            if countM.get(l,0)<1:\n",
    "                return False\n",
    "            countM[l] -= 1\n",
    "        return True\n",
    "    \n",
    "    #O(n+m)\n",
    "    def check2(self, L, M):\n",
    "        return not (collections.Counter(L) - collections.Counter(M))\n",
    "    \n",
    "    #O()\n",
    "    def check3(self, L, M):\n",
    "        count = [0]*26\n",
    "        for m in M:\n",
    "            count[ord(m)-ord('a')] += 1\n",
    "        for l in L:\n",
    "            if count[ord(l)-ord('a')] == 0:\n",
    "                return False\n",
    "            count[ord(l)-ord('a')] -= 1\n",
    "        return True"
   ]
  },
  {
   "cell_type": "code",
   "execution_count": null,
   "metadata": {},
   "outputs": [],
   "source": [
    "AL = AnonymousLetter()\n",
    "\n",
    "Letter = ['a','aa','aa']\n",
    "Magazine = ['b','ab','aab']\n",
    "\n",
    "for l,m in zip(Letter,Magazine):\n",
    "    print(AL.check3(l,m))"
   ]
  },
  {
   "cell_type": "markdown",
   "metadata": {},
   "source": [
    "### [12.3 Implement an LRU Cache](https://leetcode.com/problems/lru-cache/)"
   ]
  },
  {
   "cell_type": "code",
   "execution_count": null,
   "metadata": {},
   "outputs": [],
   "source": [
    "class LRUCache:\n",
    "\n",
    "    def __init__(self, capacity: int):\n",
    "        self._cache = {}\n",
    "        self._capacity = capacity\n",
    "\n",
    "    def get(self, key):\n",
    "        if key not in self._cache:\n",
    "            return -1\n",
    "        val = self._cache.pop(key)\n",
    "        self._cache[key] = val\n",
    "        return val\n",
    "\n",
    "    def put(self, key, value):\n",
    "        if key in self_cache:\n",
    "            val = self._cache.pop(key)\n",
    "        elif self._capcity <= len(self._cache):\n",
    "            self._cache.popitem(last=False)\n",
    "        self._cache[key] = value"
   ]
  },
  {
   "cell_type": "markdown",
   "metadata": {},
   "source": [
    "### [12.4 Compute the LCA, optimizing for Close Ancestors](https://leetcode.com/problems/lowest-common-ancestor-of-a-binary-tree/)"
   ]
  },
  {
   "cell_type": "code",
   "execution_count": null,
   "metadata": {},
   "outputs": [],
   "source": [
    "#O(n) - an iterative solution with stack and state \n",
    "class LCA:\n",
    "    \n",
    "    BOTH_PENDING=2\n",
    "    LEFT_DONE=1\n",
    "    BOTH_DONE=0\n",
    "    \n",
    "    def compute1(self, root, node1, node2):\n",
    "        \n",
    "        stack = [(root,LCA.BOTH_PENDING)]\n",
    "        found = False\n",
    "        index = -1\n",
    "        \n",
    "        while(stack):\n",
    "            node, state = stack[-1]\n",
    "            if state != LCA.BOTH_DONE:\n",
    "                if state == LCA.BOTH_PENDING:\n",
    "                    if node == node1 or node == node2:\n",
    "                        if found:\n",
    "                            return stack[index][0]\n",
    "                        else:\n",
    "                            found = True\n",
    "                            index = len(stack)-1\n",
    "                    child = node.left\n",
    "                else:\n",
    "                    child = node.right\n",
    "                stack.pop()\n",
    "                stack.append((node,state-1))\n",
    "                if child:\n",
    "                    stack.append((child, LCA.BOTH_PENDING))\n",
    "            else:\n",
    "                if found and index == len(stack)-1:\n",
    "                    index -= 1\n",
    "                stack.pop()\n",
    "                \n",
    "        return None"
   ]
  },
  {
   "cell_type": "markdown",
   "metadata": {},
   "source": [
    "### 12.5 Find the Nearest Related entries in an Array"
   ]
  },
  {
   "cell_type": "code",
   "execution_count": null,
   "metadata": {},
   "outputs": [],
   "source": [
    "class NearestRelated:\n",
    "    \n",
    "    #O(n2)\n",
    "    def find1(self, Strs):\n",
    "        minDist = sys.maxsize\n",
    "        for i in range(len(Strs)):\n",
    "            for j in range(i+1,len(Strs)):\n",
    "                if Strs[j] == Strs[i] and j-i < minDist:\n",
    "                    minDist = j-i\n",
    "        return minDist if minDist!=sys.maxsize else -1\n",
    "    \n",
    "    #O(nm)\n",
    "    def find2(self, S):\n",
    "        temp = {}\n",
    "        for i,s in enumerate(S):\n",
    "            temp[s] = temp.get(s,[]) + [i]\n",
    "        \n",
    "        minDist = sys.maxsize\n",
    "        for k,v in temp.items():\n",
    "            if len(v)>1:\n",
    "                for i in range(len(v)-1):\n",
    "                    minDist = min(v[i+1]-v[i],minDist)\n",
    "        return minDist if minDist!=sys.maxsize else -1\n",
    "    \n",
    "    #O(n)\n",
    "    def find3(self, S):\n",
    "        minDist = sys.maxsize\n",
    "        temp = {}\n",
    "        for i,s in enumerate(S):\n",
    "            minDist = min(minDist, i - temp.get(s,-sys.maxsize))\n",
    "            temp[s] = i\n",
    "        return minDist if minDist!=sys.maxsize else -1"
   ]
  },
  {
   "cell_type": "code",
   "execution_count": null,
   "metadata": {},
   "outputs": [],
   "source": [
    "NR = NearestRelated()\n",
    "\n",
    "S = [\"All\", \"work\", \"and\", \"no\", \"play\", \"makes\", \"for\", \"no\", \"work\", \"no\", \"fun\", \"and\", \"no\", \"results\"]\n",
    "print(NR.find3(S))"
   ]
  },
  {
   "cell_type": "markdown",
   "metadata": {},
   "source": [
    "### [12.6 Find the Smallest Subarray Covering all Values](https://leetcode.com/problems/minimum-window-substring/)"
   ]
  },
  {
   "cell_type": "code",
   "execution_count": null,
   "metadata": {},
   "outputs": [],
   "source": [
    "class SmallestSubarray:\n",
    "    \n",
    "    #O(n3) - brute force : TLE\n",
    "    def find1(self, S, T):\n",
    "        def check(S):\n",
    "            X = list(S)\n",
    "            for t in T:\n",
    "                if t in X:\n",
    "                    X.remove(t)\n",
    "                else:\n",
    "                    return False\n",
    "            return True\n",
    "        \n",
    "        ans,L = '', len(S)\n",
    "        for i in range(len(S)):\n",
    "            for j in range(i+1, len(S)+1):\n",
    "                temp = S[i:j]\n",
    "                if check(temp) and len(temp)<=L:\n",
    "                    ans = temp\n",
    "                    L = len(temp)\n",
    "        return ans\n",
    "    \n",
    "    \n",
    "    #O(n2) - using fewer subarrays : TLE\n",
    "    def find2(self, S, T):\n",
    "        \n",
    "        ans,L = '', len(S)\n",
    "        for i,s in enumerate(S):\n",
    "            if s in T:\n",
    "                j = i\n",
    "                temp = list(T)\n",
    "                while(j < len(S) and temp):\n",
    "                    if S[j] in temp:\n",
    "                        temp.remove(S[j])\n",
    "                    j += 1\n",
    "                if not temp and j-i<=L:\n",
    "                    ans = S[i:j]\n",
    "                    L = j-i\n",
    "        return ans\n",
    "    \n",
    "    #O(n2)\n",
    "    def find3(self, S, T):\n",
    "        SubArray = collections.namedtuple('SubArray',('l','r'))\n",
    "        cnt = collections.Counter(T)\n",
    "        res = SubArray(-1,-1)\n",
    "        L = len(T)\n",
    "        l = 0\n",
    "        for r,s in enumerate(S):\n",
    "            if s in T:\n",
    "                cnt[s] -= 1\n",
    "                if cnt[s] >= 0:\n",
    "                    L -= 1\n",
    "            while(L == 0):\n",
    "                if res == (-1,-1) or r-l<res[1]-res[0]:\n",
    "                    res = (l,r)\n",
    "                s1 = S[l]\n",
    "                if s1 in T:\n",
    "                    cnt[s1] += 1\n",
    "                    if cnt[s1] > 0:\n",
    "                        L += 1\n",
    "                l += 1\n",
    "        return S[res[0]:res[1]+1]"
   ]
  },
  {
   "cell_type": "code",
   "execution_count": null,
   "metadata": {},
   "outputs": [],
   "source": [
    "SS = SmallestSubarray()\n",
    "\n",
    "S = 'ABAADCADBACD'\n",
    "T = 'BC'\n",
    "print(SS.find3(S,T))"
   ]
  },
  {
   "cell_type": "markdown",
   "metadata": {},
   "source": [
    "### Variant6: 1. All Distinct Values Shortest Subarray &nbsp; &nbsp; 2. Rearrange All Distinct Value Shortest Subarray with Maximum Length &nbsp; &nbsp; 3. Rearrange array with no two equal elements are k or less apart"
   ]
  },
  {
   "cell_type": "code",
   "execution_count": null,
   "metadata": {},
   "outputs": [],
   "source": [
    "class Variant6:\n",
    "    \n",
    "    def variant1(self, S):\n",
    "        T = ''.join(set(S))\n",
    "        \n",
    "        SubArray = collections.namedtuple('SubArray',('l','r'))\n",
    "        cnt = collections.Counter(T)\n",
    "        res = SubArray(-1,-1)\n",
    "        L = len(T)\n",
    "        l = 0\n",
    "        for r,s in enumerate(S):\n",
    "            if s in T:\n",
    "                cnt[s] -= 1\n",
    "                if cnt[s] >= 0:\n",
    "                    L -= 1\n",
    "            while(L == 0):\n",
    "                if res == (-1,-1) or r-l<res[1]-res[0]:\n",
    "                    res = (l,r)\n",
    "                s1 = S[l]\n",
    "                if s1 in T:\n",
    "                    cnt[s1] += 1\n",
    "                    if cnt[s1] > 0:\n",
    "                        L += 1\n",
    "                l += 1\n",
    "        return S[res[0]:res[1]+1]"
   ]
  },
  {
   "cell_type": "code",
   "execution_count": null,
   "metadata": {},
   "outputs": [],
   "source": [
    "V6 = Variant6()\n",
    "\n",
    "S = ''.join([random.choice(string.ascii_uppercase[:5]) for _ in range(30)])\n",
    "# T = ''.join([random.choice(S) for _ in range(4)])\n",
    "\n",
    "print(S,V6.variant1(S))"
   ]
  },
  {
   "cell_type": "markdown",
   "metadata": {},
   "source": [
    "### 12.7 Find Smallest Subarray Sequentially Covering all Values"
   ]
  },
  {
   "cell_type": "markdown",
   "metadata": {},
   "source": [
    "### [12.11 Test the Collatz Conjecture](https://leetcode.com/problems/integer-replacement/)"
   ]
  },
  {
   "cell_type": "code",
   "execution_count": 24,
   "metadata": {},
   "outputs": [],
   "source": [
    "class CollatzConjecture:\n",
    "    \n",
    "    def test1(self, N):\n",
    "        n = N\n",
    "        cntn = 0\n",
    "        while(n!=1):\n",
    "            if n%2:\n",
    "                n += 1\n",
    "            else:\n",
    "                n //= 2\n",
    "            cntn += 1\n",
    "        m = N\n",
    "        cntm = 0\n",
    "        while(m!=1):\n",
    "            if m%2:\n",
    "                m -= 1\n",
    "            else:\n",
    "                m //= 2\n",
    "            cntm += 1\n",
    "        return min(cntn, cntm)"
   ]
  },
  {
   "cell_type": "code",
   "execution_count": 25,
   "metadata": {},
   "outputs": [
    {
     "name": "stdout",
     "output_type": "stream",
     "text": [
      "[210125740, 997751681, 821868786, 1814865602, 1423793056]\n",
      "38 44 43 43 42 "
     ]
    }
   ],
   "source": [
    "CC = CollatzConjecture()\n",
    "\n",
    "N = [random.randint(1,2**31-1) for _ in range(5)]\n",
    "print(N)\n",
    "for n in N:\n",
    "    print(CC.test1(n), end=' ')"
   ]
  }
 ],
 "metadata": {
  "kernelspec": {
   "display_name": "Python 3",
   "language": "python",
   "name": "python3"
  },
  "language_info": {
   "codemirror_mode": {
    "name": "ipython",
    "version": 3
   },
   "file_extension": ".py",
   "mimetype": "text/x-python",
   "name": "python",
   "nbconvert_exporter": "python",
   "pygments_lexer": "ipython3",
   "version": "3.8.5"
  }
 },
 "nbformat": 4,
 "nbformat_minor": 4
}
