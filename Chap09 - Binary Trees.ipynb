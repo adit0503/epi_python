{
 "cells": [
  {
   "cell_type": "markdown",
   "metadata": {},
   "source": [
    "# Chapter9: Binary Trees\n",
    "0. [Tree Traversals](#9.0)\n",
    "1. [Test if a Binary Tree is Height-Balanced](#9.1)\n",
    "2. [Test if a Binary Tree is Symmetric](#9.2)\n",
    "3. [Compute the Lowest Common Ancestor in a Binary Tree](#9.3)\n",
    "4. [Compute the LCA when nodes have Parent Pointers](#9.4)\n",
    "5. [Sum the root-leaf paths in a Binary Tree](#9.5)\n",
    "6. [Find a root to leaf path with Specified Sum](#9.6)\n",
    "7. [Implement an Inorder Traversal without recurssion](#9.7)\n",
    "8. [Implement a Preorder Traversal without Recurssion](#9.8)\n",
    "9. [Compute the Kth node in an Inorder Traversal](#9.9)\n",
    "10. [Compute The Successor](#9.10)\n",
    "11. [](#9.11)\n",
    "12. [](#9.12)\n",
    "13. [](#9.13)\n",
    "14. [Form a linked list From the leaves of a Binary Tree](#9.14)\n",
    "15. [Compute the Exterior of a Binary Tree](#9.15)\n",
    "16. [Compute the Right Sibling Tree](#9.16)"
   ]
  },
  {
   "cell_type": "code",
   "execution_count": 1,
   "metadata": {},
   "outputs": [],
   "source": [
    "class TreeNode:\n",
    "    def __init__(self, val=0, left=None, right=None):\n",
    "        self.val = val\n",
    "        self.left = left\n",
    "        self.right = right\n",
    "        \n",
    "def arrayToTree(S):\n",
    "    if S == '[]':\n",
    "        return None\n",
    "    \n",
    "    nodes = []\n",
    "    for s in S.strip('[]').split(','):\n",
    "        if s == 'null':\n",
    "            nodes.append(None)\n",
    "        else:\n",
    "            nodes.append(TreeNode(int(s)))\n",
    "    \n",
    "    stack = nodes[::-1]\n",
    "    root = stack.pop()\n",
    "    \n",
    "    for node in nodes:\n",
    "        if node:\n",
    "            if stack:\n",
    "                node.left = stack.pop()\n",
    "            if stack:\n",
    "                node.right = stack.pop()        \n",
    "    return root"
   ]
  },
  {
   "cell_type": "code",
   "execution_count": 2,
   "metadata": {},
   "outputs": [],
   "source": [
    "import turtle as t\n",
    "def drawTree(root):\n",
    "    \n",
    "    def height(root):\n",
    "        return 1 + max(height(root.left), height(root.right)) if root else -1\n",
    "    \n",
    "    def jumpto(x, y):\n",
    "        t.penup()\n",
    "        t.goto(x, y)\n",
    "        t.pendown()\n",
    "        \n",
    "    def draw(node, x, y, dx):\n",
    "        if node:\n",
    "            t.goto(x, y)\n",
    "            jumpto(x, y-20)\n",
    "            t.write(node.val, align='center', font=('Arial', 12, 'normal'))\n",
    "            draw(node.left, x-dx, y-60, dx/2)\n",
    "            jumpto(x, y-20)\n",
    "            draw(node.right, x+dx, y-60, dx/2) \n",
    "        \n",
    "\n",
    "    t.clear()\n",
    "    h = height(root)\n",
    "    jumpto(0, 30*h)\n",
    "    draw(root, 0, 30*h, 40*h)\n",
    "    \n",
    "    t.hideturtle()\n",
    "    t.exitonclick()\n",
    "    t.mainloop()"
   ]
  },
  {
   "cell_type": "code",
   "execution_count": null,
   "metadata": {},
   "outputs": [],
   "source": [
    "nums = '[1,2,3,4,5,6,7,8,9,10,11,12,13,14,15]'\n",
    "root = arrayToTree(nums)"
   ]
  },
  {
   "cell_type": "markdown",
   "metadata": {},
   "source": [
    "<a id='9.0'></a>\n",
    "### 9.0 Tree Traversals"
   ]
  },
  {
   "cell_type": "code",
   "execution_count": null,
   "metadata": {},
   "outputs": [],
   "source": [
    "class TreeTraversal:\n",
    "    \n",
    "    #(n)\n",
    "    def preOrder(self, node, order):\n",
    "        if node:\n",
    "            order.append(node.val)\n",
    "            self.preOrder(node.left,order)\n",
    "            self.preorder(node.right,order)\n",
    "            \n",
    "    def preOrder2(self, root):\n",
    "        order = []\n",
    "        if not root:\n",
    "            return order\n",
    "        \n",
    "        stack = [root]\n",
    "        while(stack):\n",
    "            node = stack.pop()\n",
    "            if node:\n",
    "                order.append(node.val)\n",
    "                stack.append(node.right)\n",
    "                stack.append(node.left)\n",
    "        return order\n",
    "    \n",
    "    #O(n)\n",
    "    def inOrder(self, node, order):\n",
    "        if node: \n",
    "            self.inOrder(node.left,order)\n",
    "            order.append(node.val)\n",
    "            self.inOrder(node.right,order)\n",
    "    \n",
    "    def inOrder2(root):\n",
    "            order = []\n",
    "            if not root:\n",
    "                return order\n",
    "\n",
    "            stack = [] # will only contain left children\n",
    "            node = root\n",
    "            while(stack or node):\n",
    "                if node:\n",
    "                    stack.append(node)\n",
    "                    node = node.left\n",
    "                else:\n",
    "                    node = stack.pop()\n",
    "                    order.append(node.val)\n",
    "                    node = node.right\n",
    "            return order\n",
    "    \n",
    "    #O(n)\n",
    "    def postOrder(self, node, order):\n",
    "        if node\n",
    "            self.postOrder(node.left,order)\n",
    "            self.postOrder(node.right,order)\n",
    "            order.append(node.val)\n",
    "            \n",
    "    def postOrder2(root):\n",
    "        order = []\n",
    "        if not root:\n",
    "            return order\n",
    "\n",
    "        visited = set()\n",
    "        stack = [] # to keep track of visiting the node twice\n",
    "        node = root\n",
    "        while(stack or node):\n",
    "            if node:\n",
    "                stack.append(node)\n",
    "                node = node.left\n",
    "            else:\n",
    "                node = stack.pop()\n",
    "                if node.right and not node.right in visited:\n",
    "                    stack.append(node)\n",
    "                    node = node.right\n",
    "                else:\n",
    "                    visited.add(node)\n",
    "                    order.append(node.val)\n",
    "                    node = None\n",
    "        return order"
   ]
  },
  {
   "cell_type": "code",
   "execution_count": null,
   "metadata": {},
   "outputs": [],
   "source": [
    "class TreeHeight:\n",
    "    \n",
    "    def height1(self, node):\n",
    "        if not node:\n",
    "            return 0\n",
    "        return 1 + max(self.height1(node.left), self.height1(node.right))"
   ]
  },
  {
   "cell_type": "code",
   "execution_count": null,
   "metadata": {},
   "outputs": [],
   "source": [
    "class TreeCount:\n",
    "    \n",
    "    def count1(self, node):\n",
    "        if not node:\n",
    "            return 0\n",
    "        return 1 + self.count1(node.left) + self.count1(node.right)"
   ]
  },
  {
   "cell_type": "code",
   "execution_count": null,
   "metadata": {},
   "outputs": [],
   "source": [
    "class TreeInvert:\n",
    "    \n",
    "    def mirror1(self, node):\n",
    "        if node:\n",
    "            node.left, node.right = node.right, node.left\n",
    "            self.mirror1(node.left)\n",
    "            self.mirror1(node.right)"
   ]
  },
  {
   "cell_type": "markdown",
   "metadata": {},
   "source": [
    "<a id='9.1'></a>\n",
    "### [9.1 Test if a Binary Tree is Height-Balanced](https://leetcode.com/problems/balanced-binary-tree/)"
   ]
  },
  {
   "cell_type": "code",
   "execution_count": null,
   "metadata": {},
   "outputs": [],
   "source": [
    "class HeightBalanced:\n",
    "    \n",
    "    def check1(self, root):\n",
    "        \n",
    "        Temp = collections.namedtuple('Temp',('balanced', 'height'))\n",
    "        \n",
    "        def checkBalance(node):\n",
    "            if not node:\n",
    "                return temp(True, -1)\n",
    "\n",
    "            leftSubtree = checkBalance(node.left)\n",
    "            if not leftSubtree.balanced:\n",
    "                return Temp(False,0)\n",
    "\n",
    "            rightSubtree = checkBalance(node.right)\n",
    "            if not rightSubtree.balanced:\n",
    "                return Temp(False, 0)\n",
    "            \n",
    "            isBalanced = abs(leftSubtree.height - rightSubtree.height) <= 1\n",
    "            height = max(leftSubtree.height, rightSubtree.height) + 1\n",
    "            return Temp(isBalanced, height)\n",
    "        \n",
    "        return checkBalance(root).balanced"
   ]
  },
  {
   "cell_type": "markdown",
   "metadata": {},
   "source": [
    "### Variant1: 1.Size of Largest Complete Subtree &nbsp;&nbsp; 2. K-balanced Tree"
   ]
  },
  {
   "cell_type": "code",
   "execution_count": null,
   "metadata": {},
   "outputs": [],
   "source": [
    "class Variant1:"
   ]
  },
  {
   "cell_type": "markdown",
   "metadata": {},
   "source": [
    "<a id='9.2'></a>\n",
    "### [9.2 Test if a Binary Tree is Symmetric](https://leetcode.com/problems/symmetric-tree/)"
   ]
  },
  {
   "cell_type": "code",
   "execution_count": null,
   "metadata": {},
   "outputs": [],
   "source": [
    "class SymmetricTree:\n",
    "    \n",
    "    #O(n) \n",
    "    def check1(self, root):\n",
    "        if not root:\n",
    "            return True\n",
    "        queue = [(root,root)]\n",
    "        while(queue):\n",
    "            node1,node2 = queue.pop(0)\n",
    "            if not node1 and not node2:\n",
    "                continue\n",
    "            if not node1 or not node2:\n",
    "                return False\n",
    "            if node1.val != node2.val:\n",
    "                return False\n",
    "            queue.append((node1.left, node2.right))\n",
    "            queue.append((node1.right, node2.left))\n",
    "        return True\n",
    "    \n",
    "    #O(n)\n",
    "    def check2(self, root):\n",
    "        def mirror(node1, node2):\n",
    "            if not node1 and not node2:\n",
    "                return True\n",
    "            elif node1 and node2:\n",
    "                return (node1.val == node2.val and mirror(node1.left, node2.right) and mirror(node1.right, node2.left))\n",
    "            return False\n",
    "        return not root or mirror(root.left, node.right)"
   ]
  },
  {
   "cell_type": "markdown",
   "metadata": {},
   "source": [
    "<a id='9.3'></a>\n",
    "### [9.3 Compute the Lowest Common Ancestor in a Binary Tree](https://leetcode.com/problems/lowest-common-ancestor-of-a-binary-tree/)"
   ]
  },
  {
   "cell_type": "code",
   "execution_count": null,
   "metadata": {},
   "outputs": [],
   "source": [
    "class CommonAncestor:\n",
    "    \n",
    "    #O(n)\n",
    "    def lowest1(self, root, node1, node2):\n",
    "        Status = collections.namedtuple('Status',('count','ancestor'))\n",
    "        \n",
    "        def recurssion(node, node1, node2):\n",
    "            if not node:\n",
    "                return Status(0,None)\n",
    "            \n",
    "            left = recurrsion(node.left, node1, node2)\n",
    "            if left.count == 2:\n",
    "                return left\n",
    "            right = recurrsion(node.right, node1, node2)\n",
    "            if right.count == 2:\n",
    "                return right\n",
    "            \n",
    "            count = (left.count + right.count + int(node is node1) + int(node is node2))\n",
    "            return Status(count, node if count == 2 else None)\n",
    "        \n",
    "        return recurssion(root, node1, node2).ancestor\n",
    "    \n",
    "    #O(n)\n",
    "    def lowest2(self, root, node1, node2):\n",
    "        \n",
    "        def recurssion(node, node1, node2):\n",
    "            if not node:\n",
    "                return None\n",
    "            if node == node1 or node == node2:\n",
    "                return node\n",
    "            \n",
    "            left = recurssion(node.left, node1, node2)\n",
    "            right = recurssion(node.right, node1, node2)\n",
    "            \n",
    "            if left and right:\n",
    "                return node\n",
    "            return left if left else right\n",
    "        \n",
    "        return recurssion(root, node1, node2)"
   ]
  },
  {
   "cell_type": "markdown",
   "metadata": {},
   "source": [
    "<a id='9.4'></a>\n",
    "### 9.4 Compute the LCA when nodes have Parent Pointers"
   ]
  },
  {
   "cell_type": "markdown",
   "metadata": {},
   "source": [
    "<a id='9.5'></a>\n",
    "### [9.5 Sum the root-leaf paths in a Binary Tree](https://leetcode.com/problems/sum-root-to-leaf-numbers/)"
   ]
  },
  {
   "cell_type": "code",
   "execution_count": null,
   "metadata": {},
   "outputs": [],
   "source": [
    "class PathNumbers:\n",
    "    \n",
    "    def sum1(self, root):\n",
    "        def recurssion(node,num):\n",
    "            if not node:\n",
    "                return\n",
    "            num = num*10 + node.val\n",
    "            if not node.left and not node.right:\n",
    "                result.append(num)\n",
    "            recurssion(node.left,num)\n",
    "            recurssion(node.right,num)\n",
    "            num //= 10\n",
    "        result = []\n",
    "        recurssion(root,0)\n",
    "        return sum(result)\n",
    "    \n",
    "    def sum2(self, root):\n",
    "        result = 0\n",
    "        if not root:\n",
    "            return 0\n",
    "        \n",
    "        queue = [(root,0)]\n",
    "        while(queue):\n",
    "            node, num = queue.pop(0)\n",
    "            num = num*10 + node.val\n",
    "            if not node.left and not node.right:\n",
    "                result += num\n",
    "            if node.left:\n",
    "                queue.append()"
   ]
  },
  {
   "cell_type": "code",
   "execution_count": null,
   "metadata": {},
   "outputs": [],
   "source": [
    "PN = PathNumbers()\n",
    "root = arrayToTree('[4,9,0,5,1]')\n",
    "\n",
    "PN.sum1(root)"
   ]
  },
  {
   "cell_type": "markdown",
   "metadata": {},
   "source": [
    "<a id='9.6'></a>\n",
    "### [9.6 Find a root to leaf path with Specified Sum](https://leetcode.com/problems/path-sum/)"
   ]
  },
  {
   "cell_type": "code",
   "execution_count": null,
   "metadata": {},
   "outputs": [],
   "source": [
    "class PathSum:\n",
    "                    \n",
    "    #O(n) - recurssion\n",
    "    def check1(self, root, A):\n",
    "        def recurssion(node,ans):\n",
    "            if not node:\n",
    "                return False\n",
    "            ans += node.val\n",
    "            if (not node.left and not node.right and ans == A):\n",
    "                return True\n",
    "            return recurssion(node.left, ans) or recurssion(node.right, ans)\n",
    "        return recurssion(root,0)\n",
    "    \n",
    "    #O(n) - iteration\n",
    "    def check2(self, root, A):\n",
    "        queue = [(root,0)]\n",
    "        while(queue):\n",
    "            node, ans = queue.pop(0)\n",
    "            ans += node.val\n",
    "            if (not node.left and not node.right and ans==A):\n",
    "                return True\n",
    "            if node.left:\n",
    "                queue.append((node.left, ans))\n",
    "            if node.right:\n",
    "                queue.append((node.right, ans))\n",
    "        return False"
   ]
  },
  {
   "cell_type": "markdown",
   "metadata": {},
   "source": [
    "### Variant6: [0.all root-to-leaf paths](https://leetcode.com/problems/binary-tree-paths/) &nbsp;&nbsp; [2.all paths for given path sum](https://leetcode.com/problems/path-sum-ii/) &nbsp;&nbsp; [3.Path Sum III](https://leetcode.com/problems/path-sum-iii/)"
   ]
  },
  {
   "cell_type": "code",
   "execution_count": null,
   "metadata": {},
   "outputs": [],
   "source": [
    "class Variant6:\n",
    "    \n",
    "    #O(n) - recurssion\n",
    "    def variant0A(self, root):\n",
    "        def recurssion(node, path):\n",
    "            if not node:\n",
    "                return\n",
    "            path.append(str(node.val))\n",
    "            if not node.left and not node.right:\n",
    "                result.append(path.copy())\n",
    "            recurssion(node.left, path)\n",
    "            recurssion(node.right, path)\n",
    "            path.pop()\n",
    "        result = []\n",
    "        recurssion(root, [])\n",
    "        return ['->'.join(r) for r in result]\n",
    "    \n",
    "    def variant0B(self, root):\n",
    "        result = []\n",
    "        if not root:\n",
    "            return result\n",
    "        queue = [(root,[str(root.val)])]\n",
    "        while(queue):\n",
    "            node, path = queue.pop(0)\n",
    "            if not node.left and not node.right:\n",
    "                result.append(path)\n",
    "            \n",
    "            if node.left:\n",
    "                queue.append((node.left, path+[str(node.left.val)]))\n",
    "            if node.right:\n",
    "                queue.append((node.right, path+[str(node.right.val)]))\n",
    "        return ['->'.join(r) for r in result] \n",
    "            \n",
    "        #O(n)\n",
    "    def variant2A(self, root, A):\n",
    "        def recurssion(node,path,ans):\n",
    "            if node:\n",
    "                ans += node.val\n",
    "                path.append(node.val)\n",
    "                if not node.left and not node.right and ans==A:\n",
    "                    result.append(path.copy())\n",
    "                    \n",
    "                recurssion(node.left,path,ans)\n",
    "                recurssion(node.right,path,ans)\n",
    "                path.pop() \n",
    "        result = []\n",
    "        recurssion(root,[],0)\n",
    "        return result\n",
    "    \n",
    "    #O(n)\n",
    "    def variant2B(self, root, A):\n",
    "        result = []\n",
    "        if not root:\n",
    "            return result\n",
    "        queue = [(root,[root.val],0)]\n",
    "        while(queue):\n",
    "            node, path, ans = queue.pop(0)\n",
    "            ans += node.val\n",
    "            if not node.left and not node.right and ans==A:\n",
    "                result.append(path)\n",
    "                \n",
    "            if node.left:\n",
    "                queue.append((node.left, path + [node.left.val], ans))\n",
    "            if node.right:\n",
    "                queue.append((node.right, path + [node.right.val], ans))\n",
    "        return result\n",
    "        \n",
    "    def variant3A(self, root, A):\n",
    "        def recurssion(node, path, count):\n",
    "            if not node:\n",
    "                return\n",
    "            \n",
    "            path.append(node.val)\n",
    "            temp = 0\n",
    "            for p in reversed(path):\n",
    "                if temp+p == A:\n",
    "                    count[0] += 1\n",
    "                temp += p\n",
    "            \n",
    "            recurssion(node.left, path, count)\n",
    "            recurssion(node.right, path, count)\n",
    "            path.pop()\n",
    "        count = [0]\n",
    "        recurssion(root, [], count)\n",
    "        return count[0]"
   ]
  },
  {
   "cell_type": "code",
   "execution_count": null,
   "metadata": {},
   "outputs": [],
   "source": [
    "V6 = Variant6()\n",
    "root = arrayToTree('[1]')\n",
    "\n",
    "# print(V6.variant0A(root), V6.variant0B(root))\n",
    "# print(V6.variant1A(root,22), V6.variant1B(root,22))\n",
    "# print(V6.variant3A(root,1))"
   ]
  },
  {
   "cell_type": "markdown",
   "metadata": {},
   "source": [
    "<a id='9.7'></a>\n",
    "### [9.7 Implement an Inorder Traversal without recurssion](https://leetcode.com/problems/binary-tree-inorder-traversal/)"
   ]
  },
  {
   "cell_type": "code",
   "execution_count": null,
   "metadata": {},
   "outputs": [],
   "source": [
    "class Inorder:\n",
    "    \n",
    "    #O(n)\n",
    "    def order1(self, root):\n",
    "        order = []\n",
    "        if not root:\n",
    "            return order\n",
    "        stack = []\n",
    "        node = root\n",
    "        while(stack or node):\n",
    "            if node:\n",
    "                stack.append(node)\n",
    "                node = node.left\n",
    "            else:\n",
    "                node = stack.pop()\n",
    "                order.append(node.val)\n",
    "                node = node.right\n",
    "        return order"
   ]
  },
  {
   "cell_type": "code",
   "execution_count": null,
   "metadata": {},
   "outputs": [],
   "source": [
    "I = Inorder()\n",
    "root = arrayToTree('[1,2,3,4,5,6,7,8,9]')\n",
    "\n",
    "I.order1(root)"
   ]
  },
  {
   "cell_type": "markdown",
   "metadata": {},
   "source": [
    "<a id='9.8'></a>\n",
    "### [9.8 Implement a Preorder Traversal without Recurssion](https://leetcode.com/problems/binary-tree-preorder-traversal/)"
   ]
  },
  {
   "cell_type": "code",
   "execution_count": null,
   "metadata": {},
   "outputs": [],
   "source": [
    "class Preorder:\n",
    "    \n",
    "    def order1(self, root):\n",
    "        order = []\n",
    "        if not root:\n",
    "            return order\n",
    "        \n",
    "        stack = [root]\n",
    "        while(stack):\n",
    "            node = stack.pop()\n",
    "            if node:\n",
    "                order.append(node.val)\n",
    "                stack.append(node.right)\n",
    "                stack.append(node.left)\n",
    "        return order"
   ]
  },
  {
   "cell_type": "markdown",
   "metadata": {},
   "source": [
    "<a id='9.9'></a>\n",
    "### 9.9 Compute the Kth node in an Inorder Traversal"
   ]
  },
  {
   "cell_type": "code",
   "execution_count": null,
   "metadata": {},
   "outputs": [],
   "source": [
    "class KthInorder:\n",
    "    \n",
    "    #O(n) - brute force\n",
    "    def find1(self, root, k):\n",
    "        def recurssion(node):\n",
    "            if node:\n",
    "                recurssion(node.left)\n",
    "                order.append(node.val)\n",
    "                recurssion(node.right)\n",
    "        order = []\n",
    "        recurssion(root)\n",
    "        return order[k-1]\n",
    "    \n",
    "    #O(h)\n",
    "    def find2(self, root, k):\n",
    "        \n",
    "        def size(node):\n",
    "            if not node:\n",
    "                return 0\n",
    "            return 1 + size(node.left) + size(node.right)\n",
    "        \n",
    "        while(root):\n",
    "            leftSize = size(root.left) if root.left else 0\n",
    "            if leftSize + 1 < k:\n",
    "                k -= leftSize + 1\n",
    "                root = root.right\n",
    "            elif leftSize == k-1:\n",
    "                return root\n",
    "            else:\n",
    "                root = root.left   \n",
    "        return None"
   ]
  },
  {
   "cell_type": "code",
   "execution_count": null,
   "metadata": {},
   "outputs": [],
   "source": [
    "KI = KthInorder()\n",
    "root = arrayToTree('[0,1,2,3,4,5,6,7,8,9]')\n",
    "\n",
    "for i in range(1,10):\n",
    "    print(KI.find1(root,i), KI.find1(root,i), end=' ')"
   ]
  },
  {
   "cell_type": "markdown",
   "metadata": {},
   "source": [
    "<a id='9.10'></a>\n",
    "### 9.10 Compute The Successor"
   ]
  },
  {
   "cell_type": "markdown",
   "metadata": {},
   "source": [
    "### 9.11 Implement an Inorder Traversal with O(1) Space"
   ]
  },
  {
   "cell_type": "markdown",
   "metadata": {},
   "source": [
    "### 9.12 Reconstruct a Binary Tree from Traversal Data"
   ]
  },
  {
   "cell_type": "markdown",
   "metadata": {},
   "source": [
    "### 9.13 Reconstruct a Binary Tree from a Preorder Traversal with Markers"
   ]
  },
  {
   "cell_type": "markdown",
   "metadata": {},
   "source": [
    "<a id=9.14></a>\n",
    "### [9.14 Form a linked list From the leaves of a Binary Tree](https://leetcode.com/problems/find-leaves-of-binary-tree/)"
   ]
  },
  {
   "cell_type": "code",
   "execution_count": 33,
   "metadata": {},
   "outputs": [],
   "source": [
    "class TreeLeaves:\n",
    "    \n",
    "    #O(n) - first left then right\n",
    "    def list1(self, root):\n",
    "        def recurrsion(node):\n",
    "            if not node:\n",
    "                return []\n",
    "            if not node.left and not node.right:\n",
    "                return [node.val]\n",
    "            return recurrsion(node.left) + recurrsion(node.right)\n",
    "        \n",
    "        return recurrsion(root)"
   ]
  },
  {
   "cell_type": "code",
   "execution_count": 32,
   "metadata": {},
   "outputs": [
    {
     "data": {
      "text/plain": [
       "[7, 8, 9, 5, 6]"
      ]
     },
     "execution_count": 32,
     "metadata": {},
     "output_type": "execute_result"
    }
   ],
   "source": [
    "TL = TreeLeaves()\n",
    "root = arrayToTree('[0,1,2,3,4,5,6,7,8,9]')\n",
    "\n",
    "TL.list1(root)"
   ]
  },
  {
   "cell_type": "markdown",
   "metadata": {},
   "source": [
    "### Variant14: [1. Leaf-Similar Trees](https://leetcode.com/problems/leaf-similar-trees/)"
   ]
  },
  {
   "cell_type": "code",
   "execution_count": null,
   "metadata": {},
   "outputs": [],
   "source": [
    "class Variant14:\n",
    "    \n",
    "    def variant1(self, root1, root2):\n",
    "        \n",
    "        TL = TreeLeaves()\n",
    "        return TL.list1(root1) == TL.list1(root2)"
   ]
  },
  {
   "cell_type": "markdown",
   "metadata": {},
   "source": [
    "<a id=9.15></a>\n",
    "### 9.15 Compute the Exterior of a Binary Tree"
   ]
  },
  {
   "cell_type": "code",
   "execution_count": 28,
   "metadata": {},
   "outputs": [],
   "source": [
    "class TreeExterior:\n",
    "    \n",
    "    def list1(self, root):\n",
    "        def leftSide(node):\n",
    "            if not node:\n",
    "                return []\n",
    "            return [node.val] + leftSide(node.left)\n",
    "        def rightSide(node):\n",
    "            if not node:\n",
    "                return []\n",
    "            return [node.val] + rightSide(node.right)\n",
    "        TL = TreeLeaves()\n",
    "        return leftSide(root)[:-1] + TL.list1(root) + rightSide(root)[:-1:-1]"
   ]
  },
  {
   "cell_type": "code",
   "execution_count": 29,
   "metadata": {},
   "outputs": [
    {
     "data": {
      "text/plain": [
       "[0, 1, 3, 7, 8, 9, 5, 6]"
      ]
     },
     "execution_count": 29,
     "metadata": {},
     "output_type": "execute_result"
    }
   ],
   "source": [
    "TE = TreeExterior()\n",
    "root = arrayToTree('[0,1,2,3,4,5,6,7,8,9]')\n",
    "\n",
    "TE.list1(root)"
   ]
  },
  {
   "cell_type": "markdown",
   "metadata": {},
   "source": [
    "<a id=9.16></a>\n",
    "### [9.16 Compute the Right Sibling Tree](https://leetcode.com/problems/populating-next-right-pointers-in-each-node/)"
   ]
  },
  {
   "cell_type": "code",
   "execution_count": null,
   "metadata": {},
   "outputs": [],
   "source": [
    "class RightSibling:\n",
    "    \n",
    "    #O(n) - using temp and level order\n",
    "    def compute0(self, root):\n",
    "        if not root:\n",
    "            return root\n",
    "        temp = {}\n",
    "        queue = [(root,0)]\n",
    "        while(queue):\n",
    "            node, lvl = queue.pop(0)\n",
    "            temp[lvl] = temp.get(lvl,[]) + [node]\n",
    "            if node.left:\n",
    "                queue.append((node.left, lvl+1))\n",
    "            if node.right:\n",
    "                queue.append((node.right, lvl+1))\n",
    "        for K,V in temp.items():\n",
    "            for i in range(len(V)-1):\n",
    "                V[i].next = V[i+1]\n",
    "        return root\n",
    "    \n",
    "    #O(n) - level order\n",
    "    def compute1(self, root):\n",
    "        if not root:\n",
    "            return root\n",
    "        queue = [root]\n",
    "        while(queue):\n",
    "            for i in range(len(queue)-1):\n",
    "                queue[i].next = queue[i+1]\n",
    "            queue = [child for node in queue for child in (node.left, node.right) if child]\n",
    "        return root\n",
    "    \n",
    "    #O(n) - using node property \n",
    "    def compute2(self, root):\n",
    "        def changeNext(node):\n",
    "            while(node and node.left):\n",
    "                node.left.next = node.right\n",
    "                node.right.next = node.next and node.next.left\n",
    "                node = node.next\n",
    "        node = root\n",
    "        while(node and node.left):\n",
    "            changeNext(node)\n",
    "            node = node.left\n",
    "        return root"
   ]
  },
  {
   "cell_type": "markdown",
   "metadata": {},
   "source": [
    "### Variant16: 1. Change Right Pointers &nbsp;&nbsp; [2. Next Right Pointer II](https://leetcode.com/problems/populating-next-right-pointers-in-each-node-ii/)"
   ]
  },
  {
   "cell_type": "code",
   "execution_count": null,
   "metadata": {},
   "outputs": [],
   "source": [
    "class Variant16:\n",
    "    \n",
    "    def variant1(self, root):\n",
    "        \n",
    "        \n",
    "    \n",
    "    def variant2(self, root):\n",
    "        if not root:\n",
    "            return root\n",
    "        queue = [root]\n",
    "        while(queue):\n",
    "            for i in range(len(queue)-1):\n",
    "                queue[i].next = queue[i+1]\n",
    "            queue = [child for node in queue for child in (node.left, node.right) if child]\n",
    "        return root"
   ]
  }
 ],
 "metadata": {
  "kernelspec": {
   "display_name": "Python 3",
   "language": "python",
   "name": "python3"
  },
  "language_info": {
   "codemirror_mode": {
    "name": "ipython",
    "version": 3
   },
   "file_extension": ".py",
   "mimetype": "text/x-python",
   "name": "python",
   "nbconvert_exporter": "python",
   "pygments_lexer": "ipython3",
   "version": "3.6.9"
  }
 },
 "nbformat": 4,
 "nbformat_minor": 4
}
