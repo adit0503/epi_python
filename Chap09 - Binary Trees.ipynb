{
 "cells": [
  {
   "cell_type": "markdown",
   "metadata": {},
   "source": [
    "# Chapter9: Binary Trees"
   ]
  },
  {
   "cell_type": "code",
   "execution_count": 1,
   "metadata": {},
   "outputs": [],
   "source": [
    "class TreeNode:\n",
    "    def __init__(self, val=0, left=None, right=None):\n",
    "        self.val = val\n",
    "        self.left = left\n",
    "        self.right = right\n",
    "        \n",
    "def arrayToTree(S):\n",
    "    if S == '[]':\n",
    "        return None\n",
    "    \n",
    "    nodes = []\n",
    "    for s in S.strip('[]').split(','):\n",
    "        if s == 'null':\n",
    "            nodes.append(None)\n",
    "        else:\n",
    "            nodes.append(TreeNode(int(s)))\n",
    "    \n",
    "    stack = nodes[::-1]\n",
    "    root = stack.pop()\n",
    "    \n",
    "    for node in nodes:\n",
    "        if node:\n",
    "            if stack:\n",
    "                node.left = stack.pop()\n",
    "            if stack:\n",
    "                node.right = stack.pop()        \n",
    "    return root"
   ]
  },
  {
   "cell_type": "code",
   "execution_count": 15,
   "metadata": {},
   "outputs": [],
   "source": [
    "import turtle as t\n",
    "def drawTree(root):\n",
    "    \n",
    "    def height(root):\n",
    "        return 1 + max(height(root.left), height(root.right)) if root else -1\n",
    "    \n",
    "    def jumpto(x, y):\n",
    "        t.penup()\n",
    "        t.goto(x, y)\n",
    "        t.pendown()\n",
    "        \n",
    "    def draw(node, x, y, dx):\n",
    "        if node:\n",
    "            t.goto(x, y)\n",
    "            jumpto(x, y-20)\n",
    "            t.write(node.val, align='center', font=('Arial', 12, 'normal'))\n",
    "            draw(node.left, x-dx, y-60, dx/2)\n",
    "            jumpto(x, y-20)\n",
    "            draw(node.right, x+dx, y-60, dx/2) \n",
    "        \n",
    "\n",
    "    t.clear()\n",
    "    h = height(root)\n",
    "    jumpto(0, 30*h)\n",
    "    draw(root, 0, 30*h, 40*h)\n",
    "    \n",
    "    t.hideturtle()\n",
    "    t.exitonclick()\n",
    "    t.mainloop()"
   ]
  },
  {
   "cell_type": "code",
   "execution_count": 32,
   "metadata": {},
   "outputs": [],
   "source": [
    "nums = '[1,2,3,4,5,6,7,8,9,10,11,12,13,14,15]'\n",
    "root = arrayToTree(nums)"
   ]
  },
  {
   "cell_type": "code",
   "execution_count": 33,
   "metadata": {},
   "outputs": [],
   "source": [
    "def height(node):\n",
    "    if not node:\n",
    "        return 0\n",
    "    return 1 + max(height(node.left), height(node.right))"
   ]
  },
  {
   "cell_type": "code",
   "execution_count": 34,
   "metadata": {},
   "outputs": [
    {
     "data": {
      "text/plain": [
       "4"
      ]
     },
     "execution_count": 34,
     "metadata": {},
     "output_type": "execute_result"
    }
   ],
   "source": [
    "height(root)"
   ]
  },
  {
   "cell_type": "code",
   "execution_count": 28,
   "metadata": {},
   "outputs": [
    {
     "ename": "Terminator",
     "evalue": "",
     "output_type": "error",
     "traceback": [
      "\u001b[0;31m---------------------------------------------------------------------------\u001b[0m",
      "\u001b[0;31mTerminator\u001b[0m                                Traceback (most recent call last)",
      "\u001b[0;32m<ipython-input-28-dd5224798cbc>\u001b[0m in \u001b[0;36m<module>\u001b[0;34m\u001b[0m\n\u001b[0;32m----> 1\u001b[0;31m \u001b[0mdrawTree\u001b[0m\u001b[0;34m(\u001b[0m\u001b[0mroot\u001b[0m\u001b[0;34m)\u001b[0m\u001b[0;34m\u001b[0m\u001b[0;34m\u001b[0m\u001b[0m\n\u001b[0m",
      "\u001b[0;32m<ipython-input-15-c18fd8389f67>\u001b[0m in \u001b[0;36mdrawTree\u001b[0;34m(root)\u001b[0m\n\u001b[1;32m     27\u001b[0m     \u001b[0mt\u001b[0m\u001b[0;34m.\u001b[0m\u001b[0mhideturtle\u001b[0m\u001b[0;34m(\u001b[0m\u001b[0;34m)\u001b[0m\u001b[0;34m\u001b[0m\u001b[0;34m\u001b[0m\u001b[0m\n\u001b[1;32m     28\u001b[0m     \u001b[0mt\u001b[0m\u001b[0;34m.\u001b[0m\u001b[0mexitonclick\u001b[0m\u001b[0;34m(\u001b[0m\u001b[0;34m)\u001b[0m\u001b[0;34m\u001b[0m\u001b[0;34m\u001b[0m\u001b[0m\n\u001b[0;32m---> 29\u001b[0;31m     \u001b[0mt\u001b[0m\u001b[0;34m.\u001b[0m\u001b[0mmainloop\u001b[0m\u001b[0;34m(\u001b[0m\u001b[0;34m)\u001b[0m\u001b[0;34m\u001b[0m\u001b[0;34m\u001b[0m\u001b[0m\n\u001b[0m",
      "\u001b[0;32m/usr/lib/python3.6/turtle.py\u001b[0m in \u001b[0;36mmainloop\u001b[0;34m()\u001b[0m\n",
      "\u001b[0;31mTerminator\u001b[0m: "
     ]
    }
   ],
   "source": [
    "drawTree(root)"
   ]
  },
  {
   "cell_type": "markdown",
   "metadata": {},
   "source": [
    "### 9.0 Tree Traversals"
   ]
  },
  {
   "cell_type": "code",
   "execution_count": null,
   "metadata": {},
   "outputs": [],
   "source": [
    "class TreeTraversal:\n",
    "    \n",
    "    #(n)\n",
    "    def preOrder(self, node, order):\n",
    "        if node:\n",
    "            order.append(node.val)\n",
    "            self.preOrder(node.left,order)\n",
    "            self.preorder(node.right,order)\n",
    "            \n",
    "    def preOrder2(self, root):\n",
    "        order = []\n",
    "        if not root:\n",
    "            return order\n",
    "        \n",
    "        stack = [root]\n",
    "        while(stack):\n",
    "            node = stack.pop()\n",
    "            if node:\n",
    "                order.append(node.val)\n",
    "                stack.append(node.right)\n",
    "                stack.append(node.left)\n",
    "        return order\n",
    "    \n",
    "    #O(n)\n",
    "    def inOrder(self, node, order):\n",
    "        if node: \n",
    "            self.inOrder(node.left,order)\n",
    "            order.append(node.val)\n",
    "            self.inOrder(node.right,order)\n",
    "    \n",
    "    def inOrder2(root):\n",
    "            order = []\n",
    "            if not root:\n",
    "                return order\n",
    "\n",
    "            stack = [] # will only contain left children\n",
    "            node = root\n",
    "            while(stack or node):\n",
    "                if node:\n",
    "                    stack.append(node)\n",
    "                    node = node.left\n",
    "                else:\n",
    "                    node = stack.pop()\n",
    "                    order.append(node.val)\n",
    "                    node = node.right\n",
    "            return order\n",
    "    \n",
    "    #O(n)\n",
    "    def postOrder(self, node, order):\n",
    "        if node\n",
    "            self.postOrder(node.left,order)\n",
    "            self.postOrder(node.right,order)\n",
    "            order.append(node.val)\n",
    "            \n",
    "    def postOrder2(root):\n",
    "        order = []\n",
    "        if not root:\n",
    "            return order\n",
    "\n",
    "        visited = set()\n",
    "        stack = [] # to keep track of visiting the node twice\n",
    "        node = root\n",
    "        while(stack or node):\n",
    "            if node:\n",
    "                stack.append(node)\n",
    "                node = node.left\n",
    "            else:\n",
    "                node = stack.pop()\n",
    "                if node.right and not node.right in visited:\n",
    "                    stack.append(node)\n",
    "                    node = node.right\n",
    "                else:\n",
    "                    visited.add(node)\n",
    "                    order.append(node.val)\n",
    "                    node = None\n",
    "        return order"
   ]
  },
  {
   "cell_type": "code",
   "execution_count": null,
   "metadata": {},
   "outputs": [],
   "source": [
    "class TreeHeight:\n",
    "    \n",
    "    def height1(self, node):\n",
    "        if not node:\n",
    "            return 0\n",
    "        return 1 + max(self.height1(node.left), self.height1(node.right))"
   ]
  },
  {
   "cell_type": "code",
   "execution_count": null,
   "metadata": {},
   "outputs": [],
   "source": [
    "class TreeCount:\n",
    "    \n",
    "    def count1(self, node):\n",
    "        if not node:\n",
    "            return 0\n",
    "        return 1 + self.count1(node.left) + self.count1(node.right)"
   ]
  },
  {
   "cell_type": "code",
   "execution_count": null,
   "metadata": {},
   "outputs": [],
   "source": [
    "class TreeInvert:\n",
    "    \n",
    "    def mirror1(self, node):\n",
    "        if node:\n",
    "            node.left, node.right = node.right, node.left\n",
    "            self.mirror1(node.left)\n",
    "            self.mirror1(node.right)"
   ]
  },
  {
   "cell_type": "markdown",
   "metadata": {},
   "source": [
    "### [9.1 Test if a Binary Tree is Height-Balanced](https://leetcode.com/problems/balanced-binary-tree/)"
   ]
  },
  {
   "cell_type": "code",
   "execution_count": 35,
   "metadata": {},
   "outputs": [],
   "source": [
    "class HeightBalanced:\n",
    "    \n",
    "    def check1(self, root):\n",
    "        \n",
    "        Temp = collections.namedtuple('Temp',('balanced', 'height'))\n",
    "        \n",
    "        def checkBalance(node):\n",
    "            if not node:\n",
    "                return temp(True, -1)\n",
    "\n",
    "            leftSubtree = checkBalance(node.left)\n",
    "            if not leftSubtree.balanced:\n",
    "                return Temp(False,0)\n",
    "\n",
    "            rightSubtree = checkBalance(node.right)\n",
    "            if not rightSubtree.balanced:\n",
    "                return Temp(False, 0)\n",
    "            \n",
    "            isBalanced = abs(leftSubtree.height - rightSubtree.height) <= 1\n",
    "            height = max(leftSubtree.height, rightSubtree.height) + 1\n",
    "            return Temp(isBalanced, height)\n",
    "        \n",
    "        return checkBalance(root).balanced"
   ]
  },
  {
   "cell_type": "markdown",
   "metadata": {},
   "source": [
    "### Variant1: 1.Size of Largest Complete Subtree &nbsp;&nbsp; 2. K-balanced Tree"
   ]
  },
  {
   "cell_type": "code",
   "execution_count": null,
   "metadata": {},
   "outputs": [],
   "source": [
    "class Variant1:"
   ]
  },
  {
   "cell_type": "markdown",
   "metadata": {},
   "source": [
    "### [9.3 Test if a Binary Tree is Symmetric](https://leetcode.com/problems/symmetric-tree/)"
   ]
  },
  {
   "cell_type": "code",
   "execution_count": null,
   "metadata": {},
   "outputs": [],
   "source": [
    "class SymmetricTree:\n",
    "    \n",
    "    #O(n) \n",
    "    def check1(self, root):\n",
    "        if not root:\n",
    "            return True\n",
    "        queue = [(root,root)]\n",
    "        while(queue):\n",
    "            node1,node2 = queue.pop(0)\n",
    "            if not node1 and not node2:\n",
    "                continue\n",
    "            if not node1 or not node2:\n",
    "                return False\n",
    "            if node1.val != node2.val:\n",
    "                return False\n",
    "            queue.append((node1.left, node2.right))\n",
    "            queue.append((node1.right, node2.left))\n",
    "        return True\n",
    "    \n",
    "    #O(n)\n",
    "    def check2(self, root):\n",
    "        def mirror(node1, node2):\n",
    "            if not node1 and not node2:\n",
    "                return True\n",
    "            elif node1 and node2:\n",
    "                return (node1.val == node2.val and mirror(node1.left, node2.right) and mirror(node1.right, node2.left))\n",
    "            return False\n",
    "        return not root or mirror(root.left, node.right)"
   ]
  },
  {
   "cell_type": "markdown",
   "metadata": {},
   "source": [
    "### [9.3 Compute the Lowest Common Ancestor in a Binary Tree](https://leetcode.com/problems/lowest-common-ancestor-of-a-binary-tree/)"
   ]
  },
  {
   "cell_type": "code",
   "execution_count": null,
   "metadata": {},
   "outputs": [],
   "source": [
    "class CommonAncestor:\n",
    "    \n",
    "    #O(n)\n",
    "    def lowest1(self, root, node1, node2):\n",
    "        Status = collections.namedtuple('Status',('count','ancestor'))\n",
    "        \n",
    "        def recurssion(node, node1, node2):\n",
    "            if not node:\n",
    "                return Status(0,None)\n",
    "            \n",
    "            left = recurrsion(node.left, node1, node2)\n",
    "            if left.count == 2:\n",
    "                return left\n",
    "            right = recurrsion(node.right, node1, node2)\n",
    "            if right.count == 2:\n",
    "                return right\n",
    "            \n",
    "            count = (left.count + right.count + int(node is node1) + int(node is node2))\n",
    "            return Status(count, node if count ==2 else None)\n",
    "        \n",
    "        return recurssion(root, node1, node2).ancestor\n",
    "    \n",
    "    #O(n)\n",
    "    def lowest2(self, root, node1, node2):\n",
    "        \n",
    "        def recurssion(node, node1, node2):\n",
    "            if not node:\n",
    "                return None\n",
    "            if node == node1 or node == node2:\n",
    "                return node\n",
    "            \n",
    "            left = recurssion(node.left, node1, node2)\n",
    "            right = recurssion(node.right, node1, node2)\n",
    "            \n",
    "            if left and right:\n",
    "                return node\n",
    "            return left if left else right\n",
    "        \n",
    "        return recurssion(root, node1, node2)"
   ]
  },
  {
   "cell_type": "markdown",
   "metadata": {},
   "source": [
    "### 9.4 Compute the LCA when nodes have Parent Pointers"
   ]
  },
  {
   "cell_type": "markdown",
   "metadata": {},
   "source": [
    "### [9.5 Sum the root-leaf paths in a Binary Tree](https://leetcode.com/problems/sum-root-to-leaf-numbers/)"
   ]
  },
  {
   "cell_type": "code",
   "execution_count": null,
   "metadata": {},
   "outputs": [],
   "source": []
  },
  {
   "cell_type": "markdown",
   "metadata": {},
   "source": [
    "### Variant5: [0.all root-to-leaf paths](https://leetcode.com/problems/binary-tree-paths/) &nbsp;&nbsp; [1.given path sum exists or not](https://leetcode.com/problems/path-sum/) &nbsp;&nbsp; [2.all paths given sum](https://leetcode.com/problems/path-sum-ii/)"
   ]
  },
  {
   "cell_type": "code",
   "execution_count": 80,
   "metadata": {},
   "outputs": [],
   "source": [
    "class Variant6:\n",
    "    \n",
    "    def variant0A(self, root):\n",
    "        if not\n",
    "    \n",
    "    #O(n) - using recurssion\n",
    "    def variant1A(self, root, A):\n",
    "        def recurssion(node,ans):\n",
    "            if not node:\n",
    "                return False\n",
    "            ans += node.val\n",
    "            if (not node.left and not node.right and ans == A):\n",
    "                return True\n",
    "            return recurssion(node.left, ans) or recurssion(node.right, ans)\n",
    "        \n",
    "        return recurssion(root,0)\n",
    "    \n",
    "    #O(n)\n",
    "    def variant1B(self, root, A):\n",
    "        queue = [(root,0)]\n",
    "        while(queue):\n",
    "            node, ans = queue.pop(0)\n",
    "            ans += node.val\n",
    "            if (not node.left and not node.right and ans==A):\n",
    "                return True\n",
    "            if node.left:\n",
    "                queue.append((node.left, ans))\n",
    "            if node.right:\n",
    "                queue.append((node.right, ans))\n",
    "        return False\n",
    "        \n",
    "        \n",
    "    #O(n)\n",
    "    def variant2A(self, root, A):\n",
    "        def recurssion(node,path,ans):\n",
    "            if node:\n",
    "                ans += node.val\n",
    "                path.append(node.val)\n",
    "                if not node.left and not node.right and ans==A:\n",
    "                    result.append(path.copy())\n",
    "                    \n",
    "                recurssion(node.left,path,ans)\n",
    "                recurssion(node.right,path,ans)\n",
    "                path.pop()\n",
    "                \n",
    "        result = []\n",
    "        recurssion(root,[],0)\n",
    "        return result\n",
    "    \n",
    "    def variant2B(self, root, A):\n",
    "        result = []\n",
    "        if not root:\n",
    "            return result\n",
    "        \n",
    "        queue = [(root,[],0)]\n",
    "        while(queue):\n",
    "            node, path, ans = queue.pop(0)\n",
    "            \n",
    "        return result"
   ]
  },
  {
   "cell_type": "code",
   "execution_count": 81,
   "metadata": {},
   "outputs": [
    {
     "ename": "AttributeError",
     "evalue": "'NoneType' object has no attribute 'append'",
     "output_type": "error",
     "traceback": [
      "\u001b[0;31m---------------------------------------------------------------------------\u001b[0m",
      "\u001b[0;31mAttributeError\u001b[0m                            Traceback (most recent call last)",
      "\u001b[0;32m<ipython-input-81-e82a8979ee90>\u001b[0m in \u001b[0;36m<module>\u001b[0;34m\u001b[0m\n\u001b[1;32m      3\u001b[0m \u001b[0;34m\u001b[0m\u001b[0m\n\u001b[1;32m      4\u001b[0m \u001b[0;31m# V6.variant1(root,4)\u001b[0m\u001b[0;34m\u001b[0m\u001b[0;34m\u001b[0m\u001b[0;34m\u001b[0m\u001b[0m\n\u001b[0;32m----> 5\u001b[0;31m \u001b[0mV6\u001b[0m\u001b[0;34m.\u001b[0m\u001b[0mvariant2B\u001b[0m\u001b[0;34m(\u001b[0m\u001b[0mroot\u001b[0m\u001b[0;34m,\u001b[0m \u001b[0;36m22\u001b[0m\u001b[0;34m)\u001b[0m\u001b[0;34m\u001b[0m\u001b[0;34m\u001b[0m\u001b[0m\n\u001b[0m",
      "\u001b[0;32m<ipython-input-80-5a972d0e6470>\u001b[0m in \u001b[0;36mvariant2B\u001b[0;34m(self, root, A)\u001b[0m\n\u001b[1;32m     57\u001b[0m                     \u001b[0mresult\u001b[0m\u001b[0;34m.\u001b[0m\u001b[0mappend\u001b[0m\u001b[0;34m(\u001b[0m\u001b[0mpath\u001b[0m\u001b[0;34m.\u001b[0m\u001b[0mappend\u001b[0m\u001b[0;34m(\u001b[0m\u001b[0mnode\u001b[0m\u001b[0;34m.\u001b[0m\u001b[0mval\u001b[0m\u001b[0;34m)\u001b[0m\u001b[0;34m.\u001b[0m\u001b[0mcopy\u001b[0m\u001b[0;34m(\u001b[0m\u001b[0;34m)\u001b[0m\u001b[0;34m)\u001b[0m\u001b[0;34m\u001b[0m\u001b[0;34m\u001b[0m\u001b[0m\n\u001b[1;32m     58\u001b[0m                 \u001b[0;32mif\u001b[0m \u001b[0mnode\u001b[0m\u001b[0;34m.\u001b[0m\u001b[0mleft\u001b[0m\u001b[0;34m:\u001b[0m\u001b[0;34m\u001b[0m\u001b[0;34m\u001b[0m\u001b[0m\n\u001b[0;32m---> 59\u001b[0;31m                     \u001b[0mqueue\u001b[0m\u001b[0;34m.\u001b[0m\u001b[0mappend\u001b[0m\u001b[0;34m(\u001b[0m\u001b[0;34m(\u001b[0m\u001b[0mnode\u001b[0m\u001b[0;34m.\u001b[0m\u001b[0mleft\u001b[0m\u001b[0;34m,\u001b[0m\u001b[0mpath\u001b[0m\u001b[0;34m.\u001b[0m\u001b[0mappend\u001b[0m\u001b[0;34m(\u001b[0m\u001b[0mnode\u001b[0m\u001b[0;34m.\u001b[0m\u001b[0mval\u001b[0m\u001b[0;34m)\u001b[0m\u001b[0;34m,\u001b[0m\u001b[0mans\u001b[0m\u001b[0;34m)\u001b[0m\u001b[0;34m)\u001b[0m\u001b[0;34m\u001b[0m\u001b[0;34m\u001b[0m\u001b[0m\n\u001b[0m\u001b[1;32m     60\u001b[0m                 \u001b[0;32mif\u001b[0m \u001b[0mnode\u001b[0m\u001b[0;34m.\u001b[0m\u001b[0mright\u001b[0m\u001b[0;34m:\u001b[0m\u001b[0;34m\u001b[0m\u001b[0;34m\u001b[0m\u001b[0m\n\u001b[1;32m     61\u001b[0m                     \u001b[0mqueue\u001b[0m\u001b[0;34m.\u001b[0m\u001b[0mappend\u001b[0m\u001b[0;34m(\u001b[0m\u001b[0;34m(\u001b[0m\u001b[0mnode\u001b[0m\u001b[0;34m.\u001b[0m\u001b[0mright\u001b[0m\u001b[0;34m,\u001b[0m\u001b[0mpath\u001b[0m\u001b[0;34m.\u001b[0m\u001b[0mappend\u001b[0m\u001b[0;34m(\u001b[0m\u001b[0mnode\u001b[0m\u001b[0;34m.\u001b[0m\u001b[0mval\u001b[0m\u001b[0;34m)\u001b[0m\u001b[0;34m,\u001b[0m\u001b[0mans\u001b[0m\u001b[0;34m)\u001b[0m\u001b[0;34m)\u001b[0m\u001b[0;34m\u001b[0m\u001b[0;34m\u001b[0m\u001b[0m\n",
      "\u001b[0;31mAttributeError\u001b[0m: 'NoneType' object has no attribute 'append'"
     ]
    }
   ],
   "source": [
    "V6 = Variant6()\n",
    "root = arrayToTree('[5,4,8,11,null,13,4,7,2,null,null,5,1]')\n",
    "\n",
    "# V6.variant1(root,4)\n",
    "V6.variant2B(root, 22)"
   ]
  },
  {
   "cell_type": "code",
   "execution_count": null,
   "metadata": {},
   "outputs": [],
   "source": []
  },
  {
   "cell_type": "code",
   "execution_count": null,
   "metadata": {},
   "outputs": [],
   "source": []
  }
 ],
 "metadata": {
  "kernelspec": {
   "display_name": "Python 3",
   "language": "python",
   "name": "python3"
  },
  "language_info": {
   "codemirror_mode": {
    "name": "ipython",
    "version": 3
   },
   "file_extension": ".py",
   "mimetype": "text/x-python",
   "name": "python",
   "nbconvert_exporter": "python",
   "pygments_lexer": "ipython3",
   "version": "3.6.9"
  }
 },
 "nbformat": 4,
 "nbformat_minor": 4
}
