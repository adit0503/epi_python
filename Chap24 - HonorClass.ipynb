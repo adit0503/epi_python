{
 "cells": [
  {
   "cell_type": "markdown",
   "metadata": {},
   "source": [
    "# Chapter 24: Honor Class\n",
    "\n",
    "1. Compute the greatest common divisor\n",
    "2. Find the first missing positive entry\n",
    "3. Buy and sell a stock k times\n",
    "4. Compute the maximum product of all entries but one \n",
    "5. Compute the longest contiguous increasing subarray \n",
    "6. Rotate an array \n",
    "7. Identify positions attacked by rooks \n",
    "8. Justify text \n",
    "9. Implement list zipping \n",
    "10. Copy a postings list \n",
    "11. Compute the longest substring with matching parens \n",
    "12. Compute the maximum of a sliding window \n",
    "13. Implement a postorder traversal without recursion \n",
    "14. Compute fair bonuses \n",
    "15. Search a sorted array of unknown length \n",
    "16. Search in two sorted arrays \n",
    "17. Find the fcth largest element—large n, small k \n",
    "18. Find an element that appears only once \n",
    "19. Find the line through the most points\n",
    "20. Convert a sorted doubly linked list into a BST \n",
    "21. Convert a BST to a sorted doubly linked list \n",
    "22. Merge two BSTs\n",
    "23. Implement regular expression matching \n",
    "24. Synthesize an expression \n",
    "25. Count inversions \n",
    "26. Draw the skyline \n",
    "27. Measure with defective jugs\n",
    "28. Compute the maximum subarray sum in a circular array\n",
    "29. Determine the critical height\n",
    "30. Find the maximum 2D subarray \n",
    "31. Implement Huffman coding \n",
    "32. Trapping water \n",
    "33. The heavy hitter problem\n",
    "34. Find the longest subarray whose sum <= k\n",
    "35. Road network\n",
    "36. Test if arbitrage is possible"
   ]
  },
  {
   "cell_type": "code",
   "execution_count": null,
   "metadata": {},
   "outputs": [],
   "source": [
    "import random, sys"
   ]
  },
  {
   "cell_type": "markdown",
   "metadata": {},
   "source": [
    "### 24.1 Compute the Greatest Common Divisor"
   ]
  },
  {
   "cell_type": "code",
   "execution_count": null,
   "metadata": {},
   "outputs": [],
   "source": [
    "class GreatestCommonDivisor:\n",
    "    \n",
    "    #O(2^n)\n",
    "    def compute1(self, x, y):\n",
    "        def gcd(a,b):\n",
    "            if a==b:\n",
    "                return a\n",
    "            return gcd(a-b,b) if a>b else gcd(b-a,a)\n",
    "        return gcd(x,y)\n",
    "    \n",
    "    #O(2^n)\n",
    "    def compute2(self, x, y):\n",
    "        def gcd(a,b):\n",
    "            if not a%b:\n",
    "                return b\n",
    "            return gcd(b,a%b)\n",
    "        return gcd(x,y)\n",
    "    \n",
    "    #O(logx + logy)\n",
    "    def compute3(self, x, y):\n",
    "        def gcd(a, b):\n",
    "            if a>b:\n",
    "                return gcd(b,a)\n",
    "            elif a == 0:\n",
    "                return b\n",
    "            elif not a&1 and not b&1:\n",
    "                return gcd(a>>1,b>>1) << 1\n",
    "            elif not a&1 and b&1:\n",
    "                return gcd(a>>1,b)\n",
    "            elif a&1 and not b&1:\n",
    "                return gcd(a,b>>1)\n",
    "            return gcd(a,b-a)\n",
    "        return gcd(x,y)"
   ]
  },
  {
   "cell_type": "code",
   "execution_count": null,
   "metadata": {},
   "outputs": [],
   "source": [
    "GCD = GreatestCommonDivisor()\n",
    "\n",
    "X,Y = random.randint(10,99), random.randint(10,99)\n",
    "print(X,Y,GCD.compute3(X,Y))"
   ]
  },
  {
   "cell_type": "markdown",
   "metadata": {},
   "source": [
    "### [24.2 Find the First Missing Positive Entry](https://leetcode.com/problems/first-missing-positive/)"
   ]
  },
  {
   "cell_type": "code",
   "execution_count": null,
   "metadata": {},
   "outputs": [],
   "source": [
    "class FirstPositive:\n",
    "    \n",
    "    #O(n)\n",
    "    def find1(self, nums):\n",
    "        temp = set(nums)\n",
    "        i = 1\n",
    "        while(True):\n",
    "            if i not in temp:\n",
    "                return i\n",
    "            i += 1\n",
    "    \n",
    "    #O(n) - without using extra space\n",
    "    def find2(self, nums):\n",
    "        for i in range(len(nums)):\n",
    "            while(1<=nums[i]<=len(nums) and nums[i]!=nums[nums[i]-1]):\n",
    "                nums[nums[i]-1], nums[i] = nums[i], nums[nums[i]-1]\n",
    "        return next((i+1 for i,n in enumerate(nums) if n!=i+1), len(nums)+1)"
   ]
  },
  {
   "cell_type": "code",
   "execution_count": null,
   "metadata": {},
   "outputs": [],
   "source": [
    "FP = FirstPositive()\n",
    "\n",
    "nums = [random.randint(-9,9) for _ in range(10)]\n",
    "print(nums,FP.find2(nums))"
   ]
  },
  {
   "cell_type": "markdown",
   "metadata": {},
   "source": [
    "### [24.3 Buy and Sell a Stock K times](https://leetcode.com/problems/best-time-to-buy-and-sell-stock-iv/)"
   ]
  },
  {
   "cell_type": "code",
   "execution_count": null,
   "metadata": {},
   "outputs": [],
   "source": [
    "class BuySellKTimes:\n",
    "    \n",
    "    def profit1(self, prices, k):\n",
    "        if not k:\n",
    "            return 0.0\n",
    "        elif 2*k >= len(prices):\n",
    "            return sum(max(0,b-a) for a,b in zip(prices[:-1], prices[1:]))\n",
    "        \n",
    "        minVal, maxPro = [float('inf')]*k, [0]*k\n",
    "        for price in prices:\n",
    "            for i in reversed(list(range(k))):\n",
    "                maxPro[i] = max(maxPro[i], price-minVal[i])\n",
    "                minVal[i] = min(minVal[i], price-(0 if i==0 else maxPro[i-1]))\n",
    "        return maxPro[-1]"
   ]
  },
  {
   "cell_type": "code",
   "execution_count": null,
   "metadata": {},
   "outputs": [],
   "source": [
    "BS = BuySellKTimes()\n",
    "\n",
    "PRICES = [[2,4,1],[3,2,6,5,0,3]]\n",
    "K = [2,2]\n",
    "\n",
    "for prices,k in zip(PRICES,K):\n",
    "    print(BS.profit1(prices,k))"
   ]
  },
  {
   "cell_type": "markdown",
   "metadata": {},
   "source": [
    "### [24.4 Compute the Maximum Product of All Entries but One](https://leetcode.com/problems/product-of-array-except-self/)"
   ]
  },
  {
   "cell_type": "code",
   "execution_count": null,
   "metadata": {},
   "outputs": [],
   "source": [
    "class ArrayProduct:\n",
    "    \n",
    "    #O(n) TLE: using division\n",
    "    def compute(self, nums):\n",
    "        p = 1\n",
    "        for n in nums:\n",
    "            p *= n\n",
    "        ans = -sys.maxsize\n",
    "        for n in nums:\n",
    "            ans = max(ans,p//n)\n",
    "        return ans\n",
    "    \n",
    "    #O(n2) - TLE: brute-force\n",
    "    def compute1(self, nums):\n",
    "        def product(arr):\n",
    "            prod = 1\n",
    "            for a in arr:\n",
    "                prod *= a\n",
    "            return prod\n",
    "        \n",
    "        res,ans = [], -sys.maxsize\n",
    "        for i in range(len(nums)):\n",
    "            temp = product(nums[:i]+nums[i+1:])\n",
    "            res.extend([temp])\n",
    "            ans = max(ans, temp)\n",
    "        return res\n",
    "    \n",
    "    #O(n2) - TLE: using forward and backward computation\n",
    "    def compute2(self, nums):\n",
    "        fwd = [1]\n",
    "        for n in nums:\n",
    "            fwd.extend([fwd[-1]*n])\n",
    "        \n",
    "        bwd = [1]\n",
    "        for n in reversed(nums):\n",
    "            bwd.extend([bwd[-1]*n])\n",
    "        \n",
    "        res = []\n",
    "        for i in range(len(nums)):\n",
    "            res.extend([(1 if i==0 else fwd[1:][i-1])*(1 if i==len(nums)-1 else bwd[1:][::-1][i+1])])\n",
    "        return res\n",
    "    \n",
    "    \n",
    "    #O(n) - left/right product arrays with O(n) additional space\n",
    "    def compute3(self, nums):\n",
    "        left = [1]*len(nums)\n",
    "        for i in range(1,len(nums)):\n",
    "            left[i] = nums[i-1]*left[i-1]\n",
    "            \n",
    "        right = [1]*len(nums)\n",
    "        for i in reversed(range(len(nums)-1)):\n",
    "            right[i] = nums[i+1]*right[i+1]\n",
    "            \n",
    "        ans,res = 1,[]\n",
    "        for i in range(len(nums)):\n",
    "            res.append(left[i]*right[i])\n",
    "            ans = max(ans,res[-1])\n",
    "        return res,ans\n",
    "    \n",
    "    #O(n) - left/right traversal with O(1) space\n",
    "    def compute4(self, nums):\n",
    "        right = [1]*len(nums)\n",
    "        for i in reversed(range(len(nums)-1)):\n",
    "            right[i] = right[i+1]*nums[i+1]\n",
    "        \n",
    "        ans, left = 1,1\n",
    "        for i in range(len(nums)):\n",
    "            ans = max(ans,left*right[i])\n",
    "            right[i] *= left\n",
    "            left *= nums[i]\n",
    "        return right,ans\n",
    "    \n",
    "    #O(n) - using number of negative entries analysis : find out which index to skip\n",
    "    def compute5(self, nums):\n",
    "        minNeg = maxNeg = minPos = None\n",
    "        nNeg = 0\n",
    "        \n",
    "        for i,n in enumerate(nums):\n",
    "            if n<0:\n",
    "                nNeg += 1\n",
    "                if not minNeg or nums[minNeg] < n:\n",
    "                    minNeg = i\n",
    "                if not maxNeg or n < nums[maxNeg]:\n",
    "                    maxNeg = i\n",
    "            else:\n",
    "                if not minPos or n < nums[minPos]:\n",
    "                    minPos = i\n",
    "        skipIndex = minNeg if nNeg%2 else (minPos if minPos else maxNeg)\n",
    "        ans = 1\n",
    "        for i,n in enumerate(nums):\n",
    "            if i != skipIndex:\n",
    "                ans *= n\n",
    "        return ans"
   ]
  },
  {
   "cell_type": "code",
   "execution_count": null,
   "metadata": {},
   "outputs": [],
   "source": [
    "AP = ArrayProduct()\n",
    "\n",
    "NUMS = [random.randint(-10,10) for _ in range(6)]\n",
    "print(NUMS)\n",
    "print(AP.compute5(NUMS))"
   ]
  },
  {
   "cell_type": "markdown",
   "metadata": {},
   "source": [
    "### Variant4 : [1.Maximum Product of Three Numbers](https://leetcode.com/problems/maximum-product-of-three-numbers/)"
   ]
  },
  {
   "cell_type": "code",
   "execution_count": null,
   "metadata": {},
   "outputs": [],
   "source": [
    "class Variant4:\n",
    "    \n",
    "    #O(n3) - Brute force with 3 loops\n",
    "    def variant1A(self, nums):\n",
    "        ans = -sys.maxsize\n",
    "        if len(nums)<3:\n",
    "            for n in nums:\n",
    "                ans *= n\n",
    "            return ans\n",
    "            \n",
    "        for i in range(len(nums)-2):\n",
    "            for j in range(i+1,len(nums)-1):\n",
    "                for k in range(j+1,len(nums)):\n",
    "                    ans = max(ans, nums[i]*nums[j]*nums[k])\n",
    "        return ans\n",
    "    \n",
    "    #O(nlogn) - using sort\n",
    "    def variant1B(self, nums):\n",
    "        nums.sort()\n",
    "        return max(nums[-1]*nums[-2]*nums[-3], nums[0]*nums[1]*nums[-1])"
   ]
  },
  {
   "cell_type": "markdown",
   "metadata": {},
   "source": [
    "### [24.5 Compute the Longest Contiguous Increasing Subarray](https://leetcode.com/problems/longest-continuous-increasing-subsequence/)"
   ]
  },
  {
   "cell_type": "code",
   "execution_count": 56,
   "metadata": {},
   "outputs": [],
   "source": [
    "class LongestIncreasing:\n",
    "    \n",
    "    #O(n)\n",
    "    def compute1(self, nums):\n",
    "        start,end = 0,0\n",
    "        i = 0\n",
    "        ans = 0\n",
    "        while(i<len(nums)):\n",
    "            j = i\n",
    "            while(j<len(nums)-1 and nums[j]<nums[j+1]):\n",
    "                j += 1\n",
    "            ans = max(ans,j-i+1)\n",
    "            i = j+1\n",
    "        return ans"
   ]
  },
  {
   "cell_type": "code",
   "execution_count": 57,
   "metadata": {},
   "outputs": [
    {
     "name": "stdout",
     "output_type": "stream",
     "text": [
      "3\n",
      "3\n",
      "1\n"
     ]
    }
   ],
   "source": [
    "LI = LongestIncreasing()\n",
    "nums = [[1,3,5,4,7],[2,11,3,5,13,7,19,17,16],[1,1,1,1,1]]\n",
    "for num in nums:\n",
    "    print(LI.compute1(num))"
   ]
  },
  {
   "cell_type": "markdown",
   "metadata": {},
   "source": [
    "### [24.6 Rotate an Array](https://leetcode.com/problems/rotate-array/)"
   ]
  },
  {
   "cell_type": "code",
   "execution_count": 63,
   "metadata": {},
   "outputs": [],
   "source": [
    "class RotateArray:\n",
    "    \n",
    "    #O(k*n) TLE: shift elements by 1, k times\n",
    "    def rotate1(self, nums, k):\n",
    "        for _ in range(k):\n",
    "            temp = nums[-1]\n",
    "            for i in range(len(nums)-1,0,-1):\n",
    "                nums[i] = nums[i-1]\n",
    "            nums[0] = temp\n",
    "        \n",
    "        "
   ]
  },
  {
   "cell_type": "code",
   "execution_count": 65,
   "metadata": {},
   "outputs": [
    {
     "name": "stdout",
     "output_type": "stream",
     "text": [
      "[5, 6, 7, 1, 2, 3, 4]\n",
      "[3, 99, -1, -100]\n"
     ]
    }
   ],
   "source": [
    "RA = RotateArray()\n",
    "NUMS = [[1,2,3,4,5,6,7],[-1,-100,3,99]]\n",
    "K = [3,2]\n",
    "for nums,k in zip(NUMS,K):\n",
    "    RA.rotate1(nums,k)\n",
    "    print(nums)"
   ]
  },
  {
   "cell_type": "code",
   "execution_count": null,
   "metadata": {},
   "outputs": [],
   "source": []
  }
 ],
 "metadata": {
  "kernelspec": {
   "display_name": "Python 3",
   "language": "python",
   "name": "python3"
  },
  "language_info": {
   "codemirror_mode": {
    "name": "ipython",
    "version": 3
   },
   "file_extension": ".py",
   "mimetype": "text/x-python",
   "name": "python",
   "nbconvert_exporter": "python",
   "pygments_lexer": "ipython3",
   "version": "3.8.5"
  }
 },
 "nbformat": 4,
 "nbformat_minor": 4
}
