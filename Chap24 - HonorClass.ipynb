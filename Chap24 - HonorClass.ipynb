{
 "cells": [
  {
   "cell_type": "markdown",
   "metadata": {},
   "source": [
    "# Chapter 24: Honor Class"
   ]
  },
  {
   "cell_type": "code",
   "execution_count": 1,
   "metadata": {},
   "outputs": [],
   "source": [
    "import random, sys"
   ]
  },
  {
   "cell_type": "markdown",
   "metadata": {},
   "source": [
    "### 24.1 Compute the Greatest Common Divisor"
   ]
  },
  {
   "cell_type": "code",
   "execution_count": null,
   "metadata": {},
   "outputs": [],
   "source": [
    "class GreatestCommonDivisor:\n",
    "    \n",
    "    #O(2^n)\n",
    "    def compute1(self, x, y):\n",
    "        def gcd(a,b):\n",
    "            if a==b:\n",
    "                return a\n",
    "            return gcd(a-b,b) if a>b else gcd(b-a,a)\n",
    "        return gcd(x,y)\n",
    "    \n",
    "    #O(2^n)\n",
    "    def compute2(self, x, y):\n",
    "        def gcd(a,b):\n",
    "            if not a%b:\n",
    "                return b\n",
    "            return gcd(b,a%b)\n",
    "        return gcd(x,y)\n",
    "    \n",
    "    #O(logx + logy)\n",
    "    def compute3(self, x, y):\n",
    "        def gcd(a, b):\n",
    "            if a>b:\n",
    "                return gcd(b,a)\n",
    "            elif a == 0:\n",
    "                return b\n",
    "            elif not a&1 and not b&1:\n",
    "                return gcd(a>>1,b>>1) << 1\n",
    "            elif not a&1 and b&1:\n",
    "                return gcd(a>>1,b)\n",
    "            elif a&1 and not b&1:\n",
    "                return gcd(a,b>>1)\n",
    "            return gcd(a,b-a)\n",
    "        return gcd(x,y)"
   ]
  },
  {
   "cell_type": "code",
   "execution_count": null,
   "metadata": {},
   "outputs": [],
   "source": [
    "GCD = GreatestCommonDivisor()\n",
    "\n",
    "X,Y = random.randint(10,99), random.randint(10,99)\n",
    "print(X,Y,GCD.compute3(X,Y))"
   ]
  },
  {
   "cell_type": "markdown",
   "metadata": {},
   "source": [
    "### [24.2 Find the First Missing Positive Entry](https://leetcode.com/problems/first-missing-positive/)"
   ]
  },
  {
   "cell_type": "code",
   "execution_count": 2,
   "metadata": {},
   "outputs": [],
   "source": [
    "class FirstPositive:\n",
    "    \n",
    "    #O(n)\n",
    "    def find1(self, nums):\n",
    "        temp = set(nums)\n",
    "        i = 1\n",
    "        while(True):\n",
    "            if i not in temp:\n",
    "                return i\n",
    "            i += 1\n",
    "    \n",
    "    #O(n) - without using extra space\n",
    "    def find2(self, nums):\n",
    "        for i in range(len(nums)):\n",
    "            while(1<=nums[i]<=len(nums) and nums[i]!=nums[nums[i]-1]):\n",
    "                nums[nums[i]-1], nums[i] = nums[i], nums[nums[i]-1]\n",
    "        return next((i+1 for i,n in enumerate(nums) if n!=i+1), len(nums)+1)"
   ]
  },
  {
   "cell_type": "code",
   "execution_count": 5,
   "metadata": {},
   "outputs": [
    {
     "name": "stdout",
     "output_type": "stream",
     "text": [
      "[-8, -4, -9, 4, 5, -7, -3, 8, 9, 0] 1\n"
     ]
    }
   ],
   "source": [
    "FP = FirstPositive()\n",
    "\n",
    "nums = [random.randint(-9,9) for _ in range(10)]\n",
    "print(nums,FP.find2(nums))"
   ]
  },
  {
   "cell_type": "markdown",
   "metadata": {},
   "source": [
    "### [24.3 Buy and Sell a Stock K times](https://leetcode.com/problems/best-time-to-buy-and-sell-stock-iv/)"
   ]
  },
  {
   "cell_type": "code",
   "execution_count": null,
   "metadata": {},
   "outputs": [],
   "source": [
    "class BuySellKTimes:\n",
    "    \n",
    "    "
   ]
  }
 ],
 "metadata": {
  "kernelspec": {
   "display_name": "Python 3",
   "language": "python",
   "name": "python3"
  },
  "language_info": {
   "codemirror_mode": {
    "name": "ipython",
    "version": 3
   },
   "file_extension": ".py",
   "mimetype": "text/x-python",
   "name": "python",
   "nbconvert_exporter": "python",
   "pygments_lexer": "ipython3",
   "version": "3.8.5"
  }
 },
 "nbformat": 4,
 "nbformat_minor": 4
}
