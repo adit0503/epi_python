{
 "cells": [
  {
   "cell_type": "markdown",
   "metadata": {},
   "source": [
    "# Chapter 19: Parallel Computing"
   ]
  },
  {
   "cell_type": "code",
   "execution_count": 1,
   "metadata": {},
   "outputs": [],
   "source": [
    "import threading"
   ]
  },
  {
   "cell_type": "code",
   "execution_count": null,
   "metadata": {},
   "outputs": [],
   "source": [
    "class Semaphore():\n",
    "    def __init__(self, max_avaliable):\n",
    "        self.cv = threading.Condition()\n",
    "        self.MAX_AVALILABLE = max_available\n",
    "        self.taken = 0\n",
    "        \n",
    "    def acquire(self):\n",
    "        self.cv.acquire()\n",
    "        while(self.taken == self.MAX_AVAILABLE):\n",
    "            self.cv.wait()\n",
    "        self.taken += 1\n",
    "        self.cv.release()\n",
    "        \n",
    "    def release(self):\n",
    "        self.cv.acquire()\n",
    "        self.taken -= 1\n",
    "        self.cv.notify()\n",
    "        self.cv.release()"
   ]
  },
  {
   "cell_type": "markdown",
   "metadata": {},
   "source": [
    "### 19.1 Implement Caching for a Multithreaded Dictionary"
   ]
  },
  {
   "cell_type": "code",
   "execution_count": null,
   "metadata": {},
   "outputs": [],
   "source": []
  },
  {
   "cell_type": "code",
   "execution_count": null,
   "metadata": {},
   "outputs": [],
   "source": []
  }
 ],
 "metadata": {
  "kernelspec": {
   "display_name": "Python 3",
   "language": "python",
   "name": "python3"
  },
  "language_info": {
   "codemirror_mode": {
    "name": "ipython",
    "version": 3
   },
   "file_extension": ".py",
   "mimetype": "text/x-python",
   "name": "python",
   "nbconvert_exporter": "python",
   "pygments_lexer": "ipython3",
   "version": "3.8.5"
  }
 },
 "nbformat": 4,
 "nbformat_minor": 4
}
